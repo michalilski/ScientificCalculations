{
 "cells": [
  {
   "cell_type": "markdown",
   "metadata": {},
   "source": [
    "# Lista 5\n",
    "#### Michał Ilski 250079"
   ]
  },
  {
   "cell_type": "markdown",
   "metadata": {},
   "source": [
    "#### Własna implementacja przechowywania macierzy\n",
    "\n",
    "Macierz wejściowa **A** składa się w z bloków mniejszych macierzy typu $A$, $B$ i $C$ oraz zer. Znając układ takiej macierzy (rysunek niżej) można zaproponować wydajny sposób przechowywania jej w pamięci. W tym celu została zaimplementowana struktura *CustomMatrix*, zawierająca wartości *n, l, v* (kolejno rozmiar kwadratowej macierzy **A**, rozmiar bloku i $v=\\frac{n}{l}$) oraz listy bloków $A$, $B$ i $C$."
   ]
  },
  {
   "cell_type": "code",
   "execution_count": 1,
   "metadata": {},
   "outputs": [],
   "source": [
    "mutable struct CustomMatrix\n",
    "    n::Int64\n",
    "    l::Int64\n",
    "    v::Int64\n",
    "    A_blocks::Array{Array{Float64,2},1}\n",
    "    B_blocks::Array{Array{Float64,2},1}\n",
    "    C_blocks::Array{Array{Float64,2},1}\n",
    "    function CustomMatrix(n::Int64, l::Int64)\n",
    "        v = n/l\n",
    "        A_blocks = [Array{Float64}(zeros(l,l)) for idx in 1:n]\n",
    "        B_blocks = [Array{Float64}(zeros(l,l)) for idx in 1:n]\n",
    "        C_blocks = [Array{Float64}(zeros(l,l)) for idx in 1:n]\n",
    "        return new(n, l, v, A_blocks, B_blocks, C_blocks)\n",
    "    end\n",
    "end"
   ]
  },
  {
   "cell_type": "markdown",
   "metadata": {},
   "source": [
    "Funkcja *set_value* służy do ustawiania wartości *value* w macierzy *c* dla komórki o indeksie *[i,j]*. Na podstawie rozmiaru bloku w macierzy *A* oraz indeksie rzędu *i*, możemy określi zakres kolumn, w których możemy dokonać zmiany wartości. Do tego wyznaczam pomocniczą wartość $k = \\lfloor\\frac{i-1}{l}\\rfloor\\cdot l$. Ta zmienna wyznacza pierwszą kolumnę, znajdującą się przed blokiem $A$ w rzędzie *i* (w szczególności może być równa $0$, czyli poza macierzą). Następnie sprawdzam, gdzie względem *k* znajduje się indeks $j$ i odpowiednio przechodzę do bloków $A$, $B$, $C$, lub zgłaszam błąd, gdybym wyszedł poza zakres tych bloków. Następnie na podstawie rzędu *i* wybieram odpowiedni blok z listy bloków i ustawiam w nim wartość. Indeksy względne w każdym bloku wyznaczam za pomocą operacji $(i-1)mod(l)+1$ oraz $(j-1)mod(l)+1$, ponieważ indeksowanie w języku Julia odbywa się od $1$ (a nie od $0$)."
   ]
  },
  {
   "cell_type": "code",
   "execution_count": 20,
   "metadata": {},
   "outputs": [
    {
     "data": {
      "text/plain": [
       "set_value (generic function with 1 method)"
      ]
     },
     "execution_count": 20,
     "metadata": {},
     "output_type": "execute_result"
    }
   ],
   "source": [
    "function set_value(c::CustomMatrix, i::Int64, j::Int64, value::Float64)\n",
    "    l = c.l\n",
    "    k = ((i-1)÷l)*l\n",
    "    if j in k+1:k+l\n",
    "        c.A_blocks[(i÷l)+1][((i-1)%l+1), ((j-1)%l+1)] = value\n",
    "    elseif j in k-l+1:k\n",
    "        c.B_blocks[(i÷l)+1][((i-1)%l+1), ((j-1)%l+1)] = value\n",
    "    elseif j in k+l+1:k+2*l\n",
    "        c.C_blocks[(i÷l)+1][((i-1)%l+1), ((j-1)%l+1)] = value\n",
    "    else\n",
    "         println(\"ERROR in \", i, \" \", j)\n",
    "    end\n",
    "end"
   ]
  },
  {
   "cell_type": "markdown",
   "metadata": {},
   "source": [
    "Funkcja *get_value* pobiera wartość z macierzy *c*, z komórki o indeksie *[i,j]*. Zasada dostawania się do komórki jest identyczna jak wyżej, z tą różnicą, że możemy zaglądać poza wyznaczone bloki $A$, $B$ i $C$ - wtedy dostajemy wartość $0$."
   ]
  },
  {
   "cell_type": "code",
   "execution_count": 3,
   "metadata": {},
   "outputs": [
    {
     "data": {
      "text/plain": [
       "get_value (generic function with 1 method)"
      ]
     },
     "execution_count": 3,
     "metadata": {},
     "output_type": "execute_result"
    }
   ],
   "source": [
    "function get_value(c::CustomMatrix, i::Int64, j::Int64)\n",
    "    l = c.l\n",
    "    k = ((i-1)÷l)*l\n",
    "    if j in k+1:k+l\n",
    "        return c.A_blocks[(i÷l)+1][((i-1)%l+1), ((j-1)%l+1)]\n",
    "    elseif j in k-l+1:k\n",
    "        return c.B_blocks[(i÷l)+1][((i-1)%l+1), ((j-1)%l+1)]\n",
    "    elseif j in k+l+1:k+2*l\n",
    "        return c.C_blocks[(i÷l)+1][((i-1)%l+1), ((j-1)%l+1)]\n",
    "    end\n",
    "    return 0.0\n",
    "end"
   ]
  },
  {
   "cell_type": "markdown",
   "metadata": {},
   "source": [
    "#### Funkcja czytająca macierz z pliku  \n",
    "Funkcja read_matrix na wejściu przyjmuje ścieżkę, w którym znajduje się plik z macierzą oraz nazwę pliku. W funkcji w pierwszej kolejności czytane są wartości $n$ (rozmiar macierzy) oraz $l$ (rozmiar bloków w macierzy głównej). Następnie każda kolejna linia to $i$ (pierwszy indeks macierzy), $j$ (drugi indeks macierzy), $A[i,j]$. Komórki macierzy, dla których nie zostały podane wartości w pliku przyjmują wartość $0$. Zwracana jest wczytana macierz, $n$ oraz $l$."
   ]
  },
  {
   "cell_type": "code",
   "execution_count": 4,
   "metadata": {},
   "outputs": [
    {
     "data": {
      "text/plain": [
       "read_matrix (generic function with 1 method)"
      ]
     },
     "execution_count": 4,
     "metadata": {},
     "output_type": "execute_result"
    }
   ],
   "source": [
    "function read_matrix(folder::String,filename::String)\n",
    "    path = \"$folder/$filename\"\n",
    "    \n",
    "    open(path, \"r\") do io\n",
    "        n, l = (parse(Int64, x) for x in split(readline(io), \" \"))\n",
    "        matrix = CustomMatrix(n,l)\n",
    "        while !eof(io)\n",
    "            line = split(readline(io), \" \")\n",
    "            i,j,value = (parse(Int64,line[1]), parse(Int64,line[2]), parse(Float64,line[3]))\n",
    "            set_value(matrix, i, j ,value)\n",
    "        end\n",
    "        \n",
    "        return matrix, n, l\n",
    "    end    \n",
    "end"
   ]
  },
  {
   "cell_type": "markdown",
   "metadata": {},
   "source": [
    "#### Funkcja czytająca wektor z pliku\n",
    "Wektor wczytywany jest podobnie jak wyżej. Tutaj jednak jedynymi danymi są długość wektora $n$ oraz jego $n$ wartości. Zwracany jest wektor wraz z wymiarem."
   ]
  },
  {
   "cell_type": "code",
   "execution_count": 5,
   "metadata": {},
   "outputs": [
    {
     "data": {
      "text/plain": [
       "read_vector (generic function with 1 method)"
      ]
     },
     "execution_count": 5,
     "metadata": {},
     "output_type": "execute_result"
    }
   ],
   "source": [
    "function read_vector(folder::String,filename::String)\n",
    "    path = \"$folder/$filename\"\n",
    "    \n",
    "    open(path, \"r\") do io\n",
    "        n = parse(Int64, readline(io))\n",
    "        vector = Vector{Float64}(zeros(n))\n",
    "        for i in 1:n\n",
    "            vector[i] = parse(Float64, readline(io))\n",
    "        end\n",
    "        \n",
    "        return vector, n\n",
    "    end    \n",
    "end"
   ]
  },
  {
   "cell_type": "markdown",
   "metadata": {},
   "source": [
    "#### Funkcja generująca wektor $b$\n",
    "Znając macierz $A$ oraz wiedząc, że wektor $x = [1,...,1]^{T}$, możemy samodzielnie wyznaczyć postać wektora $b$. W tym celu wykonuję mnożenie $Ax = b$. W pętli iteruję po wszystkich rzędach, natomiast ze względu na specyficzną postać macierzy $A$, nie muszę iterować po wszystkich kolumnach. Będąc w $i$-tym rzędzie, sumuję wartości w zakresie od $max\\{1,l\\cdot\\lceil\\frac{i-l}{l}\\rceil\\}$ do $min\\{n,l\\cdot\\lceil\\frac{i-l}{l}\\rceil+l\\}$, co obejmuje wartości z bloków $A_x$ i $B_x$ oraz w przypadku, gdy $i+l \\leq n$, do $b[i]$ dodaję jeszcze $A[i, i+l]$, czyli bloki $C_x$."
   ]
  },
  {
   "cell_type": "code",
   "execution_count": 6,
   "metadata": {},
   "outputs": [
    {
     "data": {
      "text/plain": [
       "generate_b_vector (generic function with 1 method)"
      ]
     },
     "execution_count": 6,
     "metadata": {},
     "output_type": "execute_result"
    }
   ],
   "source": [
    "function generate_b_vector(A::CustomMatrix, n::Int64, l::Int64)\n",
    "    b = Vector{Float64}(zeros(n))\n",
    "    for i in 1:n\n",
    "        b[i] = sum(get_value(A,i,Int64(j)) for j in max(1,l*ceil((i-l)/l)):min(n,l*ceil((i-l)/l)+l))\n",
    "        if i+l <= n\n",
    "            b[i] += get_value(A,i,i+l)\n",
    "        end\n",
    "    end\n",
    "    return b\n",
    "end"
   ]
  },
  {
   "cell_type": "markdown",
   "metadata": {},
   "source": [
    "#### Funkcja pomocnicza drukująca macierz\n",
    "Funkcja nie drukuje prawdziwych wartości macierzy, a jedynie ich wartości bezwzględne w ograniczonej przez parametr $prec$ precyzji. Używana w celu sprawdzenia wyglądu macierzy po rozkładzie."
   ]
  },
  {
   "cell_type": "code",
   "execution_count": 7,
   "metadata": {},
   "outputs": [
    {
     "data": {
      "text/plain": [
       "print_matrix (generic function with 1 method)"
      ]
     },
     "execution_count": 7,
     "metadata": {},
     "output_type": "execute_result"
    }
   ],
   "source": [
    "function print_matrix(A, n, prec)\n",
    "    for i in 1:n\n",
    "        for j in 1:n\n",
    "            print(round(abs(get_value(A,i,j)), digits=prec), \" \")\n",
    "        end\n",
    "        println()\n",
    "    end\n",
    "end"
   ]
  },
  {
   "cell_type": "markdown",
   "metadata": {},
   "source": [
    "#### Eliminacja Gaussa\n",
    "Poniższa funkcja wykonuje algorytm eliminacji Gaussa. Na wejściu przyjmowane są: macierz *A*, wektor *b*, rozmiar *n* (macierzy) oraz *l* (bloku). Pętla zewnętrzna iteruje po kolejnych rzędach, wykonująć n-1 iteracji (poza ostatnim rzędem). Wewnętrzna pętla wyznacza mnożnik $l_{i,k} = \\frac{a_{i,k}}{a_{k,k}}$, po czym druga wewnętrzna pętla aktualizuje wartości w rzędzie według wzoru: $a_{i,j} = a_{i,j} - l_{i,k}a_{k,j}$. Podobnie wartość w wektorze *b* ulega zmianie: $b_i = b_i - l_{i,k}b_i$. Górnym limitem iteracji może być $min\\{k+l, n\\}$, ze względu na specyficzną postać macierzy *A* (nie ma sensu liczyć w blokach, gdzie mamy pewność, że są same $0$). Podany algorytm składa się z 3 zagnieżdżonych pętli, których liczbę wykonań można ograniczyć przez rozmiar *n* macierzy. Stąd złożoność takiego algorytmu to $O(n^3)$."
   ]
  },
  {
   "cell_type": "code",
   "execution_count": 8,
   "metadata": {},
   "outputs": [
    {
     "data": {
      "text/plain": [
       "gaussian_elimination (generic function with 1 method)"
      ]
     },
     "execution_count": 8,
     "metadata": {},
     "output_type": "execute_result"
    }
   ],
   "source": [
    "function gaussian_elimination(A::CustomMatrix, b::Vector{Float64}, n::Int64, l::Int64)\n",
    "    for k in 1:(n-1)\n",
    "        for i in (k+1):min(k+l, n)\n",
    "            lik = get_value(A,i,k)/get_value(A,k,k) #A[i,k]/A[k,k]\n",
    "            set_value(A,i,k,0.0) #A[i,k] = 0.0\n",
    "            for j in k+1:min(k+l, n)\n",
    "                temp = get_value(A,i,j)\n",
    "                set_value(A,i,j,temp-lik*get_value(A,k,j)) #A[i,j] -= lik*A[k,j]\n",
    "            end\n",
    "            b[i] -= lik*b[k]\n",
    "        end\n",
    "    end       \n",
    "end"
   ]
  },
  {
   "cell_type": "markdown",
   "metadata": {},
   "source": [
    "#### Rozwiązanie układu po wykonaniu eliminacji Gaussa\n",
    "Funkcja *solve_using_gaussian_elimination* rozwiązuje równanie $Ax=b$, wyznaczając wartość wektora *x*. Funkcja korzysta z postaci macierzy *A* i wektora *b* po przekształceniu z wykorzystaniem funkcji wyżej. W pierwszej kolejności został zainicjowany wektor *x* o rozmiarze *n* (rozmiar wynika bezpośrednio z własności mnożenia macierzy). Następnie pętla rozpoczyna iterację od dolnego rzędu, kierując się w górę macierzy. W pętli wewnętrznej liczona jest wartość danego rzędu macierzy, czyli $s = \\sum_{k<j<=min\\{n, k+l\\}} a_{k,j}x_{j}$, analogicznie jak ma to miejsce podczas mnożenia macierzy razy wektor. Korzystając z wiedzy na temat *b*, wyznaczamy $x_k = \\frac{b_{k}-s}{a_{k,k}}$. Limit wewnętrznej pętli można ograniczyć przez $min\\{n,k+l\\}$ ze względu na specyficzną postać macierzy. Ostatecznie algorytm zawiera dwię pętle (zagnieżdżone), których limit iteracji można ograniczyć z góry przez *n*. Stąd złożoność algorytmu to $O(n^2)$."
   ]
  },
  {
   "cell_type": "code",
   "execution_count": 9,
   "metadata": {},
   "outputs": [
    {
     "data": {
      "text/plain": [
       "solve_using_gaussian_elimination (generic function with 1 method)"
      ]
     },
     "execution_count": 9,
     "metadata": {},
     "output_type": "execute_result"
    }
   ],
   "source": [
    "function solve_using_gaussian_elimination(A::CustomMatrix, b::Vector{Float64}, n::Int64, l::Int64)\n",
    "    x = Vector{Float64}(zeros(n))\n",
    "    for k in n:-1:1\n",
    "        matrix_sum = 0\n",
    "        for j = k + 1:min(n, k + l)\n",
    "            matrix_sum += get_value(A,k,j)*x[j] #A[k, j] * x[j]\n",
    "        end\n",
    "        x[k] = (b[k] - matrix_sum)/get_value(A,k,k) #(b[k] - matrix_sum)/A[k,k]\n",
    "    end\n",
    "    return x\n",
    "end"
   ]
  },
  {
   "cell_type": "markdown",
   "metadata": {},
   "source": [
    "#### Eliminacja Gaussa z wyborem elementu głównego\n",
    "\n",
    "Poniższa funkcja przypomina zasadą działania podstawową wersję eliminacji Gaussa (tę wyżej). Różnica polega na samodzielnym wyborze elementu głównego w taki sposób, aby był on możliwie daleki od wartości 0, aby generować możliwie małe błędy, powstające podczas wykonywania działań. W tym celu został dodatkowo zainicjowany wektor *order*, który będzie zawierał informacje o indeksach rzędów w macierzy, po przekształceniu jej poprzez wybieranie elementu głównego. W zewnętrznej pętli dodatkowo został dopisany kod, który w liniowym czasie znajduje maksymalną wartość bezwględną w danej kolumnie (poniżej aktualnego rzędu) i zamienia aktualny rząd z macierzy z tym, który zawiera tę wartość. Stosując wektor *order*, będący permutacją indeksów rzędów, nie ma potrzeby przebudowywać macierzy w pamięci. Dalsza część kodu jest analogiczna do implementacji wyżej, przy czym zamiast elementu $a_{i,j}$ wybieramy $a_{order[i],j}$ (podobnie w *b*). W tej implementacji znajduje się dodatkowo pętla wyznacząjąca wartość maksymalną dla danego rzędu o złożoności $O(n)$, co daje wciąż złożoność całego algorytmu $O(n^3)$."
   ]
  },
  {
   "cell_type": "code",
   "execution_count": 10,
   "metadata": {},
   "outputs": [
    {
     "data": {
      "text/plain": [
       "gaussian_elimination_choose_element (generic function with 1 method)"
      ]
     },
     "execution_count": 10,
     "metadata": {},
     "output_type": "execute_result"
    }
   ],
   "source": [
    "function gaussian_elimination_choose_element(A::CustomMatrix, b::Vector{Float64}, n::Int64, l::Int64)\n",
    "    order = Vector(1:n)\n",
    "    \n",
    "    for k in 1:(n-1)\n",
    "        current_max, max_id = abs(get_value(A,order[k],k)), k\n",
    "        for i in (k+1):min(k+l, n)\n",
    "            if abs(get_value(A,order[i],k)) > current_max\n",
    "                current_max, max_id = abs(get_value(A,order[i],k)), i\n",
    "            end\n",
    "        end\n",
    "        order[max_id], order[k] = order[k], order[max_id]\n",
    "        \n",
    "        for i in (k+1):min(k+l, n)\n",
    "            lik = get_value(A,order[i],k)/get_value(A,order[k],k)\n",
    "            set_value(A,order[i],k,0.0)\n",
    "            for j in k+1:min(k+2*l-((k-1)%l+1), n)\n",
    "                temp = get_value(A,order[i],j)\n",
    "                set_value(A,order[i],j,temp-lik*get_value(A,order[k],j))     \n",
    "            end\n",
    "            b[order[i]] -= lik*b[order[k]]\n",
    "        end\n",
    "    end\n",
    "    return order\n",
    "end"
   ]
  },
  {
   "cell_type": "markdown",
   "metadata": {},
   "source": [
    "#### Rozwiązanie układu po wykonaniu eliminacji Gaussa z wyborem elementu głównego\n",
    "\n"
   ]
  },
  {
   "cell_type": "code",
   "execution_count": 11,
   "metadata": {},
   "outputs": [
    {
     "data": {
      "text/plain": [
       "solve_using_gaussian_elimination_choose_element (generic function with 1 method)"
      ]
     },
     "execution_count": 11,
     "metadata": {},
     "output_type": "execute_result"
    }
   ],
   "source": [
    "function solve_using_gaussian_elimination_choose_element(A::CustomMatrix, b::Vector{Float64}, order::Vector{Int64}, n::Int64, l::Int64)\n",
    "    x = Vector{Float64}(zeros(n))\n",
    "    for k = n:-1:1\n",
    "        matrix_sum = 0.0\n",
    "        for j = k + 1:min(k+2*l, n)\n",
    "            matrix_sum += get_value(A,order[k],j)*x[j]\n",
    "        end\n",
    "\n",
    "        x[k] = (b[order[k]] - matrix_sum)/get_value(A,order[k],k)\n",
    "    end\n",
    "    \n",
    "    perm = zeros(n)\n",
    "    \n",
    "    for i in 1:n\n",
    "        perm[i] = x[order[i]]\n",
    "    end\n",
    "\n",
    "    return x\n",
    "end"
   ]
  },
  {
   "cell_type": "code",
   "execution_count": 12,
   "metadata": {},
   "outputs": [
    {
     "data": {
      "text/plain": [
       "50000-element Array{Float64,1}:\n",
       " 1.0000000000000007\n",
       " 0.9999999999999998\n",
       " 1.0000000000000002\n",
       " 1.0000000000000004\n",
       " 1.0000000000000009\n",
       " 1.0000000000000007\n",
       " 1.0000000000000007\n",
       " 1.0000000000000007\n",
       " 0.9999999999999951\n",
       " 0.9999999999999986\n",
       " 0.9999999999999954\n",
       " 0.9999999999999934\n",
       " 1.0000000000000069\n",
       " ⋮\n",
       " 0.9999999999999993\n",
       " 0.9999999999999988\n",
       " 0.9999999999999986\n",
       " 0.9999999999999988\n",
       " 1.0\n",
       " 0.9999999999999996\n",
       " 0.9999999999999997\n",
       " 0.9999999999999998\n",
       " 1.0000000000000016\n",
       " 1.0000000000000004\n",
       " 0.9999999999999999\n",
       " 1.0"
      ]
     },
     "execution_count": 12,
     "metadata": {},
     "output_type": "execute_result"
    }
   ],
   "source": [
    "A,n,l = read_matrix(\"Dane50000_1_1/\", \"A.txt\")\n",
    "b,n = read_vector(\"Dane50000_1_1/\", \"b.txt\")\n",
    "gaussian_elimination(A,b,n,l)\n",
    "solve_using_gaussian_elimination(A,b,n,l)"
   ]
  },
  {
   "cell_type": "code",
   "execution_count": 13,
   "metadata": {},
   "outputs": [
    {
     "data": {
      "text/plain": [
       "50000-element Array{Float64,1}:\n",
       " 1.0000000000000004\n",
       " 1.0000000000000004\n",
       " 1.0000000000000002\n",
       " 1.0000000000000002\n",
       " 1.0000000000000002\n",
       " 1.0000000000000002\n",
       " 1.0\n",
       " 1.0000000000000002\n",
       " 0.9999999999999998\n",
       " 1.0\n",
       " 0.9999999999999998\n",
       " 0.9999999999999998\n",
       " 1.0000000000000007\n",
       " ⋮\n",
       " 0.9999999999999992\n",
       " 0.9999999999999992\n",
       " 0.9999999999999984\n",
       " 0.9999999999999989\n",
       " 1.0000000000000004\n",
       " 1.0000000000000004\n",
       " 1.0\n",
       " 1.0000000000000002\n",
       " 1.0\n",
       " 1.0\n",
       " 1.0\n",
       " 1.0"
      ]
     },
     "execution_count": 13,
     "metadata": {},
     "output_type": "execute_result"
    }
   ],
   "source": [
    "A,n,l = read_matrix(\"Dane50000_1_1/\", \"A.txt\")\n",
    "b,n = read_vector(\"Dane50000_1_1/\", \"b.txt\")\n",
    "order = gaussian_elimination_choose_element(A,b,n,l)\n",
    "solve_using_gaussian_elimination_choose_element(A,b,order,n,l)"
   ]
  },
  {
   "cell_type": "markdown",
   "metadata": {},
   "source": [
    "### Zadanie 2/3."
   ]
  },
  {
   "cell_type": "code",
   "execution_count": 14,
   "metadata": {},
   "outputs": [
    {
     "data": {
      "text/plain": [
       "lu (generic function with 1 method)"
      ]
     },
     "execution_count": 14,
     "metadata": {},
     "output_type": "execute_result"
    }
   ],
   "source": [
    "function lu(A::CustomMatrix, n::Int64, l::Int64)\n",
    "    for k in 1:(n-1)\n",
    "        for i in (k+1):min(k+l, n)\n",
    "            lik = get_value(A,i,k)/get_value(A,k,k) #A[i,k]/A[k,k]\n",
    "            set_value(A,i,k,lik) #A[i,k] = lik\n",
    "            for j in k+1:min(k+l, n)\n",
    "                temp = get_value(A,i,j) #lik*A[k,j]\n",
    "                set_value(A,i,j,temp-lik*get_value(A,k,j))#A[i,j] -= lik*A[k,j]\n",
    "            end\n",
    "        end\n",
    "    end       \n",
    "end"
   ]
  },
  {
   "cell_type": "code",
   "execution_count": 15,
   "metadata": {},
   "outputs": [
    {
     "data": {
      "text/plain": [
       "lu_choose_element (generic function with 1 method)"
      ]
     },
     "execution_count": 15,
     "metadata": {},
     "output_type": "execute_result"
    }
   ],
   "source": [
    "function lu_choose_element(A::CustomMatrix, n::Int64, l::Int64)\n",
    "    order = Vector(1:n)\n",
    "    \n",
    "    for k in 1:(n-1)\n",
    "        #finding max abs value in column\n",
    "        current_max, max_id = abs(get_value(A,order[k],k)), k\n",
    "        for i in (k+1):min(k+l, n)\n",
    "            if abs(get_value(A,order[i],k)) > current_max\n",
    "                current_max, max_id = abs(get_value(A,order[i],k)), i\n",
    "            end\n",
    "        end\n",
    "        order[max_id], order[k] = order[k], order[max_id]\n",
    "        \n",
    "        for i in (k+1):min(k+l, n)\n",
    "            lik = get_value(A,order[i],k)/get_value(A,order[k],k) #A[order[i],k]/A[order[k],k]\n",
    "            set_value(A,order[i],k,lik)\n",
    "            #2l bo wybrany element moze byc maksymalnie o l w dol, czyli potem o 2 l w prawo sprawdzamy\n",
    "            for j in k+1:min(k+2*l-((k-1)%l + 1), n)\n",
    "                #A[order[i],j] -= lik*A[order[k],j]\n",
    "                temp = get_value(A,order[i],j)\n",
    "                set_value(A,order[i],j,temp-lik*get_value(A,order[k],j))     \n",
    "            end\n",
    "        end\n",
    "    end\n",
    "    return order\n",
    "end"
   ]
  },
  {
   "cell_type": "code",
   "execution_count": 16,
   "metadata": {},
   "outputs": [
    {
     "data": {
      "text/plain": [
       "solve_lu (generic function with 1 method)"
      ]
     },
     "execution_count": 16,
     "metadata": {},
     "output_type": "execute_result"
    }
   ],
   "source": [
    "function solve_lu(A::CustomMatrix, b::Vector{Float64}, n::Int64, l::Int64)\n",
    "    \n",
    "    y = Vector{Float64}(zeros(n))\n",
    "    for i in 1:n\n",
    "        matrix_sum = 0.0\n",
    "        for j in max(1, Int64(l * floor((i - 1) / l))):i-1\n",
    "            matrix_sum += get_value(A,i,j)*y[j] #A[i,j]*y[j]\n",
    "        end\n",
    "        y[i] = b[i] - matrix_sum\n",
    "    end\n",
    "    \n",
    "    x = Vector{Float64}(zeros(n))\n",
    "    \n",
    "    for k = n:-1:1\n",
    "        matrix_sum = Float64(0.0)\n",
    "        for j = k+1:min(n, k+l)\n",
    "            matrix_sum += get_value(A,k,j)*x[j] #A[k,j] * x[j]\n",
    "        end\n",
    "        x[k] = (y[k] - matrix_sum)/get_value(A,k,k) #A[k, k]\n",
    "    end\n",
    "\n",
    "    return x\n",
    "end\n",
    "    \n",
    "        "
   ]
  },
  {
   "cell_type": "code",
   "execution_count": 17,
   "metadata": {},
   "outputs": [
    {
     "data": {
      "text/plain": [
       "solve_lu_choose_element (generic function with 1 method)"
      ]
     },
     "execution_count": 17,
     "metadata": {},
     "output_type": "execute_result"
    }
   ],
   "source": [
    "function solve_lu_choose_element(A::CustomMatrix, b::Vector{Float64}, order::Vector{Int64}, n::Int64, l::Int64)\n",
    "    y = Vector{Float64}(zeros(n))\n",
    "    for i in 1:n\n",
    "        matrix_sum = 0.0\n",
    "        for j in max(1, i-2*l):i-1\n",
    "            matrix_sum += get_value(A,order[i],j)*y[j] #A[order[i],j]*y[j]\n",
    "        end\n",
    "        y[i] = b[order[i]] - matrix_sum\n",
    "    end\n",
    "    \n",
    "    x = Vector{Float64}(zeros(n))\n",
    "    \n",
    "    for k = n:-1:1\n",
    "        matrix_sum = Float64(0.0)\n",
    "        for j = k+1:min(n, k+2*l)\n",
    "            matrix_sum += get_value(A,order[k],j)*x[j] #A[order[k],j] * x[j]\n",
    "        end\n",
    "        x[k] = (y[k] - matrix_sum)/get_value(A,order[k],k) #A[order[k], k]\n",
    "    end\n",
    "\n",
    "    return x\n",
    "end"
   ]
  },
  {
   "cell_type": "code",
   "execution_count": 21,
   "metadata": {},
   "outputs": [
    {
     "data": {
      "text/plain": [
       "50000-element Array{Float64,1}:\n",
       " 1.0000000000000004\n",
       " 1.0000000000000004\n",
       " 1.0000000000000002\n",
       " 1.0000000000000002\n",
       " 1.0000000000000002\n",
       " 1.0000000000000002\n",
       " 1.0\n",
       " 1.0000000000000002\n",
       " 0.9999999999999996\n",
       " 0.9999999999999998\n",
       " 0.9999999999999994\n",
       " 0.9999999999999997\n",
       " 1.0000000000000007\n",
       " ⋮\n",
       " 0.9999999999999994\n",
       " 0.9999999999999994\n",
       " 0.9999999999999987\n",
       " 0.9999999999999991\n",
       " 1.0000000000000004\n",
       " 1.0000000000000004\n",
       " 1.0\n",
       " 1.0000000000000002\n",
       " 1.0\n",
       " 1.0\n",
       " 1.0\n",
       " 1.0"
      ]
     },
     "execution_count": 21,
     "metadata": {},
     "output_type": "execute_result"
    }
   ],
   "source": [
    "A,n,l = read_matrix(\"Dane50000_1_1/\", \"A.txt\")\n",
    "b, n = read_vector(\"Dane50000_1_1/\", \"b.txt\")\n",
    "order = lu_choose_element(A, n, l)\n",
    "x = solve_lu_choose_element(A,b,order,n,l)"
   ]
  },
  {
   "cell_type": "code",
   "execution_count": null,
   "metadata": {},
   "outputs": [],
   "source": []
  }
 ],
 "metadata": {
  "kernelspec": {
   "display_name": "Julia 1.4.1",
   "language": "julia",
   "name": "julia-1.4"
  },
  "language_info": {
   "file_extension": ".jl",
   "mimetype": "application/julia",
   "name": "julia",
   "version": "1.4.1"
  }
 },
 "nbformat": 4,
 "nbformat_minor": 4
}
