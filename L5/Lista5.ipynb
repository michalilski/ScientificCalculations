{
 "cells": [
  {
   "cell_type": "markdown",
   "metadata": {},
   "source": [
    "## Lista 5\n",
    "#### Michał Ilski 250079"
   ]
  },
  {
   "cell_type": "code",
   "execution_count": 1,
   "metadata": {},
   "outputs": [],
   "source": [
    "using SparseArrays"
   ]
  },
  {
   "cell_type": "markdown",
   "metadata": {},
   "source": [
    "Funkcja czytająca macierz z pliku:"
   ]
  },
  {
   "cell_type": "code",
   "execution_count": 2,
   "metadata": {},
   "outputs": [
    {
     "data": {
      "text/plain": [
       "read_matrix (generic function with 1 method)"
      ]
     },
     "execution_count": 2,
     "metadata": {},
     "output_type": "execute_result"
    }
   ],
   "source": [
    "function read_matrix(folder::String,filename::String)\n",
    "    path = \"$folder/$filename\"\n",
    "    \n",
    "    open(path, \"r\") do io\n",
    "        n, l = (parse(Int64, x) for x in split(readline(io), \" \"))\n",
    "        matrix = spzeros(Float64, n, n)\n",
    "        \n",
    "        while !eof(io)\n",
    "            line = split(readline(io), \" \")\n",
    "            i,j,value = (parse(Int64,line[1]), parse(Int64,line[2]), parse(Float64,line[3]))\n",
    "            matrix[i,j] = value\n",
    "        end\n",
    "        \n",
    "        return matrix, n, l\n",
    "    end    \n",
    "end"
   ]
  },
  {
   "cell_type": "code",
   "execution_count": 3,
   "metadata": {},
   "outputs": [
    {
     "data": {
      "text/plain": [
       "(\n",
       "  [1 ,  1]  =  4.61183\n",
       "  [2 ,  1]  =  -6.04673\n",
       "  [3 ,  1]  =  1.1837\n",
       "  [4 ,  1]  =  1.49651\n",
       "  [1 ,  2]  =  -1.2313\n",
       "  [2 ,  2]  =  2.55612\n",
       "  [3 ,  2]  =  6.7787\n",
       "  [4 ,  2]  =  -7.6278\n",
       "  [1 ,  3]  =  1.34933\n",
       "  [2 ,  3]  =  3.91049\n",
       "  [3 ,  3]  =  -3.29769\n",
       "  [4 ,  3]  =  -0.480295\n",
       "  ⋮\n",
       "  [14, 14]  =  1.38013\n",
       "  [15, 14]  =  -2.91593\n",
       "  [16, 14]  =  0.164394\n",
       "  [11, 15]  =  0.131099\n",
       "  [13, 15]  =  3.17531\n",
       "  [14, 15]  =  2.30367\n",
       "  [15, 15]  =  1.77629\n",
       "  [16, 15]  =  -6.39136\n",
       "  [12, 16]  =  0.23254\n",
       "  [13, 16]  =  0.244485\n",
       "  [14, 16]  =  -6.01624\n",
       "  [15, 16]  =  2.30634\n",
       "  [16, 16]  =  5.58264, 16, 4)"
      ]
     },
     "execution_count": 3,
     "metadata": {},
     "output_type": "execute_result"
    }
   ],
   "source": [
    "A,n,l = read_matrix(\"Dane16_1_1/\", \"A.txt\")"
   ]
  },
  {
   "cell_type": "markdown",
   "metadata": {},
   "source": [
    "Funkcja czytająca wektor z pliku:"
   ]
  },
  {
   "cell_type": "code",
   "execution_count": 4,
   "metadata": {},
   "outputs": [
    {
     "data": {
      "text/plain": [
       "read_vector (generic function with 1 method)"
      ]
     },
     "execution_count": 4,
     "metadata": {},
     "output_type": "execute_result"
    }
   ],
   "source": [
    "function read_vector(folder::String,filename::String)\n",
    "    path = \"$folder/$filename\"\n",
    "    \n",
    "    open(path, \"r\") do io\n",
    "        n = parse(Int64, readline(io))\n",
    "        vector = Vector{Float64}(zeros(n))\n",
    "        for i in 1:n\n",
    "            vector[i] = parse(Float64, readline(io))\n",
    "        end\n",
    "        \n",
    "        return vector, n\n",
    "    end    \n",
    "end"
   ]
  },
  {
   "cell_type": "code",
   "execution_count": 5,
   "metadata": {},
   "outputs": [
    {
     "data": {
      "text/plain": [
       "([2.5766127043066267, 0.22262875140362723, 2.5407983784381454, -0.8059533890034357, -0.9215537121431373, -1.7842163071531725, 6.177975978720661, 0.058735241454084985, 3.57440194333687, 2.2664366406035943, -0.6564884305649747, -0.1882688976733593, 0.4672075394498107, 4.3913570168563005, 1.32735255307743, -2.263440204814917], 16)"
      ]
     },
     "execution_count": 5,
     "metadata": {},
     "output_type": "execute_result"
    }
   ],
   "source": [
    "######\n",
    "b = read_vector(\"Dane16_1_1/\", \"b.txt\")"
   ]
  },
  {
   "cell_type": "markdown",
   "metadata": {},
   "source": [
    "Funkcja generując wektor $b$:"
   ]
  },
  {
   "cell_type": "code",
   "execution_count": 17,
   "metadata": {},
   "outputs": [
    {
     "data": {
      "text/plain": [
       "generate_b_vector (generic function with 1 method)"
      ]
     },
     "execution_count": 17,
     "metadata": {},
     "output_type": "execute_result"
    }
   ],
   "source": [
    "function generate_b_vector(A::SparseMatrixCSC{Float64, Int64}, n::Int64, l::Int64)\n",
    "    b = Vector{Float64}(zeros(n))\n",
    "    for i in 1:n\n",
    "        b[i] = sum(A[i,Int64(j)] for j in max(1,l*ceil((i-l)/l)):min(n,l*ceil((i-l)/l)+l))\n",
    "        if i+l <= n\n",
    "            b[i] += A[i,i+l]\n",
    "        end\n",
    "    end\n",
    "    return b\n",
    "end"
   ]
  },
  {
   "cell_type": "code",
   "execution_count": 18,
   "metadata": {},
   "outputs": [
    {
     "data": {
      "text/plain": [
       "16-element Array{Float64,1}:\n",
       "  2.5766127043066267\n",
       "  0.22262875140362723\n",
       "  2.5407983784381454\n",
       " -0.8059533890034357\n",
       " -0.9215537121431373\n",
       " -1.7842163071531725\n",
       "  6.177975978720661\n",
       "  0.058735241454084985\n",
       "  3.57440194333687\n",
       "  2.2664366406035943\n",
       " -0.6564884305649747\n",
       " -0.1882688976733593\n",
       "  0.4672075394498107\n",
       "  4.3913570168563005\n",
       "  1.32735255307743\n",
       " -2.263440204814917"
      ]
     },
     "execution_count": 18,
     "metadata": {},
     "output_type": "execute_result"
    }
   ],
   "source": [
    "generate_b_vector(A,n,l)"
   ]
  },
  {
   "cell_type": "code",
   "execution_count": null,
   "metadata": {},
   "outputs": [],
   "source": []
  }
 ],
 "metadata": {
  "kernelspec": {
   "display_name": "Julia 1.4.1",
   "language": "julia",
   "name": "julia-1.4"
  },
  "language_info": {
   "file_extension": ".jl",
   "mimetype": "application/julia",
   "name": "julia",
   "version": "1.4.1"
  }
 },
 "nbformat": 4,
 "nbformat_minor": 4
}
