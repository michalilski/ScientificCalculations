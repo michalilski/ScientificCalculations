{
 "cells": [
  {
   "cell_type": "markdown",
   "metadata": {},
   "source": [
    "# Lista 5\n",
    "#### Michał Ilski 250079"
   ]
  },
  {
   "cell_type": "markdown",
   "metadata": {},
   "source": [
    "### Zadanie 1."
   ]
  },
  {
   "cell_type": "code",
   "execution_count": 4,
   "metadata": {},
   "outputs": [],
   "source": [
    "using SparseArrays"
   ]
  },
  {
   "cell_type": "code",
   "execution_count": 22,
   "metadata": {},
   "outputs": [],
   "source": [
    "mutable struct CustomMatrix\n",
    "    n::Int64\n",
    "    l::Int64\n",
    "    v::Int64\n",
    "    A_blocks::Array{Array{Float64,2},1}\n",
    "    B_blocks::Array{Array{Float64,2},1}\n",
    "    C_blocks::Array{Array{Float64,2},1}\n",
    "    function CustomMatrix(n::Int64, l::Int64)\n",
    "        v = n/l\n",
    "        A_blocks = [Array{Float64}(zeros(l,l)) for idx in 1:n]\n",
    "        B_blocks = [Array{Float64}(zeros(l,l)) for idx in 1:n-1]\n",
    "        C_blocks = [Array{Float64}(zeros(l,l)) for idx in 1:n-1]\n",
    "        return new(n, l, v, A_blocks, B_blocks, C_blocks)\n",
    "    end\n",
    "end"
   ]
  },
  {
   "cell_type": "code",
   "execution_count": 23,
   "metadata": {},
   "outputs": [
    {
     "data": {
      "text/plain": [
       "set_value (generic function with 1 method)"
      ]
     },
     "execution_count": 23,
     "metadata": {},
     "output_type": "execute_result"
    }
   ],
   "source": [
    "function set_value(c::CustomMatrix, i::Int64, j::Int64, value::Float64)\n",
    "    l = c.l\n",
    "    k = ((i-1)÷l)*l\n",
    "    if j in k+1:k+l\n",
    "        c.A_blocks[(i÷l)+1][((i-1)%l+1), ((j-1)%l+1)] = value\n",
    "    elseif j in k-l+1:k\n",
    "        c.B_blocks[(i÷l)+1][((i-1)%l+1), ((j-1)%l+1)] = value\n",
    "    elseif j in k+l+1:k+2*l\n",
    "        c.C_blocks[(i÷l)+1][((i-1)%l+1), ((j-1)%l+1)] = value\n",
    "    end\n",
    "end"
   ]
  },
  {
   "cell_type": "code",
   "execution_count": 24,
   "metadata": {},
   "outputs": [
    {
     "data": {
      "text/plain": [
       "get_value (generic function with 1 method)"
      ]
     },
     "execution_count": 24,
     "metadata": {},
     "output_type": "execute_result"
    }
   ],
   "source": [
    "function get_value(c::CustomMatrix, i::Int64, j::Int64)\n",
    "    l = c.l\n",
    "    k = ((i-1)÷l)*l\n",
    "    if j in k+1:k+l\n",
    "        return c.A_blocks[(i÷l)+1][((i-1)%l+1), ((j-1)%l+1)]\n",
    "    elseif j in k-l+1:k\n",
    "        return c.B_blocks[(i÷l)+1][((i-1)%l+1), ((j-1)%l+1)]\n",
    "    elseif j in k+l+1:k+2*l\n",
    "        return c.C_blocks[(i÷l)+1][((i-1)%l+1), ((j-1)%l+1)]\n",
    "    end\n",
    "    return 0.0\n",
    "end"
   ]
  },
  {
   "cell_type": "markdown",
   "metadata": {},
   "source": [
    "#### Funkcja czytająca macierz z pliku  \n",
    "Funkcja read_matrix na wejściu przyjmuje ścieżkę, w którym znajduje się plik z macierzą oraz nazwę pliku. W funkcji w pierwszej kolejności czytane są wartości $n$ (rozmiar macierzy) oraz $l$ (rozmiar bloków w macierzy głównej). Następnie każda kolejna linia to $i$ (pierwszy indeks macierzy), $j$ (drugi indeks macierzy), $A[i,j]$. Komórki macierzy, dla których nie zostały podane wartości w pliku przyjmują wartość $0$. Zwracana jest wczytana macierz, $n$ oraz $l$."
   ]
  },
  {
   "cell_type": "code",
   "execution_count": 26,
   "metadata": {},
   "outputs": [
    {
     "data": {
      "text/plain": [
       "read_matrix (generic function with 1 method)"
      ]
     },
     "execution_count": 26,
     "metadata": {},
     "output_type": "execute_result"
    }
   ],
   "source": [
    "function read_matrix(folder::String,filename::String)\n",
    "    path = \"$folder/$filename\"\n",
    "    \n",
    "    open(path, \"r\") do io\n",
    "        n, l = (parse(Int64, x) for x in split(readline(io), \" \"))\n",
    "        #matrix = spzeros(Float64, n, n)\n",
    "        matrix = CustomMatrix(n,l)\n",
    "        while !eof(io)\n",
    "            line = split(readline(io), \" \")\n",
    "            i,j,value = (parse(Int64,line[1]), parse(Int64,line[2]), parse(Float64,line[3]))\n",
    "            #matrix[i,j] = value\n",
    "            set_value(matrix, i, j ,value)\n",
    "        end\n",
    "        \n",
    "        return matrix, n, l\n",
    "    end    \n",
    "end"
   ]
  },
  {
   "cell_type": "markdown",
   "metadata": {},
   "source": [
    "#### Funkcja czytająca wektor z pliku\n",
    "Wektor wczytywany jest podobnie jak wyżej. Tutaj jednak jedynymi danymi są długość wektora $n$ oraz jego $n$ wartości. Zwracany jest wektor wraz z wymiarem."
   ]
  },
  {
   "cell_type": "code",
   "execution_count": 27,
   "metadata": {},
   "outputs": [
    {
     "data": {
      "text/plain": [
       "read_vector (generic function with 1 method)"
      ]
     },
     "execution_count": 27,
     "metadata": {},
     "output_type": "execute_result"
    }
   ],
   "source": [
    "function read_vector(folder::String,filename::String)\n",
    "    path = \"$folder/$filename\"\n",
    "    \n",
    "    open(path, \"r\") do io\n",
    "        n = parse(Int64, readline(io))\n",
    "        vector = Vector{Float64}(zeros(n))\n",
    "        for i in 1:n\n",
    "            vector[i] = parse(Float64, readline(io))\n",
    "        end\n",
    "        \n",
    "        return vector, n\n",
    "    end    \n",
    "end"
   ]
  },
  {
   "cell_type": "markdown",
   "metadata": {},
   "source": [
    "#### Funkcja generująca wektor $b$\n",
    "Znając macierz $A$ oraz wiedząc, że wektor $x = [1,...,1]^{T}$, możemy samodzielnie wyznaczyć postać wektora $b$. W tym celu wykonuję mnożenie $Ax = b$. W pętli iteruję po wszystkich rzędach, natomiast ze względu na specyficzną postać macierzy $A$, nie muszę iterować po wszystkich kolumnach. Będąc w $i$-tym rzędzie, sumuję wartości w zakresie od $max\\{1,l\\cdot\\lceil\\frac{i-l}{l}\\rceil\\}$ do $min\\{n,l\\cdot\\lceil\\frac{i-l}{l}\\rceil+l\\}$, co obejmuje wartości z bloków $A_x$ i $B_x$ oraz w przypadku, gdy $i+l \\leq n$, do $b[i]$ dodaję jeszcze $A[i, i+l]$, czyli bloki $C_x$."
   ]
  },
  {
   "cell_type": "code",
   "execution_count": 36,
   "metadata": {},
   "outputs": [
    {
     "data": {
      "text/plain": [
       "generate_b_vector (generic function with 2 methods)"
      ]
     },
     "execution_count": 36,
     "metadata": {},
     "output_type": "execute_result"
    }
   ],
   "source": [
    "function generate_b_vector(A::CustomMatrix, n::Int64, l::Int64)\n",
    "    b = Vector{Float64}(zeros(n))\n",
    "    for i in 1:n\n",
    "        b[i] = sum(get_value(A,i,Int64(j)) for j in max(1,l*ceil((i-l)/l)):min(n,l*ceil((i-l)/l)+l))\n",
    "        if i+l <= n\n",
    "            b[i] += get_value(A,i,i+l)\n",
    "        end\n",
    "    end\n",
    "    return b\n",
    "end"
   ]
  },
  {
   "cell_type": "markdown",
   "metadata": {},
   "source": [
    "#### Funkcja pomocnicza drukująca macierz\n",
    "Funkcja nie drukuje prawdziwych wartości macierzy, a jedynie ich wartości bezwzględne w ograniczonej przez parametr $prec$ precyzji. Używana w celu sprawdzenia wyglądu macierzy po rozkładzie."
   ]
  },
  {
   "cell_type": "code",
   "execution_count": 48,
   "metadata": {},
   "outputs": [
    {
     "data": {
      "text/plain": [
       "print_matrix (generic function with 1 method)"
      ]
     },
     "execution_count": 48,
     "metadata": {},
     "output_type": "execute_result"
    }
   ],
   "source": [
    "function print_matrix(A, n, prec)\n",
    "    for i in 1:n\n",
    "        for j in 1:n\n",
    "            print(round(abs(get_value(A,i,j)), digits=prec), \" \")\n",
    "        end\n",
    "        println()\n",
    "    end\n",
    "end"
   ]
  },
  {
   "cell_type": "code",
   "execution_count": 58,
   "metadata": {},
   "outputs": [
    {
     "data": {
      "text/plain": [
       "gaussian_elimination (generic function with 2 methods)"
      ]
     },
     "execution_count": 58,
     "metadata": {},
     "output_type": "execute_result"
    }
   ],
   "source": [
    "function gaussian_elimination(A::CustomMatrix, b::Vector{Float64}, n::Int64, l::Int64)\n",
    "    for k in 1:(n-1)\n",
    "        for i in (k+1):min(k+l, n)\n",
    "            lik = get_value(A,i,k)/get_value(A,k,k) #A[i,k]/A[k,k]\n",
    "            set_value(A,i,k,0.0) #A[i,k] = 0.0\n",
    "            for j in k+1:min(k+l, n)\n",
    "                temp = get_value(A,i,j)\n",
    "                set_value(A,i,j,temp-lik*get_value(A,k,j)) #A[i,j] -= lik*A[k,j]\n",
    "            end\n",
    "            b[i] -= lik*b[k]\n",
    "        end\n",
    "    end       \n",
    "end"
   ]
  },
  {
   "cell_type": "code",
   "execution_count": 59,
   "metadata": {},
   "outputs": [
    {
     "data": {
      "text/plain": [
       "solve_using_gaussian_elimination (generic function with 1 method)"
      ]
     },
     "execution_count": 59,
     "metadata": {},
     "output_type": "execute_result"
    }
   ],
   "source": [
    "function solve_using_gaussian_elimination(A::CustomMatrix, b::Vector{Float64}, n::Int64, l::Int64)\n",
    "    x = Vector{Float64}(zeros(n))\n",
    "    for k in n:-1:1\n",
    "        matrix_sum = 0\n",
    "        for j = k + 1:min(n, k + l)\n",
    "            matrix_sum += get_value(A,k,j)*x[j] #A[k, j] * x[j]\n",
    "        end\n",
    "        x[k] = (b[k] - matrix_sum)/get_value(A,k,k) #(b[k] - matrix_sum)/A[k,k]\n",
    "    end\n",
    "    return x\n",
    "end"
   ]
  },
  {
   "cell_type": "code",
   "execution_count": 65,
   "metadata": {},
   "outputs": [
    {
     "data": {
      "text/plain": [
       "gaussian_elimination_choose_element (generic function with 1 method)"
      ]
     },
     "execution_count": 65,
     "metadata": {},
     "output_type": "execute_result"
    }
   ],
   "source": [
    "function gaussian_elimination_choose_element(A::CustomMatrix, b::Vector{Float64}, n::Int64, l::Int64)\n",
    "    order = Vector(1:n)\n",
    "    for k in 1:(n-1)\n",
    "        #finding max abs value in column\n",
    "        current_max, max_id = abs(get_value(A,k,k)), k\n",
    "        for i in (k+1):min(k+l, n)\n",
    "            if abs(get_value(A,i,k)) > current_max\n",
    "                current_max, max_id = abs(get_value(A,i,k)), i\n",
    "            end\n",
    "        end\n",
    "        order[max_id], order[k] = order[k], order[max_id]\n",
    "        \n",
    "        for i in (k+1):min(k+l, n)\n",
    "            lik = get_value(A,order[i],k)/get_value(A,order[k],k) #A[order[i],k]/A[order[k],k]\n",
    "            set_value(A,order[i],k,0.0)\n",
    "            #2l bo wybrany element moze byc maksymalnie o l w dol, czyli potem o 2 l w prawo sprawdzamy\n",
    "            for j in k+1:min(k+2*l, n)\n",
    "                #A[order[i],j] -= lik*A[order[k],j]\n",
    "                temp = get_value(A,order[i],j)\n",
    "                set_value(A,order[i],j,temp-lik*get_value(A,order[k],j))     \n",
    "            end\n",
    "            b[order[i]] -= lik*b[order[k]]\n",
    "        end\n",
    "    end\n",
    "    return order\n",
    "end"
   ]
  },
  {
   "cell_type": "code",
   "execution_count": 69,
   "metadata": {},
   "outputs": [
    {
     "data": {
      "text/plain": [
       "solve_using_gaussian_elimination_choose_element (generic function with 1 method)"
      ]
     },
     "execution_count": 69,
     "metadata": {},
     "output_type": "execute_result"
    }
   ],
   "source": [
    "function solve_using_gaussian_elimination_choose_element(A::CustomMatrix, b::Vector{Float64}, order::Vector{Int64}, n::Int64, l::Int64)\n",
    "    x = Vector{Float64}(zeros(n))\n",
    "    for k = n:-1:1\n",
    "        matrix_sum = 0.0\n",
    "        for j = k + 1:min(k+2*l, n)\n",
    "            matrix_sum += get_value(A,order[k],j)*x[j] #A[order[k], j] * x[j]\n",
    "        end\n",
    "\n",
    "        x[k] = (b[order[k]] - matrix_sum)/get_value(A,order[k],k) #(b[order[k]] - matrix_sum)/A[order[k], k]\n",
    "    end\n",
    "\n",
    "    return x\n",
    "end"
   ]
  },
  {
   "cell_type": "code",
   "execution_count": 70,
   "metadata": {},
   "outputs": [
    {
     "data": {
      "text/plain": [
       "16-element Array{Float64,1}:\n",
       " 1.0000000000000007\n",
       " 1.0000000000000007\n",
       " 1.0000000000000007\n",
       " 1.0000000000000013\n",
       " 0.9999999999999997\n",
       " 0.9999999999999996\n",
       " 0.9999999999999996\n",
       " 0.9999999999999994\n",
       " 1.0000000000000002\n",
       " 1.0\n",
       " 1.0\n",
       " 1.0000000000000002\n",
       " 1.0000000000000002\n",
       " 1.0000000000000002\n",
       " 1.0\n",
       " 1.0000000000000002"
      ]
     },
     "execution_count": 70,
     "metadata": {},
     "output_type": "execute_result"
    }
   ],
   "source": [
    "A,n,l = read_matrix(\"Dane16_1_1/\", \"A.txt\")\n",
    "b,n = read_vector(\"Dane16_1_1/\", \"b.txt\")\n",
    "gaussian_elimination(A,b,n,l)\n",
    "solve_using_gaussian_elimination(A,b,n,l)"
   ]
  },
  {
   "cell_type": "code",
   "execution_count": 71,
   "metadata": {},
   "outputs": [
    {
     "data": {
      "text/plain": [
       "16-element Array{Float64,1}:\n",
       " 1.0\n",
       " 1.0000000000000002\n",
       " 1.0\n",
       " 1.0000000000000002\n",
       " 0.9999999999999992\n",
       " 0.9999999999999993\n",
       " 0.9999999999999993\n",
       " 0.9999999999999992\n",
       " 1.0000000000000004\n",
       " 1.0000000000000002\n",
       " 1.0000000000000004\n",
       " 1.0000000000000002\n",
       " 0.9999999999999999\n",
       " 0.9999999999999997\n",
       " 0.9999999999999999\n",
       " 0.9999999999999998"
      ]
     },
     "execution_count": 71,
     "metadata": {},
     "output_type": "execute_result"
    }
   ],
   "source": [
    "A,n,l = read_matrix(\"Dane16_1_1/\", \"A.txt\")\n",
    "b,n = read_vector(\"Dane16_1_1/\", \"b.txt\")\n",
    "order = gaussian_elimination_choose_element(A,b,n,l)\n",
    "solve_using_gaussian_elimination_choose_element(A,b,order,n,l)"
   ]
  },
  {
   "cell_type": "markdown",
   "metadata": {},
   "source": [
    "### Zadanie 2/3."
   ]
  },
  {
   "cell_type": "code",
   "execution_count": 12,
   "metadata": {},
   "outputs": [
    {
     "data": {
      "text/plain": [
       "lu (generic function with 1 method)"
      ]
     },
     "execution_count": 12,
     "metadata": {},
     "output_type": "execute_result"
    }
   ],
   "source": [
    "function lu(A::SparseMatrixCSC{Float64, Int64}, n::Int64, l::Int64)\n",
    "    for k in 1:(n-1)\n",
    "        for i in (k+1):min(k+l, n)\n",
    "            lik = A[i,k]/A[k,k]\n",
    "            A[i,k] = lik\n",
    "            for j in k+1:min(k+l, n)\n",
    "                A[i,j] -= lik*A[k,j]\n",
    "            end\n",
    "        end\n",
    "    end       \n",
    "end"
   ]
  },
  {
   "cell_type": "code",
   "execution_count": 13,
   "metadata": {},
   "outputs": [
    {
     "data": {
      "text/plain": [
       "lu_choose_element (generic function with 1 method)"
      ]
     },
     "execution_count": 13,
     "metadata": {},
     "output_type": "execute_result"
    }
   ],
   "source": [
    "function lu_choose_element(A::SparseMatrixCSC{Float64, Int64}, n::Int64, l::Int64)\n",
    "    order = Vector(1:n)\n",
    "    for k in 1:(n-1)\n",
    "        #finding max abs value in column\n",
    "        current_max, max_id = abs(A[k,k]), k\n",
    "        for i in (k+1):min(k+l, n)\n",
    "            if abs(A[i,k]) > current_max\n",
    "                current_max, max_id = abs(A[i,k]), i\n",
    "            end\n",
    "        end\n",
    "        order[max_id], order[k] = order[k], order[max_id]\n",
    "        \n",
    "        for i in (k+1):min(k+l, n)\n",
    "            lik = A[order[i],k]/A[order[k],k]\n",
    "            A[order[i],k] = lik\n",
    "            #2l bo wybrany element moze byc maksymalnie o l w dol, czyli potem o 2 l w prawo sprawdzamy\n",
    "            for j in k+1:min(k+2*l, n)\n",
    "                A[order[i],j] -= lik*A[order[k],j]\n",
    "            end\n",
    "        end\n",
    "    end\n",
    "    return order\n",
    "end"
   ]
  },
  {
   "cell_type": "code",
   "execution_count": 15,
   "metadata": {},
   "outputs": [
    {
     "data": {
      "text/plain": [
       "([2.5766127043066267, 0.22262875140362723, 2.5407983784381454, -0.8059533890034357, -0.9215537121431373, -1.7842163071531725, 6.177975978720661, 0.058735241454084985, 3.57440194333687, 2.2664366406035943, -0.6564884305649747, -0.1882688976733593, 0.4672075394498107, 4.3913570168563005, 1.32735255307743, -2.263440204814917], 16)"
      ]
     },
     "execution_count": 15,
     "metadata": {},
     "output_type": "execute_result"
    }
   ],
   "source": [
    "b, n = read_vector(\"Dane16_1_1/\", \"b.txt\")"
   ]
  },
  {
   "cell_type": "code",
   "execution_count": 16,
   "metadata": {},
   "outputs": [
    {
     "name": "stdout",
     "output_type": "stream",
     "text": [
      "4.6 1.2 1.3 2.2 0.0 0.0 0.0 0.0 0.0 0.0 0.0 0.0 0.0 0.0 0.0 0.0 \n",
      "6.0 2.6 3.9 0.3 0.0 0.1 0.0 0.0 0.0 0.0 0.0 0.0 0.0 0.0 0.0 0.0 \n",
      "1.2 6.8 3.3 2.3 0.0 0.0 0.2 0.0 0.0 0.0 0.0 0.0 0.0 0.0 0.0 0.0 \n",
      "1.5 7.6 0.5 5.7 0.0 0.0 0.0 0.1 0.0 0.0 0.0 0.0 0.0 0.0 0.0 0.0 \n",
      "0.0 0.0 0.0 0.0 2.5 4.2 3.7 1.9 0.2 0.0 0.0 0.0 0.0 0.0 0.0 0.0 \n",
      "0.0 0.0 0.0 0.1 4.9 0.2 1.5 4.0 0.0 0.3 0.0 0.0 0.0 0.0 0.0 0.0 \n",
      "0.0 0.0 0.0 0.2 3.2 6.9 1.2 5.3 0.0 0.0 0.0 0.0 0.0 0.0 0.0 0.0 \n",
      "0.0 0.0 0.0 0.2 4.9 6.5 1.3 2.5 0.0 0.0 0.0 0.3 0.0 0.0 0.0 0.0 \n",
      "0.0 0.0 0.0 0.0 0.0 0.0 0.0 0.0 0.5 7.8 2.1 1.7 0.1 0.0 0.0 0.0 \n",
      "0.0 0.0 0.0 0.0 0.0 0.0 0.0 0.1 0.7 1.6 4.3 3.2 0.0 0.2 0.0 0.0 \n",
      "0.0 0.0 0.0 0.0 0.0 0.0 0.0 0.2 5.6 1.5 4.6 0.5 0.0 0.0 0.1 0.0 \n",
      "0.0 0.0 0.0 0.0 0.0 0.0 0.0 0.0 2.3 6.6 2.6 5.8 0.0 0.0 0.0 0.2 \n",
      "0.0 0.0 0.0 0.0 0.0 0.0 0.0 0.0 0.0 0.0 0.0 0.3 6.5 3.3 3.2 0.2 \n",
      "0.0 0.0 0.0 0.0 0.0 0.0 0.0 0.0 0.0 0.0 0.0 0.0 6.7 1.4 2.3 6.0 \n",
      "0.0 0.0 0.0 0.0 0.0 0.0 0.0 0.0 0.0 0.0 0.0 0.2 0.0 2.9 1.8 2.3 \n",
      "0.0 0.0 0.0 0.0 0.0 0.0 0.0 0.0 0.0 0.0 0.0 0.3 1.9 0.2 6.4 5.6 \n"
     ]
    }
   ],
   "source": [
    "print_matrix(A,n,1)"
   ]
  },
  {
   "cell_type": "code",
   "execution_count": 19,
   "metadata": {},
   "outputs": [
    {
     "data": {
      "text/plain": [
       "solve_lu (generic function with 1 method)"
      ]
     },
     "execution_count": 19,
     "metadata": {},
     "output_type": "execute_result"
    }
   ],
   "source": [
    "function solve_lu(A::SparseMatrixCSC{Float64, Int64}, b::Vector{Float64}, n::Int64, l::Int64)\n",
    "    \n",
    "    y = Vector{Float64}(zeros(n))\n",
    "    for i in 1:n\n",
    "        matrix_sum = 0.0\n",
    "        for j in max(1, Int64(l * floor((i - 1) / l))):i-1\n",
    "            matrix_sum += A[i,j]*y[j]\n",
    "        end\n",
    "        y[i] = b[i] - matrix_sum\n",
    "    end\n",
    "    \n",
    "    x = Vector{Float64}(zeros(n))\n",
    "    \n",
    "    for k = n:-1:1\n",
    "        matrix_sum = Float64(0.0)\n",
    "        for j = k+1:min(n, k+l)\n",
    "            matrix_sum += A[k,j] * x[j]\n",
    "        end\n",
    "        x[k] = (y[k] - matrix_sum)/A[k, k]\n",
    "    end\n",
    "\n",
    "    return x\n",
    "end\n",
    "    \n",
    "        "
   ]
  },
  {
   "cell_type": "code",
   "execution_count": 67,
   "metadata": {},
   "outputs": [
    {
     "data": {
      "text/plain": [
       "solve_lu_choose_element (generic function with 1 method)"
      ]
     },
     "execution_count": 67,
     "metadata": {},
     "output_type": "execute_result"
    }
   ],
   "source": [
    "function solve_lu_choose_element(A::SparseMatrixCSC{Float64, Int64}, b::Vector{Float64}, order::Vector{Int64}, n::Int64, l::Int64)\n",
    "    y = Vector{Float64}(zeros(n))\n",
    "    for i in 1:n\n",
    "        matrix_sum = 0.0\n",
    "        for j in max(1, Int64(l * floor((i - 1) / l))):i-1\n",
    "            matrix_sum += A[order[i],j]*y[j]\n",
    "        end\n",
    "        y[i] = b[order[i]] - matrix_sum\n",
    "    end\n",
    "    \n",
    "    x = Vector{Float64}(zeros(n))\n",
    "    \n",
    "    for k = n:-1:1\n",
    "        matrix_sum = Float64(0.0)\n",
    "        for j = k+1:min(n, k+l)\n",
    "            matrix_sum += A[order[k],j] * x[j]\n",
    "        end\n",
    "        x[k] = (y[k] - matrix_sum)/A[order[k], k]\n",
    "    end\n",
    "\n",
    "    return x\n",
    "end"
   ]
  },
  {
   "cell_type": "code",
   "execution_count": 69,
   "metadata": {},
   "outputs": [
    {
     "data": {
      "text/plain": [
       "50000-element Array{Float64,1}:\n",
       " 1.0047788339368418\n",
       " 0.9783314135064629\n",
       " 1.0109912833604204\n",
       " 0.9992261989552098\n",
       " 1.0048335850451564\n",
       " 1.0034338462186208\n",
       " 1.003501903139483\n",
       " 1.0017845920605484\n",
       " 0.9485922235198623\n",
       " 0.9807072699127508\n",
       " 1.0028769889129403\n",
       " 1.0014067433496663\n",
       " 0.9829998639926145\n",
       " ⋮\n",
       " 1.0111563412952056\n",
       " 0.8782430551406178\n",
       " 1.0022463674790725\n",
       " 0.9958275968421209\n",
       " 1.0327104950339703\n",
       " 1.0597602534541528\n",
       " 1.0\n",
       " 1.0000000000000002\n",
       " 1.0\n",
       " 1.0\n",
       " 1.0\n",
       " 1.0"
      ]
     },
     "execution_count": 69,
     "metadata": {},
     "output_type": "execute_result"
    }
   ],
   "source": [
    "A,n,l = read_matrix(\"Dane50000_1_1/\", \"A.txt\")\n",
    "b = generate_b_vector(A,n,l)\n",
    "order = lu_choose_element(A, n, l)\n",
    "x = solve_lu_choose_element(A,b,order,n,l)"
   ]
  },
  {
   "cell_type": "code",
   "execution_count": null,
   "metadata": {},
   "outputs": [],
   "source": []
  },
  {
   "cell_type": "code",
   "execution_count": null,
   "metadata": {},
   "outputs": [],
   "source": []
  }
 ],
 "metadata": {
  "kernelspec": {
   "display_name": "Julia 1.4.1",
   "language": "julia",
   "name": "julia-1.4"
  },
  "language_info": {
   "file_extension": ".jl",
   "mimetype": "application/julia",
   "name": "julia",
   "version": "1.4.1"
  }
 },
 "nbformat": 4,
 "nbformat_minor": 4
}
