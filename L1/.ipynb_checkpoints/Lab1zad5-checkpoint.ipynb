{
 "cells": [
  {
   "cell_type": "markdown",
   "metadata": {},
   "source": [
    "# zad 5\n",
    "\n",
    "W tym zadaniu nalezy policzyc sume elementow wektora x oraz y na 4 sposoby"
   ]
  },
  {
   "cell_type": "code",
   "execution_count": 1,
   "metadata": {},
   "outputs": [
    {
     "data": {
      "text/plain": [
       "5-element Array{Float64,1}:\n",
       "  2.718281828\n",
       " -3.141592654\n",
       "  1.414213562\n",
       "  0.5772156649\n",
       "  0.3010299957"
      ]
     },
     "execution_count": 1,
     "metadata": {},
     "output_type": "execute_result"
    }
   ],
   "source": [
    "x = [2.718281828, -3.141592654, 1.414213562, 0.5772156649, 0.3010299957]"
   ]
  },
  {
   "cell_type": "code",
   "execution_count": 2,
   "metadata": {},
   "outputs": [
    {
     "data": {
      "text/plain": [
       "5-element Array{Float64,1}:\n",
       "   1486.2497\n",
       " 878366.9879\n",
       "    -22.37492\n",
       "      4.773714647e6\n",
       "      0.000185049"
      ]
     },
     "execution_count": 2,
     "metadata": {},
     "output_type": "execute_result"
    }
   ],
   "source": [
    "y = [1486.2497, 878366.9879, -22.37492, 4773714.647, 0.000185049]"
   ]
  },
  {
   "cell_type": "markdown",
   "metadata": {},
   "source": [
    "Sposob #1:"
   ]
  },
  {
   "cell_type": "code",
   "execution_count": 3,
   "metadata": {},
   "outputs": [
    {
     "name": "stdout",
     "output_type": "stream",
     "text": [
      "1.0251881368296672e-10\n"
     ]
    }
   ],
   "source": [
    "Sum = Float64(0.0)\n",
    "\n",
    "for i in 1:size(x)[1]\n",
    "   Sum += x[i]*y[i]\n",
    "end\n",
    "\n",
    "println(Sum)"
   ]
  },
  {
   "cell_type": "markdown",
   "metadata": {},
   "source": [
    "Sposob #2:"
   ]
  },
  {
   "cell_type": "code",
   "execution_count": 4,
   "metadata": {},
   "outputs": [
    {
     "name": "stdout",
     "output_type": "stream",
     "text": [
      "-1.5643308870494366e-10\n"
     ]
    }
   ],
   "source": [
    "Sum = Float64(0.0)\n",
    "\n",
    "for i in size(x)[1]:-1:1\n",
    "   Sum += x[i]*y[i]\n",
    "end\n",
    "\n",
    "println(Sum)"
   ]
  },
  {
   "cell_type": "markdown",
   "metadata": {},
   "source": [
    "Sposob #3:"
   ]
  },
  {
   "cell_type": "code",
   "execution_count": 5,
   "metadata": {},
   "outputs": [
    {
     "name": "stdout",
     "output_type": "stream",
     "text": [
      "[-2.7594712767027467e6, -31.64291531266504]\n",
      "[5.57052996742893e-5, 4040.045551380452, 2.7554628740109736e6]\n",
      "0.0\n"
     ]
    }
   ],
   "source": [
    "arr = Array{Float64, 1}(zeros(size(x)[1])) # robimy nowy array na x[i]*y[i]\n",
    "\n",
    "for i in 1:size(x)[1]\n",
    "    arr[i] = x[i]*y[i]\n",
    "end\n",
    "\n",
    "neg = 0\n",
    "for i in 1:size(x)[1]\n",
    "    if arr[i] < Float64(0.0)\n",
    "        neg += 1\n",
    "    end\n",
    "end\n",
    "\n",
    "arr_neg = Array{Float64, 1}(zeros(neg))\n",
    "idx = 1\n",
    "for i in 1:size(x)[1]\n",
    "    if arr[i] < Float64(0.0)\n",
    "        arr_neg[idx] = arr[i]\n",
    "        idx += 1\n",
    "    end\n",
    "end\n",
    "\n",
    "arr_neg = sort(arr_neg; alg=QuickSort)\n",
    "println(arr_neg)\n",
    "\n",
    "pos = 0\n",
    "for i in 1:size(x)[1]\n",
    "    if arr[i] >= Float64(0.0)\n",
    "        pos += 1\n",
    "    end\n",
    "end\n",
    "\n",
    "arr_pos = Array{Float64, 1}(zeros(pos))\n",
    "idx = 1\n",
    "for i in 1:size(x)[1]\n",
    "    if arr[i] >= Float64(0.0)\n",
    "        arr_pos[idx] = arr[i]\n",
    "        idx += 1\n",
    "    end\n",
    "end\n",
    "\n",
    "arr_pos = sort(arr_pos; alg=QuickSort)\n",
    "println(arr_pos)\n",
    "\n",
    "Sum_neg = Float64(0.0)\n",
    "\n",
    "for i in 1:size(arr_neg)[1]\n",
    "    Sum_neg += arr_neg[i]\n",
    "end\n",
    "\n",
    "Sum_pos = Float64(0.0)\n",
    "\n",
    "for i in size(arr_pos)[1]:-1:1\n",
    "    Sum_pos += arr_pos[i]\n",
    "end\n",
    "\n",
    "Sum = Sum_neg + Sum_pos\n",
    "println(Sum)"
   ]
  },
  {
   "cell_type": "markdown",
   "metadata": {},
   "source": [
    "Sposob #4:"
   ]
  },
  {
   "cell_type": "code",
   "execution_count": 6,
   "metadata": {},
   "outputs": [
    {
     "name": "stdout",
     "output_type": "stream",
     "text": [
      "0.0\n"
     ]
    }
   ],
   "source": [
    "Sum_neg = Float64(0.0)\n",
    "\n",
    "for i in size(arr_neg)[1]:-1:1\n",
    "    Sum_neg += arr_neg[i]\n",
    "end\n",
    "\n",
    "Sum_pos = Float64(0.0)\n",
    "\n",
    "for i in 1:size(arr_pos)[1]\n",
    "    Sum_pos += arr_pos[i]\n",
    "end\n",
    "\n",
    "Sum = Sum_neg + Sum_pos\n",
    "println(Sum)"
   ]
  },
  {
   "cell_type": "markdown",
   "metadata": {},
   "source": [
    "## TERAZ FLOAT32"
   ]
  },
  {
   "cell_type": "code",
   "execution_count": 7,
   "metadata": {},
   "outputs": [
    {
     "data": {
      "text/plain": [
       "5-element Array{Float32,1}:\n",
       "  2.7182817\n",
       " -3.1415927\n",
       "  1.4142135\n",
       "  0.5772157\n",
       "  0.30103"
      ]
     },
     "execution_count": 7,
     "metadata": {},
     "output_type": "execute_result"
    }
   ],
   "source": [
    "x = Array{Float32, 1}([2.718281828, -3.141592654, 1.414213562, 0.5772156649, 0.3010299957])"
   ]
  },
  {
   "cell_type": "code",
   "execution_count": 8,
   "metadata": {},
   "outputs": [
    {
     "data": {
      "text/plain": [
       "5-element Array{Float32,1}:\n",
       "   1486.2498\n",
       " 878367.0\n",
       "    -22.37492\n",
       "      4.7737145f6\n",
       "      0.000185049"
      ]
     },
     "execution_count": 8,
     "metadata": {},
     "output_type": "execute_result"
    }
   ],
   "source": [
    "y = Array{Float32, 1}([1486.2497, 878366.9879, -22.37492, 4773714.647, 0.000185049])"
   ]
  },
  {
   "cell_type": "markdown",
   "metadata": {},
   "source": [
    "Sposob #1:"
   ]
  },
  {
   "cell_type": "code",
   "execution_count": 9,
   "metadata": {},
   "outputs": [
    {
     "name": "stdout",
     "output_type": "stream",
     "text": [
      "-0.4999443\n"
     ]
    }
   ],
   "source": [
    "Sum = Float32(0.0)\n",
    "\n",
    "for i in 1:size(x)[1]\n",
    "   Sum += x[i]*y[i]\n",
    "end\n",
    "\n",
    "println(Sum)"
   ]
  },
  {
   "cell_type": "markdown",
   "metadata": {},
   "source": [
    "Sposob #2:"
   ]
  },
  {
   "cell_type": "code",
   "execution_count": 10,
   "metadata": {},
   "outputs": [
    {
     "name": "stdout",
     "output_type": "stream",
     "text": [
      "-0.4543457\n"
     ]
    }
   ],
   "source": [
    "Sum = Float32(0.0)\n",
    "\n",
    "for i in size(x)[1]:-1:1\n",
    "   Sum += x[i]*y[i]\n",
    "end\n",
    "\n",
    "println(Sum)"
   ]
  },
  {
   "cell_type": "markdown",
   "metadata": {},
   "source": [
    "Sposob #3:"
   ]
  },
  {
   "cell_type": "code",
   "execution_count": 11,
   "metadata": {},
   "outputs": [
    {
     "name": "stdout",
     "output_type": "stream",
     "text": [
      "Float32[-2.7594715f6, -31.642914]\n",
      "Float32[5.57053f-5, 4040.0457, 2.7554628f6]\n",
      "-0.5\n"
     ]
    }
   ],
   "source": [
    "arr = Array{Float32, 1}(zeros(size(x)[1])) # robimy nowy array na x[i]*y[i]\n",
    "\n",
    "for i in 1:size(x)[1]\n",
    "    arr[i] = x[i]*y[i]\n",
    "end\n",
    "\n",
    "neg = 0\n",
    "for i in 1:size(x)[1]\n",
    "    if arr[i] < Float32(0.0)\n",
    "        neg += 1\n",
    "    end\n",
    "end\n",
    "\n",
    "arr_neg = Array{Float32, 1}(zeros(neg))\n",
    "idx = 1\n",
    "for i in 1:size(x)[1]\n",
    "    if arr[i] < Float32(0.0)\n",
    "        arr_neg[idx] = arr[i]\n",
    "        idx += 1\n",
    "    end\n",
    "end\n",
    "\n",
    "arr_neg = sort(arr_neg; alg=QuickSort)\n",
    "println(arr_neg)\n",
    "\n",
    "pos = 0\n",
    "for i in 1:size(x)[1]\n",
    "    if arr[i] >= Float32(0.0)\n",
    "        pos += 1\n",
    "    end\n",
    "end\n",
    "\n",
    "arr_pos = Array{Float32, 1}(zeros(pos))\n",
    "idx = 1\n",
    "for i in 1:size(x)[1]\n",
    "    if arr[i] >= Float32(0.0)\n",
    "        arr_pos[idx] = arr[i]\n",
    "        idx += 1\n",
    "    end\n",
    "end\n",
    "\n",
    "arr_pos = sort(arr_pos; alg=QuickSort)\n",
    "println(arr_pos)\n",
    "\n",
    "Sum_neg = Float32(0.0)\n",
    "\n",
    "for i in 1:size(arr_neg)[1]\n",
    "    Sum_neg += arr_neg[i]\n",
    "end\n",
    "\n",
    "Sum_pos = Float32(0.0)\n",
    "\n",
    "for i in size(arr_pos)[1]:-1:1\n",
    "    Sum_pos += arr_pos[i]\n",
    "end\n",
    "\n",
    "Sum = Sum_neg + Sum_pos\n",
    "println(Sum)"
   ]
  },
  {
   "cell_type": "code",
   "execution_count": 12,
   "metadata": {},
   "outputs": [
    {
     "name": "stdout",
     "output_type": "stream",
     "text": [
      "-0.5\n"
     ]
    }
   ],
   "source": [
    "Sum_neg = Float32(0.0)\n",
    "\n",
    "for i in size(arr_neg)[1]:-1:1\n",
    "    Sum_neg += arr_neg[i]\n",
    "end\n",
    "\n",
    "Sum_pos = Float32(0.0)\n",
    "\n",
    "for i in 1:size(arr_pos)[1]\n",
    "    Sum_pos += arr_pos[i]\n",
    "end\n",
    "\n",
    "Sum = Sum_neg + Sum_pos\n",
    "println(Sum)"
   ]
  },
  {
   "cell_type": "code",
   "execution_count": null,
   "metadata": {},
   "outputs": [],
   "source": []
  }
 ],
 "metadata": {
  "kernelspec": {
   "display_name": "Julia 1.4.1",
   "language": "julia",
   "name": "julia-1.4"
  },
  "language_info": {
   "file_extension": ".jl",
   "mimetype": "application/julia",
   "name": "julia",
   "version": "1.4.1"
  }
 },
 "nbformat": 4,
 "nbformat_minor": 4
}
