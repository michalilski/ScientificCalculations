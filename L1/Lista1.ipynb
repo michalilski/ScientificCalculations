{
 "cells": [
  {
   "cell_type": "markdown",
   "metadata": {},
   "source": [
    "# Lista 1\n",
    "W tym pliku znajdują się rozwiąznia zadań do listy 1. oraz komentarze i odpowiedzi do pytań zawartych w poleceniu. Dodatkowo do zadania 1. program w języku C znajduje się w pliku *zad1.c*.  \n",
    "Michał Ilski, Obliczenia naukowe 2020."
   ]
  },
  {
   "cell_type": "markdown",
   "metadata": {},
   "source": [
    "## Zad. 1"
   ]
  },
  {
   "cell_type": "markdown",
   "metadata": {},
   "source": [
    "Opis: W zadaniu należy wyznaczyć wartości maszynowego epsilona, eta oraz maksymalną możliwą wartość dla arytmetyk Float16, Float32, Float64."
   ]
  },
  {
   "cell_type": "markdown",
   "metadata": {},
   "source": [
    "Funkcja obliczająca epsilony maszynowe dla danego typu (Float16/Float32/Float64)."
   ]
  },
  {
   "cell_type": "code",
   "execution_count": 1,
   "metadata": {},
   "outputs": [
    {
     "data": {
      "text/plain": [
       "custom_macheps (generic function with 1 method)"
      ]
     },
     "execution_count": 1,
     "metadata": {},
     "output_type": "execute_result"
    }
   ],
   "source": [
    "function custom_macheps(fl)\n",
    "    result = fl(1.0)\n",
    "    while fl(1.0) + fl(result / 2.0) > fl(1.0)\n",
    "        result /= fl(2.0)\n",
    "    end\n",
    "    return result\n",
    "end"
   ]
  },
  {
   "cell_type": "code",
   "execution_count": 2,
   "metadata": {},
   "outputs": [
    {
     "name": "stdout",
     "output_type": "stream",
     "text": [
      "Machine Epsilon:\n",
      "Float16: Custom macheps: 0.000977 | Julia eps: 0.000977\n",
      "Float32: Custom macheps: 1.1920929e-7 | Julia eps: 1.1920929e-7\n",
      "Float64: Custom macheps: 2.220446049250313e-16 | Julia eps: 2.220446049250313e-16\n"
     ]
    }
   ],
   "source": [
    "print(\"Machine Epsilon:\\n\")\n",
    "print(\"Float16: Custom macheps: \", custom_macheps(Float16), \" | Julia eps: \", eps(Float16), \"\\n\")\n",
    "print(\"Float32: Custom macheps: \", custom_macheps(Float32), \" | Julia eps: \", eps(Float32), \"\\n\")\n",
    "print(\"Float64: Custom macheps: \", custom_macheps(Float64), \" | Julia eps: \", eps(Float64), \"\\n\")"
   ]
  },
  {
   "cell_type": "markdown",
   "metadata": {},
   "source": [
    "float.h dla języka C (gcc 9.3.0) zawiera wartości epsilon:\n",
    "- Float32 (float) machine epsilon: 1.1920929e-07\n",
    "- Float64 (double) machine epsilon: 2.220446049250313e-16"
   ]
  },
  {
   "cell_type": "markdown",
   "metadata": {},
   "source": [
    "Wyniki i wnioski:  \n",
    "Zarówno w przypadku napisanej funkcji jak i pochodzącej z języka Julia, dostajemy te same wyniki. Podobnie w języku C z pominięciem Float16. Dla wyższej precyzji jesteśmy w stanie zapisać więcej bitów,  czyli w szczególności otrzymujemy mniejszy epsilon maszynowy."
   ]
  },
  {
   "cell_type": "markdown",
   "metadata": {},
   "source": [
    "1) Jaki związek ma macheps z precyzją arytmetyki?  "
   ]
  },
  {
   "cell_type": "markdown",
   "metadata": {},
   "source": [
    "Wiemy, że precyzja e=0.5\\*B^(1-t), gdzie B - baza, t - długość mantysy+1. Dla systemu binarnego mamy e=2^(-t). Weźmy przykładowo arytmetykę Float32."
   ]
  },
  {
   "cell_type": "code",
   "execution_count": 3,
   "metadata": {},
   "outputs": [
    {
     "name": "stdout",
     "output_type": "stream",
     "text": [
      "1.0(dec) = 00111111100000000000000000000000(bin)\n"
     ]
    }
   ],
   "source": [
    "print(Float32(1.0), \"(dec) = \",bitstring(Float32(1.0)), \"(bin)\\n\")"
   ]
  },
  {
   "cell_type": "markdown",
   "metadata": {},
   "source": [
    "Następnie dodaję 2^(-24) - jest to 2 razy mniejsza wartość niż najmniejsza wartość jaką mogę realnie dodać (czyli o 1 rząd mniejsza)."
   ]
  },
  {
   "cell_type": "code",
   "execution_count": 4,
   "metadata": {},
   "outputs": [
    {
     "name": "stdout",
     "output_type": "stream",
     "text": [
      "00111111100000000000000000000000\n"
     ]
    }
   ],
   "source": [
    "print(bitstring(Float32(1.0)+Float32(2^(-24))),\"\\n\")"
   ]
  },
  {
   "cell_type": "markdown",
   "metadata": {},
   "source": [
    "A tutaj 1+macheps:"
   ]
  },
  {
   "cell_type": "code",
   "execution_count": 5,
   "metadata": {},
   "outputs": [
    {
     "name": "stdout",
     "output_type": "stream",
     "text": [
      "00111111100000000000000000000001\n"
     ]
    }
   ],
   "source": [
    "print(bitstring(Float32(1.0)+eps(Float32)),\"\\n\")"
   ]
  },
  {
   "cell_type": "markdown",
   "metadata": {},
   "source": [
    "Czyli 2\\*e = macheps."
   ]
  },
  {
   "cell_type": "code",
   "execution_count": 6,
   "metadata": {},
   "outputs": [
    {
     "data": {
      "text/plain": [
       "true"
      ]
     },
     "execution_count": 6,
     "metadata": {},
     "output_type": "execute_result"
    }
   ],
   "source": [
    "eps(Float32) == Float32(2.0)*Float32(2^(-24))"
   ]
  },
  {
   "cell_type": "code",
   "execution_count": 7,
   "metadata": {},
   "outputs": [
    {
     "data": {
      "text/plain": [
       "custom_eta (generic function with 1 method)"
      ]
     },
     "execution_count": 7,
     "metadata": {},
     "output_type": "execute_result"
    }
   ],
   "source": [
    "function custom_eta(fl)\n",
    "    result = fl(1.0)\n",
    "    while fl(result / 2.0) > fl(0.0)\n",
    "        result /= fl(2.0)\n",
    "    end\n",
    "    return result\n",
    "end"
   ]
  },
  {
   "cell_type": "code",
   "execution_count": 8,
   "metadata": {},
   "outputs": [
    {
     "name": "stdout",
     "output_type": "stream",
     "text": [
      "Eta:\n",
      "Float16: Custom eta: 6.0e-8 | Julia eta: 6.0e-8\n",
      "Float32: Custom eta: 1.0e-45 | Julia eta: 1.0e-45\n",
      "Float64: Custom eta: 5.0e-324 | Julia eta: 5.0e-324\n"
     ]
    }
   ],
   "source": [
    "print(\"Eta:\\n\")\n",
    "print(\"Float16: Custom eta: \", custom_eta(Float16), \" | Julia eta: \", nextfloat(Float16(0.0)), \"\\n\")\n",
    "print(\"Float32: Custom eta: \", custom_eta(Float32), \" | Julia eta: \", nextfloat(Float32(0.0)), \"\\n\")\n",
    "print(\"Float64: Custom eta: \", custom_eta(Float64), \" | Julia eta: \", nextfloat(Float64(0.0)), \"\\n\")"
   ]
  },
  {
   "cell_type": "markdown",
   "metadata": {},
   "source": [
    "Wyniki i wnioski:  \n",
    "Funkcja z zadania jak i z języka Julia zwracają te same wyniki. Podobnie jak wyżej, większa precyzja pozwala zapisać więcej liczb zmiennoprzecinkowych, co przekłada się na mniejszą liczbę następną po 0.0."
   ]
  },
  {
   "cell_type": "markdown",
   "metadata": {},
   "source": [
    "2) Jaki związek ma liczba eta z liczbą MIN_sub?"
   ]
  },
  {
   "cell_type": "markdown",
   "metadata": {},
   "source": [
    "Obliczmy ze wzoru MIN_sub=2^(-(t-1))\\*2^(c_min) przykładowo dla Float32 (t=24)."
   ]
  },
  {
   "cell_type": "code",
   "execution_count": 9,
   "metadata": {},
   "outputs": [
    {
     "name": "stdout",
     "output_type": "stream",
     "text": [
      "1.0e-45\n"
     ]
    }
   ],
   "source": [
    "print((Float32(2.0^(-(23.0)))*Float32(2.0^-126.0)), '\\n')"
   ]
  },
  {
   "cell_type": "markdown",
   "metadata": {},
   "source": [
    "Jak widać wartości te są identyczne."
   ]
  },
  {
   "cell_type": "markdown",
   "metadata": {},
   "source": [
    "3) Co zwracają floatmin(Float32) i floatmin(Float64) i jaki jest związek z MIN_nor?"
   ]
  },
  {
   "cell_type": "code",
   "execution_count": 10,
   "metadata": {},
   "outputs": [
    {
     "name": "stdout",
     "output_type": "stream",
     "text": [
      "Float min:\n",
      "Float32: 1.1754944e-38\n",
      "Float64: 2.2250738585072014e-308\n"
     ]
    }
   ],
   "source": [
    "print(\"Float min:\\n\")\n",
    "print(\"Float32: \", floatmin(Float32), \"\\n\")\n",
    "print(\"Float64: \", floatmin(Float64), \"\\n\")"
   ]
  },
  {
   "cell_type": "markdown",
   "metadata": {},
   "source": [
    "Funkcje floatmin zwracają najmniejsze znormalizowane wartości dla poszczególnych arytmetyk. Zgodnie ze wzorem MIN_nor = 2^(c_min). Dla Float32:"
   ]
  },
  {
   "cell_type": "code",
   "execution_count": 11,
   "metadata": {},
   "outputs": [
    {
     "name": "stdout",
     "output_type": "stream",
     "text": [
      "1.1754944e-38\n"
     ]
    }
   ],
   "source": [
    "print(Float32(2.0^(-126.0)), '\\n')"
   ]
  },
  {
   "cell_type": "markdown",
   "metadata": {},
   "source": [
    "Stąd jak widać MIN_nor = floatmin dla danej arytmetyki."
   ]
  },
  {
   "cell_type": "markdown",
   "metadata": {},
   "source": [
    "Funkcja zwaracająca maksymalną wartość, jaką można zapisać w danej precyzji (Float16/Float32/Float64)."
   ]
  },
  {
   "cell_type": "code",
   "execution_count": 12,
   "metadata": {},
   "outputs": [
    {
     "data": {
      "text/plain": [
       "custom_max (generic function with 1 method)"
      ]
     },
     "execution_count": 12,
     "metadata": {},
     "output_type": "execute_result"
    }
   ],
   "source": [
    "function custom_max(fl)\n",
    "    result = fl(1.0)\n",
    "    while !isinf(fl(result) * fl(2.0))\n",
    "        result *= fl(2.0)\n",
    "    end\n",
    "    #here we want to multiply our result by largest number which will give result under inf\n",
    "    result *= fl(2.0)-eps(fl)\n",
    "    return result\n",
    "end"
   ]
  },
  {
   "cell_type": "code",
   "execution_count": 13,
   "metadata": {},
   "outputs": [
    {
     "name": "stdout",
     "output_type": "stream",
     "text": [
      "Max float:\n",
      "Float16: Custom max: 6.55e4 | Julia max: 6.55e4\n",
      "Float32: Custom max: 3.4028235e38 | Julia max: 3.4028235e38\n",
      "Float64: Custom max: 1.7976931348623157e308 | Julia max: 1.7976931348623157e308\n"
     ]
    }
   ],
   "source": [
    "print(\"Max float:\\n\")\n",
    "print(\"Float16: Custom max: \", custom_max(Float16), \" | Julia max: \", floatmax(Float16(0.0)), \"\\n\")\n",
    "print(\"Float32: Custom max: \", custom_max(Float32), \" | Julia max: \", floatmax(Float32(0.0)), \"\\n\")\n",
    "print(\"Float64: Custom max: \", custom_max(Float64), \" | Julia max: \", floatmax(Float64(0.0)), \"\\n\")"
   ]
  },
  {
   "cell_type": "markdown",
   "metadata": {},
   "source": [
    "float.h dla języka C zawiera wartość max:\n",
    "- Float32 max: 3.4028235e+38\n",
    "- Float62 max: 1.797693134862316e+308"
   ]
  },
  {
   "cell_type": "markdown",
   "metadata": {},
   "source": [
    "Wyniki i wnioski:  \n",
    "Podobnie jak w przypadku epsilon, wartości funkcji z zadania, z języka Julia oraz C są identyczne dla odpowiednich typów. Dla większych precyzji możemy zapisać więcej liczb, dlatego wartości maksymalne są odpowiednio większe."
   ]
  },
  {
   "cell_type": "markdown",
   "metadata": {},
   "source": [
    "## Zad. 2"
   ]
  },
  {
   "cell_type": "markdown",
   "metadata": {},
   "source": [
    "Opis: W zadaniu należy sprawdzić poprawność alternatywnej metody znajdowania epsilona maszynowego."
   ]
  },
  {
   "cell_type": "code",
   "execution_count": 14,
   "metadata": {},
   "outputs": [
    {
     "data": {
      "text/plain": [
       "kahan_method (generic function with 1 method)"
      ]
     },
     "execution_count": 14,
     "metadata": {},
     "output_type": "execute_result"
    }
   ],
   "source": [
    "function kahan_method(fl)\n",
    "    return fl(3.0) * (fl(4.0 / 3.0) - fl(1.0)) - fl(1.0)\n",
    "end"
   ]
  },
  {
   "cell_type": "code",
   "execution_count": 15,
   "metadata": {},
   "outputs": [
    {
     "name": "stdout",
     "output_type": "stream",
     "text": [
      "Machine Epsilon:\n",
      "Float16: Kahan method: -0.000977 | Julia eps: 0.000977\n",
      "Float32: Kahan method: 1.1920929e-7 | Julia eps: 1.1920929e-7\n",
      "Float64: Kahan method: -2.220446049250313e-16 | Julia eps: 2.220446049250313e-16\n"
     ]
    }
   ],
   "source": [
    "print(\"Machine Epsilon:\\n\")\n",
    "print(\"Float16: Kahan method: \", kahan_method(Float16), \" | Julia eps: \", eps(Float16), \"\\n\")\n",
    "print(\"Float32: Kahan method: \", kahan_method(Float32), \" | Julia eps: \", eps(Float32), \"\\n\")\n",
    "print(\"Float64: Kahan method: \", kahan_method(Float64), \" | Julia eps: \", eps(Float64), \"\\n\")"
   ]
  },
  {
   "cell_type": "markdown",
   "metadata": {},
   "source": [
    "Wyniki i wnioski:  \n",
    "Metoda Kahana działa poprawnie z dokładnością do znaku, zatem może stanowić alternatywę do podjeścia iteracyjnego. Poniższa implementacja naprawia błąd związany ze znakiem."
   ]
  },
  {
   "cell_type": "code",
   "execution_count": 16,
   "metadata": {},
   "outputs": [
    {
     "data": {
      "text/plain": [
       "kahan_method_abs (generic function with 1 method)"
      ]
     },
     "execution_count": 16,
     "metadata": {},
     "output_type": "execute_result"
    }
   ],
   "source": [
    "function kahan_method_abs(fl)\n",
    "    return abs(fl(3.0) * (fl(4.0 / 3.0) - fl(1.0)) - fl(1.0))\n",
    "end"
   ]
  },
  {
   "cell_type": "code",
   "execution_count": 17,
   "metadata": {},
   "outputs": [
    {
     "name": "stdout",
     "output_type": "stream",
     "text": [
      "Machine Epsilon:\n",
      "Float16: Kahan method with abs: 0.000977 | Julia eps: 0.000977\n",
      "Float32: Kahan method with abs: 1.1920929e-7 | Julia eps: 1.1920929e-7\n",
      "Float64: Kahan method with abs: 2.220446049250313e-16 | Julia eps: 2.220446049250313e-16\n"
     ]
    }
   ],
   "source": [
    "print(\"Machine Epsilon:\\n\")\n",
    "print(\"Float16: Kahan method with abs: \", kahan_method_abs(Float16), \" | Julia eps: \", eps(Float16), \"\\n\")\n",
    "print(\"Float32: Kahan method with abs: \", kahan_method_abs(Float32), \" | Julia eps: \", eps(Float32), \"\\n\")\n",
    "print(\"Float64: Kahan method with abs: \", kahan_method_abs(Float64), \" | Julia eps: \", eps(Float64), \"\\n\")"
   ]
  },
  {
   "cell_type": "markdown",
   "metadata": {},
   "source": [
    "## Zad. 3"
   ]
  },
  {
   "cell_type": "markdown",
   "metadata": {},
   "source": [
    "Opis: W zadaniu należy sprawdzić rozmieszczenie liczb w arytmetyce Float64 w zależności od zakresu wartości liczb."
   ]
  },
  {
   "cell_type": "markdown",
   "metadata": {},
   "source": [
    "Funkcja wyliczająca następną liczbę według wzoru z zadania."
   ]
  },
  {
   "cell_type": "code",
   "execution_count": 18,
   "metadata": {},
   "outputs": [
    {
     "data": {
      "text/plain": [
       "next_number (generic function with 1 method)"
      ]
     },
     "execution_count": 18,
     "metadata": {},
     "output_type": "execute_result"
    }
   ],
   "source": [
    "function next_number(previous, k, step)\n",
    "    return Float64(previous) + Float64(k) * Float64(step)\n",
    "end"
   ]
  },
  {
   "cell_type": "markdown",
   "metadata": {},
   "source": [
    "Funkcja testująca tezę z zadania."
   ]
  },
  {
   "cell_type": "code",
   "execution_count": 19,
   "metadata": {},
   "outputs": [
    {
     "data": {
      "text/plain": [
       "test (generic function with 1 method)"
      ]
     },
     "execution_count": 19,
     "metadata": {},
     "output_type": "execute_result"
    }
   ],
   "source": [
    "function test(start, stop, step, secure_limit)\n",
    "    number = Float64(start)\n",
    "    k = Float64(1.0)\n",
    "    counter = 1\n",
    "    print(\"Starting from: \", bitstring(number), \"\\n\")\n",
    "    while next_number(number, k, step) <= Float64(stop) && counter <= secure_limit\n",
    "        print(\"nextfloat: \", bitstring(nextfloat(number)))\n",
    "        number = next_number(number, k, step)\n",
    "        print(\" Bits: \", bitstring(number), \"\\n\")\n",
    "        counter += 1\n",
    "    end\n",
    "end"
   ]
  },
  {
   "cell_type": "markdown",
   "metadata": {},
   "source": [
    "Wywołanie testu dla przedziału \\[1,2\\], krok 2^(-52). W celach bezpieczeństwa dodano limit drukowanych rezulatatów (ostatni parametr)."
   ]
  },
  {
   "cell_type": "code",
   "execution_count": 20,
   "metadata": {},
   "outputs": [
    {
     "name": "stdout",
     "output_type": "stream",
     "text": [
      "Starting from: 0011111111110000000000000000000000000000000000000000000000000000\n",
      "nextfloat: 0011111111110000000000000000000000000000000000000000000000000001 Bits: 0011111111110000000000000000000000000000000000000000000000000001\n",
      "nextfloat: 0011111111110000000000000000000000000000000000000000000000000010 Bits: 0011111111110000000000000000000000000000000000000000000000000010\n",
      "nextfloat: 0011111111110000000000000000000000000000000000000000000000000011 Bits: 0011111111110000000000000000000000000000000000000000000000000011\n",
      "nextfloat: 0011111111110000000000000000000000000000000000000000000000000100 Bits: 0011111111110000000000000000000000000000000000000000000000000100\n",
      "nextfloat: 0011111111110000000000000000000000000000000000000000000000000101 Bits: 0011111111110000000000000000000000000000000000000000000000000101\n",
      "nextfloat: 0011111111110000000000000000000000000000000000000000000000000110 Bits: 0011111111110000000000000000000000000000000000000000000000000110\n",
      "nextfloat: 0011111111110000000000000000000000000000000000000000000000000111 Bits: 0011111111110000000000000000000000000000000000000000000000000111\n",
      "nextfloat: 0011111111110000000000000000000000000000000000000000000000001000 Bits: 0011111111110000000000000000000000000000000000000000000000001000\n",
      "nextfloat: 0011111111110000000000000000000000000000000000000000000000001001 Bits: 0011111111110000000000000000000000000000000000000000000000001001\n",
      "nextfloat: 0011111111110000000000000000000000000000000000000000000000001010 Bits: 0011111111110000000000000000000000000000000000000000000000001010\n",
      "nextfloat: 0011111111110000000000000000000000000000000000000000000000001011 Bits: 0011111111110000000000000000000000000000000000000000000000001011\n",
      "nextfloat: 0011111111110000000000000000000000000000000000000000000000001100 Bits: 0011111111110000000000000000000000000000000000000000000000001100\n",
      "nextfloat: 0011111111110000000000000000000000000000000000000000000000001101 Bits: 0011111111110000000000000000000000000000000000000000000000001101\n",
      "nextfloat: 0011111111110000000000000000000000000000000000000000000000001110 Bits: 0011111111110000000000000000000000000000000000000000000000001110\n",
      "nextfloat: 0011111111110000000000000000000000000000000000000000000000001111 Bits: 0011111111110000000000000000000000000000000000000000000000001111\n",
      "nextfloat: 0011111111110000000000000000000000000000000000000000000000010000 Bits: 0011111111110000000000000000000000000000000000000000000000010000\n",
      "nextfloat: 0011111111110000000000000000000000000000000000000000000000010001 Bits: 0011111111110000000000000000000000000000000000000000000000010001\n",
      "nextfloat: 0011111111110000000000000000000000000000000000000000000000010010 Bits: 0011111111110000000000000000000000000000000000000000000000010010\n",
      "nextfloat: 0011111111110000000000000000000000000000000000000000000000010011 Bits: 0011111111110000000000000000000000000000000000000000000000010011\n",
      "nextfloat: 0011111111110000000000000000000000000000000000000000000000010100 Bits: 0011111111110000000000000000000000000000000000000000000000010100\n"
     ]
    }
   ],
   "source": [
    "test(Float64(1.0), Float64(2.0), Float64(2.0)^Float64(-52), 20)"
   ]
  },
  {
   "cell_type": "markdown",
   "metadata": {},
   "source": [
    "Wyniki i wnioski:  \n",
    "W powyższym przypadku widzimy, że wartości funkcji next_number jak i wbudowanej funkcji nextfloat są identyczne. W zakresie \\[2^0, 2^1\\] bit znaku oraz cecha nie ulegają zmianie. W mantysie widać, że każdy następny rezultat to kolejna liczba w zapisie binarnym, co oznacza że w danej precyzji nie da się zrobić mniejszego kroku."
   ]
  },
  {
   "cell_type": "code",
   "execution_count": 21,
   "metadata": {},
   "outputs": [
    {
     "name": "stdout",
     "output_type": "stream",
     "text": [
      "Starting from: 0011111111100000000000000000000000000000000000000000000000000000\n",
      "nextfloat: 0011111111100000000000000000000000000000000000000000000000000001 Bits: 0011111111100000000000000000000000000000000000000000000000000001\n",
      "nextfloat: 0011111111100000000000000000000000000000000000000000000000000010 Bits: 0011111111100000000000000000000000000000000000000000000000000010\n",
      "nextfloat: 0011111111100000000000000000000000000000000000000000000000000011 Bits: 0011111111100000000000000000000000000000000000000000000000000011\n",
      "nextfloat: 0011111111100000000000000000000000000000000000000000000000000100 Bits: 0011111111100000000000000000000000000000000000000000000000000100\n",
      "nextfloat: 0011111111100000000000000000000000000000000000000000000000000101 Bits: 0011111111100000000000000000000000000000000000000000000000000101\n",
      "nextfloat: 0011111111100000000000000000000000000000000000000000000000000110 Bits: 0011111111100000000000000000000000000000000000000000000000000110\n",
      "nextfloat: 0011111111100000000000000000000000000000000000000000000000000111 Bits: 0011111111100000000000000000000000000000000000000000000000000111\n",
      "nextfloat: 0011111111100000000000000000000000000000000000000000000000001000 Bits: 0011111111100000000000000000000000000000000000000000000000001000\n",
      "nextfloat: 0011111111100000000000000000000000000000000000000000000000001001 Bits: 0011111111100000000000000000000000000000000000000000000000001001\n",
      "nextfloat: 0011111111100000000000000000000000000000000000000000000000001010 Bits: 0011111111100000000000000000000000000000000000000000000000001010\n",
      "nextfloat: 0011111111100000000000000000000000000000000000000000000000001011 Bits: 0011111111100000000000000000000000000000000000000000000000001011\n",
      "nextfloat: 0011111111100000000000000000000000000000000000000000000000001100 Bits: 0011111111100000000000000000000000000000000000000000000000001100\n",
      "nextfloat: 0011111111100000000000000000000000000000000000000000000000001101 Bits: 0011111111100000000000000000000000000000000000000000000000001101\n",
      "nextfloat: 0011111111100000000000000000000000000000000000000000000000001110 Bits: 0011111111100000000000000000000000000000000000000000000000001110\n",
      "nextfloat: 0011111111100000000000000000000000000000000000000000000000001111 Bits: 0011111111100000000000000000000000000000000000000000000000001111\n",
      "nextfloat: 0011111111100000000000000000000000000000000000000000000000010000 Bits: 0011111111100000000000000000000000000000000000000000000000010000\n",
      "nextfloat: 0011111111100000000000000000000000000000000000000000000000010001 Bits: 0011111111100000000000000000000000000000000000000000000000010001\n",
      "nextfloat: 0011111111100000000000000000000000000000000000000000000000010010 Bits: 0011111111100000000000000000000000000000000000000000000000010010\n",
      "nextfloat: 0011111111100000000000000000000000000000000000000000000000010011 Bits: 0011111111100000000000000000000000000000000000000000000000010011\n",
      "nextfloat: 0011111111100000000000000000000000000000000000000000000000010100 Bits: 0011111111100000000000000000000000000000000000000000000000010100\n"
     ]
    }
   ],
   "source": [
    "test(Float64(0.5), Float64(1.0), Float64(2.0)^Float64(-53), 20)"
   ]
  },
  {
   "cell_type": "markdown",
   "metadata": {},
   "source": [
    "Wyniki i wnioski:  \n",
    "Otrzymane wyniki są analogiczne do tych z przypadku wyżej. Tutaj jednak mamy mniejszy krok, ponieważ rząd liczb z przedziału \\[2^(-1), 2^0\\] (w zapisie binarnym) jest niższy co pozwala na dokładniejsze zapisanie danych liczb. "
   ]
  },
  {
   "cell_type": "code",
   "execution_count": 22,
   "metadata": {},
   "outputs": [
    {
     "name": "stdout",
     "output_type": "stream",
     "text": [
      "Starting from: 0100000000000000000000000000000000000000000000000000000000000000\n",
      "nextfloat: 0100000000000000000000000000000000000000000000000000000000000001 Bits: 0100000000000000000000000000000000000000000000000000000000000001\n",
      "nextfloat: 0100000000000000000000000000000000000000000000000000000000000010 Bits: 0100000000000000000000000000000000000000000000000000000000000010\n",
      "nextfloat: 0100000000000000000000000000000000000000000000000000000000000011 Bits: 0100000000000000000000000000000000000000000000000000000000000011\n",
      "nextfloat: 0100000000000000000000000000000000000000000000000000000000000100 Bits: 0100000000000000000000000000000000000000000000000000000000000100\n",
      "nextfloat: 0100000000000000000000000000000000000000000000000000000000000101 Bits: 0100000000000000000000000000000000000000000000000000000000000101\n",
      "nextfloat: 0100000000000000000000000000000000000000000000000000000000000110 Bits: 0100000000000000000000000000000000000000000000000000000000000110\n",
      "nextfloat: 0100000000000000000000000000000000000000000000000000000000000111 Bits: 0100000000000000000000000000000000000000000000000000000000000111\n",
      "nextfloat: 0100000000000000000000000000000000000000000000000000000000001000 Bits: 0100000000000000000000000000000000000000000000000000000000001000\n",
      "nextfloat: 0100000000000000000000000000000000000000000000000000000000001001 Bits: 0100000000000000000000000000000000000000000000000000000000001001\n",
      "nextfloat: 0100000000000000000000000000000000000000000000000000000000001010 Bits: 0100000000000000000000000000000000000000000000000000000000001010\n",
      "nextfloat: 0100000000000000000000000000000000000000000000000000000000001011 Bits: 0100000000000000000000000000000000000000000000000000000000001011\n",
      "nextfloat: 0100000000000000000000000000000000000000000000000000000000001100 Bits: 0100000000000000000000000000000000000000000000000000000000001100\n",
      "nextfloat: 0100000000000000000000000000000000000000000000000000000000001101 Bits: 0100000000000000000000000000000000000000000000000000000000001101\n",
      "nextfloat: 0100000000000000000000000000000000000000000000000000000000001110 Bits: 0100000000000000000000000000000000000000000000000000000000001110\n",
      "nextfloat: 0100000000000000000000000000000000000000000000000000000000001111 Bits: 0100000000000000000000000000000000000000000000000000000000001111\n",
      "nextfloat: 0100000000000000000000000000000000000000000000000000000000010000 Bits: 0100000000000000000000000000000000000000000000000000000000010000\n",
      "nextfloat: 0100000000000000000000000000000000000000000000000000000000010001 Bits: 0100000000000000000000000000000000000000000000000000000000010001\n",
      "nextfloat: 0100000000000000000000000000000000000000000000000000000000010010 Bits: 0100000000000000000000000000000000000000000000000000000000010010\n",
      "nextfloat: 0100000000000000000000000000000000000000000000000000000000010011 Bits: 0100000000000000000000000000000000000000000000000000000000010011\n",
      "nextfloat: 0100000000000000000000000000000000000000000000000000000000010100 Bits: 0100000000000000000000000000000000000000000000000000000000010100\n"
     ]
    }
   ],
   "source": [
    "test(Float64(2.0), Float64(4.0), Float64(2.0)^Float64(-51), 20)"
   ]
  },
  {
   "cell_type": "markdown",
   "metadata": {},
   "source": [
    "Wyniki i wnioski:  \n",
    "Wyniki analogiczne jak wyżej. Tutaj krok jest większy niż w poprzednich przypadkach ze względu na wyższy rząd liczb w przedziale \\[2^1, 2^2\\]. Podsumowując, wraz ze wzrostem rzędu liczb spada dokładność przybliżeń."
   ]
  },
  {
   "cell_type": "markdown",
   "metadata": {},
   "source": [
    "## Zad 4."
   ]
  },
  {
   "cell_type": "markdown",
   "metadata": {},
   "source": [
    "Opis: W zadaniu należy pokazać, że w arytmetyce Float64 istnieją liczby x, dla których x*(1/x) != 1."
   ]
  },
  {
   "cell_type": "markdown",
   "metadata": {},
   "source": [
    "Funkcja wyszukująca najmniejszą liczbę spełniającą warunek z zadania (od razu znajduje wartość najmniejszą)."
   ]
  },
  {
   "cell_type": "code",
   "execution_count": 23,
   "metadata": {},
   "outputs": [
    {
     "data": {
      "text/plain": [
       "find_number (generic function with 1 method)"
      ]
     },
     "execution_count": 23,
     "metadata": {},
     "output_type": "execute_result"
    }
   ],
   "source": [
    "function find_number()\n",
    "    x = Float64(1.0)\n",
    "    while Float64(x * Float64(1/x)) == Float64(1.0) && x < Float64(2.0)\n",
    "        x = nextfloat(x)\n",
    "    end\n",
    "    return x\n",
    "end"
   ]
  },
  {
   "cell_type": "code",
   "execution_count": 24,
   "metadata": {},
   "outputs": [
    {
     "name": "stdout",
     "output_type": "stream",
     "text": [
      "Found: 1.000000057228997 Bits: 0011111111110000000000000000000000001111010111001011111100101010"
     ]
    }
   ],
   "source": [
    "x = find_number()\n",
    "print(\"Found: \", x, \" Bits: \", bitstring(x))"
   ]
  },
  {
   "cell_type": "markdown",
   "metadata": {},
   "source": [
    "Wyniki i wnioski:  \n",
    "Program w krótkim czasie jest w stanie znaleźć przypadek, w którym podana w zadaniu równość nie zachodzi. Wpływ na to ma błąd zaokrągleń w precyzji Float64, co powoduje problem nieodwracalności dzielenia."
   ]
  },
  {
   "cell_type": "markdown",
   "metadata": {},
   "source": [
    "## Zad 5."
   ]
  },
  {
   "cell_type": "markdown",
   "metadata": {},
   "source": [
    "Opis: W zadaniu należy policzyć iloczyn skalarny na 4 różne sposoby. Zmienie ulaga kolejność argumentów."
   ]
  },
  {
   "cell_type": "markdown",
   "metadata": {},
   "source": [
    "Implementacje funkcji z zadania:"
   ]
  },
  {
   "cell_type": "code",
   "execution_count": 25,
   "metadata": {},
   "outputs": [
    {
     "data": {
      "text/plain": [
       "f_a (generic function with 1 method)"
      ]
     },
     "execution_count": 25,
     "metadata": {},
     "output_type": "execute_result"
    }
   ],
   "source": [
    "function f_a(x, y, fl)\n",
    "    S = fl(0.0)\n",
    "    for i in 1:length(x)\n",
    "        S += fl(x[i]) * fl(y[i])\n",
    "    end\n",
    "    return S\n",
    "end"
   ]
  },
  {
   "cell_type": "code",
   "execution_count": 26,
   "metadata": {},
   "outputs": [
    {
     "data": {
      "text/plain": [
       "f_b (generic function with 1 method)"
      ]
     },
     "execution_count": 26,
     "metadata": {},
     "output_type": "execute_result"
    }
   ],
   "source": [
    "function f_b(x, y, fl)\n",
    "    S = fl(0.0)\n",
    "    for i in 5:-1:1\n",
    "        S += fl(x[i]) * fl(y[i])\n",
    "    end\n",
    "    return S\n",
    "end"
   ]
  },
  {
   "cell_type": "code",
   "execution_count": 169,
   "metadata": {},
   "outputs": [
    {
     "data": {
      "text/plain": [
       "f_c (generic function with 1 method)"
      ]
     },
     "execution_count": 169,
     "metadata": {},
     "output_type": "execute_result"
    }
   ],
   "source": [
    "function f_c(x, y, fl)\n",
    "    values = Array{fl,1}(zeros(0))\n",
    "    for i = 1:length(x)\n",
    "        push!(values, fl(x[i]) * fl(y[i]))\n",
    "    end\n",
    "    \n",
    "    #positive = values[values .>= 0]\n",
    "    positive = Array{fl,1}(zeros(0))\n",
    "    println(positive)\n",
    "    negative = Array{fl,1}(zeros(0))\n",
    "    for v in values\n",
    "        if v >= fl(0.0)\n",
    "            push!(positive, fl(v))\n",
    "        else\n",
    "            push!(negative, fl(v))\n",
    "        end\n",
    "    end\n",
    "    sort!(positive, rev=true)\n",
    "    #negative = values[values .< 0]\n",
    "    sort!(negative)\n",
    "    \n",
    "    p_sum = n_sum = fl(0.0)\n",
    "    for i in 1:length(positive)\n",
    "        p_sum += fl(positive[i])\n",
    "    end\n",
    "    for i in 1:length(negative)\n",
    "        n_sum += fl(negative[i])\n",
    "    end\n",
    "    return fl(p_sum) + fl(n_sum)\n",
    "end"
   ]
  },
  {
   "cell_type": "code",
   "execution_count": 175,
   "metadata": {},
   "outputs": [
    {
     "data": {
      "text/plain": [
       "f_d (generic function with 1 method)"
      ]
     },
     "execution_count": 175,
     "metadata": {},
     "output_type": "execute_result"
    }
   ],
   "source": [
    "function f_d(x, y, fl)\n",
    "    values = fl[]\n",
    "    for i = 1:length(x)\n",
    "        push!(values, fl(x[i]) * fl(y[i]))\n",
    "    end\n",
    "    \n",
    "    positive = fl[]\n",
    "    negative = fl[]\n",
    "    for v in values\n",
    "        if v >= fl(0.0)\n",
    "            push!(positive, fl(v))\n",
    "        else\n",
    "            push!(negative, fl(v))\n",
    "        end\n",
    "    end\n",
    "    #positive = values[values .>= fl(0.0)]\n",
    "    sort!(positive)\n",
    "    #negative = values[values .< fl(0.0)]\n",
    "    sort!(negative, rev=true)\n",
    "    println(positive)\n",
    "    \n",
    "    p_sum = n_sum = fl(0.0)\n",
    "    for i in 1:length(positive)\n",
    "        p_sum += fl(positive[i])\n",
    "    end\n",
    "    for i in 1:length(negative)\n",
    "        n_sum += fl(negative[i])\n",
    "    end\n",
    "    return fl(p_sum) + fl(n_sum)\n",
    "end"
   ]
  },
  {
   "cell_type": "code",
   "execution_count": 176,
   "metadata": {},
   "outputs": [
    {
     "data": {
      "text/plain": [
       "get_values (generic function with 1 method)"
      ]
     },
     "execution_count": 176,
     "metadata": {},
     "output_type": "execute_result"
    }
   ],
   "source": [
    "function get_values(fl)\n",
    "    return [fl(2.718281828),fl(-3.141592654),fl(1.414213562),fl(0.5772156649),fl(0.3010299957)], \n",
    "                    [fl(1486.2497),fl(878366.9879),fl(-22.37492),fl(4773714.647),fl(0.000185049)]\n",
    "end"
   ]
  },
  {
   "cell_type": "code",
   "execution_count": 177,
   "metadata": {},
   "outputs": [
    {
     "data": {
      "text/plain": [
       "get_rel_error (generic function with 1 method)"
      ]
     },
     "execution_count": 177,
     "metadata": {},
     "output_type": "execute_result"
    }
   ],
   "source": [
    "function get_rel_error(val, aprox)\n",
    "    return abs(val-aprox)/abs(val)\n",
    "end"
   ]
  },
  {
   "cell_type": "code",
   "execution_count": 178,
   "metadata": {},
   "outputs": [
    {
     "data": {
      "text/plain": [
       "get_abs_error (generic function with 1 method)"
      ]
     },
     "execution_count": 178,
     "metadata": {},
     "output_type": "execute_result"
    }
   ],
   "source": [
    "function get_abs_error(val, aprox)\n",
    "    return abs(val-aprox)\n",
    "end"
   ]
  },
  {
   "cell_type": "markdown",
   "metadata": {},
   "source": [
    "Wyniki dla poszczególnych wywołań:"
   ]
  },
  {
   "cell_type": "code",
   "execution_count": 179,
   "metadata": {},
   "outputs": [
    {
     "name": "stdout",
     "output_type": "stream",
     "text": [
      "Value = -1.00657107000000e-11\n",
      "Float32:\n",
      "a) -0.4999443 relative error: 4.9668057661282845e10 absolute error: 0.49994429944939167\n",
      "b) -0.4543457 relative error: 4.51379655800096e10 absolute error: 0.4543457031149343\n",
      "Float32[]\n",
      "Float32[]\n",
      "Float32[]\n",
      "c) -0.5 relative error: 4.967359135306107e10 absolute error: 0.4999999999899343\n",
      "Float32[5.57053f-5, 4040.0457, 2.7554628f6]\n",
      "Float32[5.57053f-5, 4040.0457, 2.7554628f6]\n",
      "Float32[5.57053f-5, 4040.0457, 2.7554628f6]\n",
      "d) -0.5 relative error: 4.967359135306107e10 absolute error: 0.4999999999899343\n",
      "Float64:\n",
      "a) 1.0251881368296672e-10 relative error: 11.184955313981627 absolute error: 1.1258452438296672e-10\n",
      "b) -1.5643308870494366e-10 relative error: 14.541186645165915 absolute error: 1.4636737800494365e-10\n",
      "Float64[]\n",
      "Float64[]\n",
      "Float64[]\n",
      "c) 0.0 relative error: 1.0 absolute error: 1.00657107e-11\n",
      "[5.57052996742893e-5, 4040.045551380452, 2.7554628740109736e6]\n",
      "[5.57052996742893e-5, 4040.045551380452, 2.7554628740109736e6]\n",
      "[5.57052996742893e-5, 4040.045551380452, 2.7554628740109736e6]\n",
      "d) 0.0 relative error: 1.0 absolute error: 1.00657107e-11\n"
     ]
    }
   ],
   "source": [
    "fls = [Float32, Float64]\n",
    "print(\"Value = -1.00657107000000e-11\\n\")\n",
    "for fl in fls\n",
    "    x, y = get_values(fl)\n",
    "    print(fl, \":\\n\")\n",
    "    print(\"a) \", f_a(x,y,fl), \n",
    "        \" relative error: \", get_rel_error(-1.00657107000000e-11, f_a(x,y,fl)), \n",
    "        \" absolute error: \", get_abs_error(-1.00657107000000e-11, f_a(x,y,fl)), \"\\n\")\n",
    "    print(\"b) \", f_b(x,y,fl),\n",
    "        \" relative error: \", get_rel_error(-1.00657107000000e-11, f_b(x,y,fl)), \n",
    "        \" absolute error: \", get_abs_error(-1.00657107000000e-11, f_b(x,y,fl)), \"\\n\")\n",
    "    print(\"c) \", f_c(x,y,fl),\n",
    "        \" relative error: \", get_rel_error(-1.00657107000000e-11, f_c(x,y,fl)), \n",
    "        \" absolute error: \", get_abs_error(-1.00657107000000e-11, f_c(x,y,fl)), \"\\n\")\n",
    "    print(\"d) \", f_d(x,y,fl),\n",
    "        \" relative error: \", get_rel_error(-1.00657107000000e-11, f_d(x,y,fl)), \n",
    "        \" absolute error: \", get_abs_error(-1.00657107000000e-11, f_d(x,y,fl)), \"\\n\")\n",
    "end"
   ]
  },
  {
   "cell_type": "markdown",
   "metadata": {},
   "source": [
    "Wyniki i wnioski:  \n",
    "Żadna z powyższych kombinacji \"precyzja-kolejność\" nie była w stanie dokładnie przybliżyć wartości iloczynu. Kolejność wykonawania działań na liczbach okazuje się mieć duży wpływ na dokładność wyniku. Powodem tego jest błąd zaokrągleń, który zależy od rzędu liczb na których działamy."
   ]
  },
  {
   "cell_type": "markdown",
   "metadata": {},
   "source": [
    "## Zad 6."
   ]
  },
  {
   "cell_type": "markdown",
   "metadata": {},
   "source": [
    "Opis: W zadaniu należy sprawdzić dokładność 2 różnych algorytmów, służących do rozwiązania tego samego problemu."
   ]
  },
  {
   "cell_type": "markdown",
   "metadata": {},
   "source": [
    "Podejście pierwsze:"
   ]
  },
  {
   "cell_type": "code",
   "execution_count": 33,
   "metadata": {},
   "outputs": [
    {
     "data": {
      "text/plain": [
       "f (generic function with 1 method)"
      ]
     },
     "execution_count": 33,
     "metadata": {},
     "output_type": "execute_result"
    }
   ],
   "source": [
    "function f(x)\n",
    "    return sqrt((x^2)+Float64(1.0))-Float64(1.0)\n",
    "end"
   ]
  },
  {
   "cell_type": "markdown",
   "metadata": {},
   "source": [
    "Podejście drugie:"
   ]
  },
  {
   "cell_type": "code",
   "execution_count": 34,
   "metadata": {},
   "outputs": [
    {
     "data": {
      "text/plain": [
       "g (generic function with 1 method)"
      ]
     },
     "execution_count": 34,
     "metadata": {},
     "output_type": "execute_result"
    }
   ],
   "source": [
    "function g(x)\n",
    "    return (x^2)/((sqrt((x^2)+Float64(1.0))+Float64(1.0)))\n",
    "end"
   ]
  },
  {
   "cell_type": "code",
   "execution_count": 35,
   "metadata": {},
   "outputs": [
    {
     "data": {
      "text/plain": [
       "25"
      ]
     },
     "execution_count": 35,
     "metadata": {},
     "output_type": "execute_result"
    }
   ],
   "source": [
    "limit = 25"
   ]
  },
  {
   "cell_type": "code",
   "execution_count": 36,
   "metadata": {},
   "outputs": [
    {
     "name": "stdout",
     "output_type": "stream",
     "text": [
      "x = 8^(-1) f(x) = 0.0077822185373186414 g(x) = 0.0077822185373187065\n",
      "x = 8^(-2) f(x) = 0.00012206286282867573 g(x) = 0.00012206286282875901\n",
      "x = 8^(-3) f(x) = 1.9073468138230965e-6 g(x) = 1.907346813826566e-6\n",
      "x = 8^(-4) f(x) = 2.9802321943606103e-8 g(x) = 2.9802321943606116e-8\n",
      "x = 8^(-5) f(x) = 4.656612873077393e-10 g(x) = 4.6566128719931904e-10\n",
      "x = 8^(-6) f(x) = 7.275957614183426e-12 g(x) = 7.275957614156956e-12\n",
      "x = 8^(-7) f(x) = 1.1368683772161603e-13 g(x) = 1.1368683772160957e-13\n",
      "x = 8^(-8) f(x) = 1.7763568394002505e-15 g(x) = 1.7763568394002489e-15\n",
      "x = 8^(-9) f(x) = 0.0 g(x) = 2.7755575615628914e-17\n",
      "x = 8^(-10) f(x) = 0.0 g(x) = 4.336808689942018e-19\n",
      "x = 8^(-11) f(x) = 0.0 g(x) = 6.776263578034403e-21\n",
      "x = 8^(-12) f(x) = 0.0 g(x) = 1.0587911840678754e-22\n",
      "x = 8^(-13) f(x) = 0.0 g(x) = 1.6543612251060553e-24\n",
      "x = 8^(-14) f(x) = 0.0 g(x) = 2.5849394142282115e-26\n",
      "x = 8^(-15) f(x) = 0.0 g(x) = 4.0389678347315804e-28\n",
      "x = 8^(-16) f(x) = 0.0 g(x) = 6.310887241768095e-30\n",
      "x = 8^(-17) f(x) = 0.0 g(x) = 9.860761315262648e-32\n",
      "x = 8^(-18) f(x) = 0.0 g(x) = 1.5407439555097887e-33\n",
      "x = 8^(-19) f(x) = 0.0 g(x) = 2.407412430484045e-35\n",
      "x = 8^(-20) f(x) = 0.0 g(x) = 3.76158192263132e-37\n",
      "x = 8^(-21) f(x) = 0.0 g(x) = 5.877471754111438e-39\n",
      "x = 8^(-22) f(x) = 0.0 g(x) = 9.183549615799121e-41\n",
      "x = 8^(-23) f(x) = 0.0 g(x) = 1.4349296274686127e-42\n",
      "x = 8^(-24) f(x) = 0.0 g(x) = 2.2420775429197073e-44\n",
      "x = 8^(-25) f(x) = 0.0 g(x) = 3.503246160812043e-46\n"
     ]
    }
   ],
   "source": [
    "for i = 1:limit\n",
    "    x = Float64(8^((-1.0)*i))\n",
    "    print(\"x = 8^(-\", i, \") f(x) = \", f(x), \" g(x) = \", g(x), \"\\n\")\n",
    "end"
   ]
  },
  {
   "cell_type": "markdown",
   "metadata": {},
   "source": [
    "Wyniki i wnioski:  \n",
    "Mimo, że z matematycznego punktu widzenia dla zadanego x, funkcje f(x) oraz g(x) powinny dać identyczne wyniki, to w arytmetyce Float64 się one różnią. W rzeczywitości obie funkcje dążą do 0, lecz nigdy go nie osiągają. Oznacza to, że funkcja g(x) poradziła sobie lepiej z przybliżaniem wyniku, ponieważ funkcja f(x) już dla x = 8^(-9) zwróciła wartość 0.0. Wynika to z faktu, że funkcja f(x) zawiera odejmowanie liczb, których wartości w kolejnych iteracjach są coraz bardziej zbliżone, a to powoduje znaczące błędy."
   ]
  },
  {
   "cell_type": "markdown",
   "metadata": {},
   "source": [
    "## Zad 7."
   ]
  },
  {
   "cell_type": "markdown",
   "metadata": {},
   "source": [
    "Opis: W zadaniu należy obliczyć przybliżoną wartość pochodnej funkcji z podanego wzoru i porównać z wartością obliczoną ze wzoru ogólnego na pochodną tej funkcji."
   ]
  },
  {
   "cell_type": "markdown",
   "metadata": {},
   "source": [
    "Dana funkcja:"
   ]
  },
  {
   "cell_type": "code",
   "execution_count": 37,
   "metadata": {},
   "outputs": [
    {
     "data": {
      "text/plain": [
       "f (generic function with 1 method)"
      ]
     },
     "execution_count": 37,
     "metadata": {},
     "output_type": "execute_result"
    }
   ],
   "source": [
    "function f(x)\n",
    "    return sin(x)+cos(Float64(3.0)*x)\n",
    "end"
   ]
  },
  {
   "cell_type": "markdown",
   "metadata": {},
   "source": [
    "Pochodna:"
   ]
  },
  {
   "cell_type": "code",
   "execution_count": 38,
   "metadata": {},
   "outputs": [
    {
     "data": {
      "text/plain": [
       "derivative (generic function with 1 method)"
      ]
     },
     "execution_count": 38,
     "metadata": {},
     "output_type": "execute_result"
    }
   ],
   "source": [
    "function derivative(x)\n",
    "    return cos(x) - Float64(3.0)*sin(Float64(3.0)*x)\n",
    "end"
   ]
  },
  {
   "cell_type": "markdown",
   "metadata": {},
   "source": [
    "Wartość przybliżona pochodnej:"
   ]
  },
  {
   "cell_type": "code",
   "execution_count": 39,
   "metadata": {},
   "outputs": [
    {
     "data": {
      "text/plain": [
       "ap_derivative (generic function with 1 method)"
      ]
     },
     "execution_count": 39,
     "metadata": {},
     "output_type": "execute_result"
    }
   ],
   "source": [
    "function ap_derivative(x, h)\n",
    "    return Float64(Float64(f(x+h)-f(x))/h)\n",
    "end"
   ]
  },
  {
   "cell_type": "code",
   "execution_count": 40,
   "metadata": {},
   "outputs": [
    {
     "name": "stdout",
     "output_type": "stream",
     "text": [
      "x = 1.0 h = 2^(-0) approximate df/dx = 2.0179892252685967 error = 1.9010469435800585 1+h = 2.0\n",
      "x = 1.0 h = 2^(-1) approximate df/dx = 1.8704413979316472 error = 1.753499116243109 1+h = 1.5\n",
      "x = 1.0 h = 2^(-2) approximate df/dx = 1.1077870952342974 error = 0.9908448135457593 1+h = 1.25\n",
      "x = 1.0 h = 2^(-3) approximate df/dx = 0.6232412792975817 error = 0.5062989976090435 1+h = 1.125\n",
      "x = 1.0 h = 2^(-4) approximate df/dx = 0.3704000662035192 error = 0.253457784514981 1+h = 1.0625\n",
      "x = 1.0 h = 2^(-5) approximate df/dx = 0.24344307439754687 error = 0.1265007927090087 1+h = 1.03125\n",
      "x = 1.0 h = 2^(-6) approximate df/dx = 0.18009756330732785 error = 0.0631552816187897 1+h = 1.015625\n",
      "x = 1.0 h = 2^(-7) approximate df/dx = 0.1484913953710958 error = 0.03154911368255764 1+h = 1.0078125\n",
      "x = 1.0 h = 2^(-8) approximate df/dx = 0.1327091142805159 error = 0.015766832591977753 1+h = 1.00390625\n",
      "x = 1.0 h = 2^(-9) approximate df/dx = 0.1248236929407085 error = 0.007881411252170345 1+h = 1.001953125\n",
      "x = 1.0 h = 2^(-10) approximate df/dx = 0.12088247681106168 error = 0.0039401951225235265 1+h = 1.0009765625\n",
      "x = 1.0 h = 2^(-11) approximate df/dx = 0.11891225046883847 error = 0.001969968780300313 1+h = 1.00048828125\n",
      "x = 1.0 h = 2^(-12) approximate df/dx = 0.11792723373901026 error = 0.0009849520504721099 1+h = 1.000244140625\n",
      "x = 1.0 h = 2^(-13) approximate df/dx = 0.11743474961076572 error = 0.0004924679222275685 1+h = 1.0001220703125\n",
      "x = 1.0 h = 2^(-14) approximate df/dx = 0.11718851362093119 error = 0.0002462319323930373 1+h = 1.00006103515625\n",
      "x = 1.0 h = 2^(-15) approximate df/dx = 0.11706539714577957 error = 0.00012311545724141837 1+h = 1.000030517578125\n",
      "x = 1.0 h = 2^(-16) approximate df/dx = 0.11700383928837255 error = 6.155759983439424e-5 1+h = 1.0000152587890625\n",
      "x = 1.0 h = 2^(-17) approximate df/dx = 0.11697306045971345 error = 3.077877117529937e-5 1+h = 1.0000076293945312\n",
      "x = 1.0 h = 2^(-18) approximate df/dx = 0.11695767106721178 error = 1.5389378673624776e-5 1+h = 1.0000038146972656\n",
      "x = 1.0 h = 2^(-19) approximate df/dx = 0.11694997636368498 error = 7.694675146829866e-6 1+h = 1.0000019073486328\n",
      "x = 1.0 h = 2^(-20) approximate df/dx = 0.11694612901192158 error = 3.8473233834324105e-6 1+h = 1.0000009536743164\n",
      "x = 1.0 h = 2^(-21) approximate df/dx = 0.1169442052487284 error = 1.9235601902423127e-6 1+h = 1.0000004768371582\n",
      "x = 1.0 h = 2^(-22) approximate df/dx = 0.11694324295967817 error = 9.612711400208696e-7 1+h = 1.000000238418579\n",
      "x = 1.0 h = 2^(-23) approximate df/dx = 0.11694276239722967 error = 4.807086915192826e-7 1+h = 1.0000001192092896\n",
      "x = 1.0 h = 2^(-24) approximate df/dx = 0.11694252118468285 error = 2.394961446938737e-7 1+h = 1.0000000596046448\n",
      "x = 1.0 h = 2^(-25) approximate df/dx = 0.116942398250103 error = 1.1656156484463054e-7 1+h = 1.0000000298023224\n",
      "x = 1.0 h = 2^(-26) approximate df/dx = 0.11694233864545822 error = 5.6956920069239914e-8 1+h = 1.0000000149011612\n",
      "x = 1.0 h = 2^(-27) approximate df/dx = 0.11694231629371643 error = 3.460517827846843e-8 1+h = 1.0000000074505806\n",
      "x = 1.0 h = 2^(-28) approximate df/dx = 0.11694228649139404 error = 4.802855890773117e-9 1+h = 1.0000000037252903\n",
      "x = 1.0 h = 2^(-29) approximate df/dx = 0.11694222688674927 error = 5.480178888461751e-8 1+h = 1.0000000018626451\n",
      "x = 1.0 h = 2^(-30) approximate df/dx = 0.11694216728210449 error = 1.1440643366000813e-7 1+h = 1.0000000009313226\n",
      "x = 1.0 h = 2^(-31) approximate df/dx = 0.11694216728210449 error = 1.1440643366000813e-7 1+h = 1.0000000004656613\n",
      "x = 1.0 h = 2^(-32) approximate df/dx = 0.11694192886352539 error = 3.5282501276157063e-7 1+h = 1.0000000002328306\n",
      "x = 1.0 h = 2^(-33) approximate df/dx = 0.11694145202636719 error = 8.296621709646956e-7 1+h = 1.0000000001164153\n",
      "x = 1.0 h = 2^(-34) approximate df/dx = 0.11694145202636719 error = 8.296621709646956e-7 1+h = 1.0000000000582077\n",
      "x = 1.0 h = 2^(-35) approximate df/dx = 0.11693954467773438 error = 2.7370108037771956e-6 1+h = 1.0000000000291038\n",
      "x = 1.0 h = 2^(-36) approximate df/dx = 0.116943359375 error = 1.0776864618478044e-6 1+h = 1.000000000014552\n",
      "x = 1.0 h = 2^(-37) approximate df/dx = 0.1169281005859375 error = 1.4181102600652196e-5 1+h = 1.000000000007276\n",
      "x = 1.0 h = 2^(-38) approximate df/dx = 0.116943359375 error = 1.0776864618478044e-6 1+h = 1.000000000003638\n",
      "x = 1.0 h = 2^(-39) approximate df/dx = 0.11688232421875 error = 5.9957469788152196e-5 1+h = 1.000000000001819\n",
      "x = 1.0 h = 2^(-40) approximate df/dx = 0.1168212890625 error = 0.0001209926260381522 1+h = 1.0000000000009095\n",
      "x = 1.0 h = 2^(-41) approximate df/dx = 0.116943359375 error = 1.0776864618478044e-6 1+h = 1.0000000000004547\n",
      "x = 1.0 h = 2^(-42) approximate df/dx = 0.11669921875 error = 0.0002430629385381522 1+h = 1.0000000000002274\n",
      "x = 1.0 h = 2^(-43) approximate df/dx = 0.1162109375 error = 0.0007313441885381522 1+h = 1.0000000000001137\n",
      "x = 1.0 h = 2^(-44) approximate df/dx = 0.1171875 error = 0.0002452183114618478 1+h = 1.0000000000000568\n",
      "x = 1.0 h = 2^(-45) approximate df/dx = 0.11328125 error = 0.003661031688538152 1+h = 1.0000000000000284\n",
      "x = 1.0 h = 2^(-46) approximate df/dx = 0.109375 error = 0.007567281688538152 1+h = 1.0000000000000142\n",
      "x = 1.0 h = 2^(-47) approximate df/dx = 0.109375 error = 0.007567281688538152 1+h = 1.000000000000007\n",
      "x = 1.0 h = 2^(-48) approximate df/dx = 0.09375 error = 0.023192281688538152 1+h = 1.0000000000000036\n",
      "x = 1.0 h = 2^(-49) approximate df/dx = 0.125 error = 0.008057718311461848 1+h = 1.0000000000000018\n",
      "x = 1.0 h = 2^(-50) approximate df/dx = 0.0 error = 0.11694228168853815 1+h = 1.0000000000000009\n",
      "x = 1.0 h = 2^(-51) approximate df/dx = 0.0 error = 0.11694228168853815 1+h = 1.0000000000000004\n",
      "x = 1.0 h = 2^(-52) approximate df/dx = -0.5 error = 0.6169422816885382 1+h = 1.0000000000000002\n",
      "x = 1.0 h = 2^(-53) approximate df/dx = 0.0 error = 0.11694228168853815 1+h = 1.0\n",
      "x = 1.0 h = 2^(-54) approximate df/dx = 0.0 error = 0.11694228168853815 1+h = 1.0\n"
     ]
    }
   ],
   "source": [
    "x = Float64(1.0)\n",
    "for i = 0:54\n",
    "    h = Float64(2^((-1.0)*i))\n",
    "    print(\"x = \", x, \" h = 2^(-\", i, \") approximate df/dx = \", ap_derivative(x,h), \" error = \", abs(derivative(x)-ap_derivative(x,h)), \" 1+h = \", Float64(1.0)+h, '\\n')\n",
    "end"
   ]
  },
  {
   "cell_type": "markdown",
   "metadata": {},
   "source": [
    "Wyniki i wnioski:\n",
    "Błąd przybliżenia wartości pochodnej maleje wraz z malejącą wartością h do pewnego momentu, co jest zgodne z oczekiwaniami. Jednak od h = 2^(-29) zaczyna on rosnąć. Dla liczb o dużej różnicy rzędów tracimy dokładność wyników przez konieczność wyrównywania cech, która prowadzi do utraty cyfr znaczących. Podobny problem dotyczy odejmowania zbliżonych do siebie liczb (czyli f(x+h) - f(x) dla małego h)."
   ]
  },
  {
   "cell_type": "code",
   "execution_count": null,
   "metadata": {},
   "outputs": [],
   "source": []
  }
 ],
 "metadata": {
  "kernelspec": {
   "display_name": "Julia 1.4.1",
   "language": "julia",
   "name": "julia-1.4"
  },
  "language_info": {
   "file_extension": ".jl",
   "mimetype": "application/julia",
   "name": "julia",
   "version": "1.4.1"
  }
 },
 "nbformat": 4,
 "nbformat_minor": 4
}
