{
 "cells": [
  {
   "cell_type": "markdown",
   "metadata": {},
   "source": [
    "### Michał Ilski 250079\n",
    "### Lista 4"
   ]
  },
  {
   "cell_type": "markdown",
   "metadata": {},
   "source": [
    "### Zadanie 1."
   ]
  },
  {
   "cell_type": "markdown",
   "metadata": {},
   "source": [
    "W zadaniu pierwszym należy napisać funkcję ilorazyRoznicowe, która służy do obliczania ilorazów różnicowych dla danych par $(x_i, f(x_i)), i \\in \\{0,...,n-1\\}$. Dzięki obliczonym ilorazom jesteśmy w stanie napisać wzór na wielomian interpolacyjny $p(x)$ w postaci Newtona:\n",
    "<center>$p(x) = \\sum_{k=0}^{n}f[x_0,x_1,...,x_k]\\prod_{j=0}^{k-1}(x-x_j)$</center>  \n",
    "gdzie $f[x_0,x_1,...,x_k]$ stanowią obliczone ilorazy różnicowe, a $x_j$ dane węzły."
   ]
  },
  {
   "cell_type": "markdown",
   "metadata": {},
   "source": [
    "Funkcja na wejściu otrzymuje wektor $[x_0, x_1, ... , x_n]$ stanowiący węzły, oraz wektor wartości funckcji $f$ w odpowiednich punktach $[f(x_0), f(x_1), ... , f(x_n)]$."
   ]
  },
  {
   "cell_type": "code",
   "execution_count": null,
   "metadata": {},
   "outputs": [],
   "source": [
    "function ilorazyRoznicowe(x::Vector{Float64}, f::Vector{Float64})\n",
    "    fx = Vector{Float64}(undef,length(x))\n",
    "    cp = copy(f)\n",
    "    \n",
    "    for n in 1:length(x)\n",
    "        fx[n] = cp[1]\n",
    "        \n",
    "        for i in 1:length(x)-n\n",
    "            cp[i] = (cp[i+1] - cp[i]) / (x[i+n] - x[i])\n",
    "        end\n",
    "    end\n",
    "    return fx\n",
    "end"
   ]
  },
  {
   "cell_type": "markdown",
   "metadata": {},
   "source": [
    "Opis kodu:  \n",
    "Na początku inicjuję wektor (zgodnie z treścią zadania nie korzystam z tablicy dwuwymiarowej) fx, który będzie zawierał obliczone wartości ilorazów różnicowych. Zmienna cp to kopia wektora wartości funkcji. Będzie stale nadpisywać w nim wartości, w kolejnych iteracjach pętli w celu zaoszczędzenie pamięci.  \n",
    "Pętla zewnętrzna odpowiada za iterację po kolumnach trójkątnej tablicy, w której są wyliczane ilorazy różnicowe (wizualizacja tablicy na slajdzie 16, wykład 6). Do wektora fx dodajemy najwyżej umieszczoną wartość z kolumny, czyli cp[1] = $f[x_0,...,x_k]$ dla k-tej iteracji (kolumny). Wartości w każdej następnej kolumnie obliczam według wzoru:\n",
    "<center>$cp[i] := \\frac{(cp[i+1] - cp[i])}{(x[i+n] - x[i])}$</center>  \n",
    "Który zgodnie z notacją z wykładu ma postać:\n",
    "<center>$f[x_i,...x_{k+i}] := \\frac{f[x_{i+1},...,x_{k+i}] - f[x_i,...,x_{k+i-1}]}{x_{i+k} - x_i}$</center>\n",
    "Na końcu zwracany jest wektor fx, zawierający obliczone ilorazy różnicowe $[f[x_0], ..., f[x_0,...,x_n]]$."
   ]
  },
  {
   "cell_type": "markdown",
   "metadata": {},
   "source": [
    "Poniżej test dla wartości z zadania 4. z listy 4. z ćwiczeń:"
   ]
  },
  {
   "cell_type": "code",
   "execution_count": null,
   "metadata": {},
   "outputs": [],
   "source": [
    "x = Vector([-2.0,-1.0,0.0,1.0,2.0,3.0])\n",
    "f = Vector([-25.0,3.0,1.0,-1.0,27.0,235.0])"
   ]
  },
  {
   "cell_type": "code",
   "execution_count": null,
   "metadata": {},
   "outputs": [],
   "source": [
    "fx = ilorazyRoznicowe(x,f)"
   ]
  },
  {
   "cell_type": "markdown",
   "metadata": {},
   "source": [
    "Czyli obliczony wielomian ma postać $p(x) = -25 + 28(x+2) - 15(x+2)(x+1) + 5(x+2)(x+1)x + (x+2)(x+1)x(x-1)(x-2)$."
   ]
  },
  {
   "cell_type": "markdown",
   "metadata": {},
   "source": [
    "### Zadanie 2."
   ]
  },
  {
   "cell_type": "markdown",
   "metadata": {},
   "source": [
    "Teraz mając już obliczone ilorazy różnicowe, należy zaimplementować funkcję warNewton, obliczającą wartość tego wielomianu w punkcie $t$, w złożoności $\\mathcal{0}(n)$, gdzie $n$ stanowi stopień wielomianu. Wykorzystany został do tego uogólniony algorytm Hornera. Zgodnie z algorytmem, w n-k-tej iteracji obliczamy:\n",
    "<center>$w_k(x) := f[x_0,...,x_k] + (x-x_k)w_{k+1}(x)$</center>\n",
    "zaczynając od $w_n$ i iterując do $w_0$."
   ]
  },
  {
   "cell_type": "code",
   "execution_count": null,
   "metadata": {},
   "outputs": [],
   "source": [
    "function warNewton(x::Vector{Float64}, fx::Vector{Float64}, t::Float64)\n",
    "    res = fx[length(x)]\n",
    "    for i in 1:length(x)-1\n",
    "        n = length(x)-i\n",
    "        res = fx[n] + (t-x[n])*res\n",
    "    end\n",
    "    return res\n",
    "end"
   ]
  },
  {
   "cell_type": "markdown",
   "metadata": {},
   "source": [
    "Opis kodu:  \n",
    "Funkcja na wejściu przyjmuje niezbędne wartości, aby móc skorzystać z ww. wzoru, tzn. wektor ilorazów różnicowych oraz węzłów i argument $t$, dla którego wyliczamy wartość wielomianu. Na początku inicjuję zmienną res wartością $f[x_0,...,x_n]$. Następnie w pętli obliczam kolejne $w_k$, aż zejdę do $w_0$. Z racji, że potrzebuję do obliczenia $w_k(t)$ znać jedynie wartość $w_{k+1}(t)$ (oraz oczywiście $f[x_0,...,x_k]$), to nie przechowuję zbędnych informacji o starszych $w_{k+i}, i \\in {2,...,n}$. Po wykonaniu się pętli w zmiennej res mam wartość $w_0(t)$, którą zwracam.  \n",
    "W pętli wykonują się obliczenia o stałej złożoności $\\mathcal{O}(1)$, a sama pętla wykona się się n-1 razy, stąd ostatecznie złożonść funkcji wynosi $\\mathcal{O}(n)$."
   ]
  },
  {
   "cell_type": "markdown",
   "metadata": {},
   "source": [
    "Dla poprzedniego przykładu wiemy, że $f(3) = 235$. Z racji, że $x=3$ jest węzłem, powinno zajść również $p(3) = 235$."
   ]
  },
  {
   "cell_type": "code",
   "execution_count": null,
   "metadata": {},
   "outputs": [],
   "source": [
    "t = 3.0\n",
    "warNewton(x,fx,t)"
   ]
  },
  {
   "cell_type": "markdown",
   "metadata": {},
   "source": [
    "### Zadanie 3."
   ]
  },
  {
   "cell_type": "markdown",
   "metadata": {},
   "source": [
    "W tym zadaniu podobnie skorzystam z obliczonych wartości ilorazów różnicowych oraz węzłów, które zostaną przekazane jako wartości wejściowe w postaci wektorów. Celem zadania jest jest implementacji funkcji \"naturalna\", która oblicza w złożności $\\mathcal{O}(n^2)$ współczynniki postaci naturalnej $a_0, ..., a_n$. Wykorzystany algorytm bazuje na algorytmie z zadania wyżej (czyli Hornera). Modyfikacja polega na tym, że z każdą iteracją pętli zewnętrznej, wewnętrzna aktualizuje obliczone do tej pory $w_k(x)$."
   ]
  },
  {
   "cell_type": "code",
   "execution_count": null,
   "metadata": {},
   "outputs": [],
   "source": [
    "function naturalna(x::Vector{Float64}, fx::Vector{Float64})\n",
    "    n = length(x)-1\n",
    "    res = Vector{Float64}(undef, n+1)\n",
    "    res[n+1] = fx[n+1]\n",
    "    for i in n:-1:1\n",
    "        res[i] = fx[i] - res[i+1]*x[i]\n",
    "        for k in i+1:n\n",
    "            res[k] = res[k] - res[k+1]*x[i]\n",
    "        end\n",
    "    end\n",
    "    return res\n",
    "end"
   ]
  },
  {
   "cell_type": "markdown",
   "metadata": {},
   "source": [
    "Opis kodu:  \n",
    "W pierwszej kolejności inicjuję zmienną $n$ długością tablicy węzłów - 1, aby nie obliczać jej wielokrotnie. Następnie rezerwuję w pamięci miejsce na n+1 elementowy wektor $[a_0,...,a_n]$. Podstawiam za $a_n := f[x_0,...,x_n]$. Następnie w pętli obliczam $w_i(x)$, korzystając z algorytmu Hornera. W wewnętrznej pętli dodatkowo aktualizuję dotychczas policzone $w_{i+1},...,w_{n}$ uwzględniając nowy czynnik $x_i$. Na końcu zwracam wektor $[a_0,...a_n]$. Sam algorytm wykonuje w pętli zewnętrznej obliczenia w stałej złożności, oraz zawiera pętlę wewnętrzną, która również wykonuje obliczenia w stałej złożoności czasowej. Liczbę wykonań obu pętli można ograniczyć z góry przez n, przez co złożność całego algorytmu wynosi $O(n^2)$."
   ]
  },
  {
   "cell_type": "markdown",
   "metadata": {},
   "source": [
    "W zadaniu 1. dostaliśmy wielomian w postaci:\n",
    "<center>$p(x) = -25 + 28(x+2) - 15(x+2)(x+1) + 5(x+2)(x+1)x + (x+2)(x+1)x(x-1)(x-2)$</center>\n",
    "Można go uprościć ręcznie do postaci:\n",
    "<center>$p(x) = x^5 - 3 x + 1$</center>\n",
    "Oznacza to, że dla tego wielomianu wektor $[a_0,...,a_5]$ ma postać $[1,-3,0,0,0,1]$."
   ]
  },
  {
   "cell_type": "code",
   "execution_count": null,
   "metadata": {},
   "outputs": [],
   "source": [
    "x = Vector([-2.0,-1.0,0.0,1.0,2.0,3.0])\n",
    "fx = Vector([-25.0,28.0,-15.0,5.0,0.0,1.0])\n",
    "naturalna(x, fx)"
   ]
  },
  {
   "cell_type": "markdown",
   "metadata": {},
   "source": [
    "Jak widać zwracany wektor zgadza się z tym obliczonym ręcznie."
   ]
  },
  {
   "cell_type": "markdown",
   "metadata": {},
   "source": [
    "### Zadanie 4."
   ]
  },
  {
   "cell_type": "markdown",
   "metadata": {},
   "source": [
    "W zadaniu została zaimplementowana funkcja interpolująca zadaną funkcję $f(x)$ na przedziale $[a,b]$ przy pomocy wielomianu $p(x)$ stopnia $n$ w postaci Newtona. Funkcja ma zadanie wygenerować ilorazy różnicowe (dla $n+1$ równoodległych węzłów z $[a,b]$) przy pomocy funkcji z zadania 1, następnie obliczyć wartości wielomianu interpolacyjnego na przedziale $[a,b]$, korzystając z funkcji z zadania 2 (w naszym przypadku jest to 100 wartości $p(x)$ dla równoodległych $x \\in [a,b]$). Na końcu zostaną przedstawione wykresy $f(x)$ oraz $p(x)$ ($f(x)$ liczona w tych samych punktach co $p(x)$)."
   ]
  },
  {
   "cell_type": "markdown",
   "metadata": {},
   "source": [
    "Importowanie Plots do wykresów:"
   ]
  },
  {
   "cell_type": "code",
   "execution_count": null,
   "metadata": {},
   "outputs": [],
   "source": [
    "using PyPlot"
   ]
  },
  {
   "cell_type": "markdown",
   "metadata": {},
   "source": [
    "Pomocniczna funkcja linspace, generująca $n+1$ równoodległych wartości z przedziału $[a,b]$:\n"
   ]
  },
  {
   "cell_type": "code",
   "execution_count": null,
   "metadata": {},
   "outputs": [],
   "source": [
    "function linspace(a::Float64, b::Float64, n::Int)\n",
    "    h = (b-a)/n\n",
    "    return [a+k*h for k in 0:n]\n",
    "end"
   ]
  },
  {
   "cell_type": "markdown",
   "metadata": {},
   "source": [
    "Implementacja funkcji z zadania rysujNNfx:"
   ]
  },
  {
   "cell_type": "code",
   "execution_count": null,
   "metadata": {
    "scrolled": true
   },
   "outputs": [],
   "source": [
    "function rysujNnfx(f,a::Float64,b::Float64,n::Int)\n",
    "    x = linspace(a,b,n)\n",
    "    f_values = [f(xi) for xi in x]\n",
    "    fx = ilorazyRoznicowe(x, f_values)\n",
    "    t_s = linspace(a,b,100)\n",
    "    p_values = [warNewton(x,fx,t) for t in t_s]\n",
    "    f_values = [f(t) for t in t_s]\n",
    "    plot(t_s, f_values, t_s, p_values)\n",
    "    legend([\"f(x)\", \"p(x)\"])\n",
    "end"
   ]
  },
  {
   "cell_type": "markdown",
   "metadata": {},
   "source": [
    "Opis kodu:  \n",
    "Na początku wyznaczam wektor węzłów $x$ korzystając z mojej funkcji pomocniczej. Następnie wyznaczam wektor f_values = $[f(x_0),...,f(x_n)]$. Później kolejno obliczam ilorazy różnicowe dla $f(x)$, wyznaczam wektor 100  równoodległych $x$ z przedziału $[a,b]$ i obliczam dla nich wartości $p(x)$ i $f(x)$. Na końcu generuję wykresy z legendą."
   ]
  },
  {
   "cell_type": "code",
   "execution_count": null,
   "metadata": {},
   "outputs": [],
   "source": [
    "rysujNnfx(sin, -4.0, 4.0, 4)"
   ]
  },
  {
   "cell_type": "markdown",
   "metadata": {},
   "source": [
    "Na powyższym testowym wykresie widzimy funkcję $sin(x)$ oraz wielomian $p(x)$ na przedziale $[-4,4]$. Wielomian został wygenerowany dla 5 węzłów $[-4,-2,0,2,4]$. Łatwo można zauważyć, że faktycznie wykresy przecinają się dla tych $x$."
   ]
  },
  {
   "cell_type": "markdown",
   "metadata": {},
   "source": [
    "### Zadanie 5."
   ]
  },
  {
   "cell_type": "markdown",
   "metadata": {},
   "source": [
    "W zadaniu zostały wykonane testy na dwóch różnych funkcjach dla 5, 10 i 15 węzłów."
   ]
  },
  {
   "cell_type": "markdown",
   "metadata": {},
   "source": [
    "Pierwsza funkcja to $g(x) = e^x$ na przedziale $[0,1]$:"
   ]
  },
  {
   "cell_type": "code",
   "execution_count": null,
   "metadata": {},
   "outputs": [],
   "source": [
    "g(x::Float64) = exp(x)"
   ]
  },
  {
   "cell_type": "markdown",
   "metadata": {},
   "source": [
    "Kolejno wykresy dla 5, 10 i 15 węzłów:"
   ]
  },
  {
   "cell_type": "code",
   "execution_count": null,
   "metadata": {},
   "outputs": [],
   "source": [
    "rysujNnfx(g, 0.0, 1.0, 5)"
   ]
  },
  {
   "cell_type": "code",
   "execution_count": null,
   "metadata": {},
   "outputs": [],
   "source": [
    "rysujNnfx(g, 0.0, 1.0, 10)"
   ]
  },
  {
   "cell_type": "code",
   "execution_count": null,
   "metadata": {},
   "outputs": [],
   "source": [
    "rysujNnfx(g, 0.0, 1.0, 15)"
   ]
  },
  {
   "cell_type": "markdown",
   "metadata": {},
   "source": [
    "Druga funkcja to $x^2 sin(x)$ na prziedziale $[-1,1]$:"
   ]
  },
  {
   "cell_type": "code",
   "execution_count": null,
   "metadata": {},
   "outputs": [],
   "source": [
    "g(x::Float64) = x^2 * sin(x)"
   ]
  },
  {
   "cell_type": "markdown",
   "metadata": {},
   "source": [
    "Kolejno wykresy dla 5, 10 i 15 węzłów:"
   ]
  },
  {
   "cell_type": "code",
   "execution_count": null,
   "metadata": {},
   "outputs": [],
   "source": [
    "rysujNnfx(g, -1.0, 1.0, 5)"
   ]
  },
  {
   "cell_type": "code",
   "execution_count": null,
   "metadata": {},
   "outputs": [],
   "source": [
    "rysujNnfx(g, -1.0, 1.0, 10)"
   ]
  },
  {
   "cell_type": "code",
   "execution_count": null,
   "metadata": {},
   "outputs": [],
   "source": [
    "rysujNnfx(g, -1.0, 1.0, 15)"
   ]
  },
  {
   "cell_type": "markdown",
   "metadata": {},
   "source": [
    "Dla każdego z powyższych wykresów nie jesteśmy w stanie odróżnić $f(x)$ od $p(x)$. Oznacza to, że wygenerowane wielomiany bardzo dobrze przybliżają funkcję $f(x)$ nawet dla 5 węzłów. Zminimalizowanie błędu pomiędzy $f(x)$ i $p(x)$ jest w dużej mierze zasługą użycia węzłów równoodległych."
   ]
  },
  {
   "cell_type": "markdown",
   "metadata": {},
   "source": [
    "### Zadanie 6."
   ]
  },
  {
   "cell_type": "markdown",
   "metadata": {},
   "source": [
    "W tym zadaniu ponownie przetestujemy dotychczas napisane funkcje, jednak na innych (trudniejszych do interpolacji) danych."
   ]
  },
  {
   "cell_type": "markdown",
   "metadata": {},
   "source": [
    "Pierwsza funkcja to $g(x)=|x|$ na przedziale $[-1,1]$."
   ]
  },
  {
   "cell_type": "code",
   "execution_count": null,
   "metadata": {},
   "outputs": [],
   "source": [
    " g(x::Float64) = abs(x)"
   ]
  },
  {
   "cell_type": "markdown",
   "metadata": {},
   "source": [
    "Kolejno wykresy dla 5, 10 i 15 węzłów:"
   ]
  },
  {
   "cell_type": "code",
   "execution_count": null,
   "metadata": {},
   "outputs": [],
   "source": [
    "rysujNnfx(g,-1.0,1.0,5)"
   ]
  },
  {
   "cell_type": "code",
   "execution_count": null,
   "metadata": {},
   "outputs": [],
   "source": [
    "rysujNnfx(g,-1.0,1.0,10)"
   ]
  },
  {
   "cell_type": "code",
   "execution_count": null,
   "metadata": {},
   "outputs": [],
   "source": [
    "rysujNnfx(g,-1.0,1.0,15)"
   ]
  },
  {
   "cell_type": "markdown",
   "metadata": {},
   "source": [
    "W tym przypadku widzimy, że przybliżenie nie jest już tak dokładne jak w zadaniu 5. Co więcej większa liczba węzłów wcale nie poprawia rezulatatów. Problemem funkcji $g(x)=|x|$ jest fakt, że nie jest ona różniczkowalna na przedziale $[-1,1]$. Alternatywnym rozwiązaniem może być interpolacja osobno funkcji $g_1(x)=-x$ dla $x<0$ oraz $g_2(x)=x$ dla $x>0$."
   ]
  },
  {
   "cell_type": "code",
   "execution_count": null,
   "metadata": {},
   "outputs": [],
   "source": [
    "g(x::Float64) = 1/(1+x^2)"
   ]
  },
  {
   "cell_type": "code",
   "execution_count": null,
   "metadata": {},
   "outputs": [],
   "source": [
    "rysujNnfx(g,-5.0,5.0,5)"
   ]
  },
  {
   "cell_type": "code",
   "execution_count": null,
   "metadata": {},
   "outputs": [],
   "source": [
    "rysujNnfx(g,-5.0,5.0,10)"
   ]
  },
  {
   "cell_type": "code",
   "execution_count": null,
   "metadata": {},
   "outputs": [],
   "source": [
    "rysujNnfx(g,-5.0,5.0,15)"
   ]
  },
  {
   "cell_type": "markdown",
   "metadata": {},
   "source": [
    "W tym przypadku również istnieje widoczna rozbieżność między $f(x)$ a $p(x)$. Co więcej dla większych stopni wielomianu, błędy rosną. Występuje tu tzw. zjawisko Runge'ego, charakterystyczne dla interpolacji przy równoodległych węzłach i wysokich stopniach wielomianów. Widzimy, że dla 15 węzłów wielomian w środkowej części prawie pokrywa się z $f(x)$, natomiast na krańcach występują znaczące błędy. Rozwiązaniem tego problemu jest zagęszczenie węzłów na krańcach. Takie węzły mogą być miejscami zerowymi wielomianu Czebyszewa n-tego stopnia."
   ]
  },
  {
   "cell_type": "code",
   "execution_count": null,
   "metadata": {},
   "outputs": [],
   "source": []
  }
 ],
 "metadata": {
  "kernelspec": {
   "display_name": "Julia 1.4.1",
   "language": "julia",
   "name": "julia-1.4"
  },
  "language_info": {
   "file_extension": ".jl",
   "mimetype": "application/julia",
   "name": "julia",
   "version": "1.4.1"
  }
 },
 "nbformat": 4,
 "nbformat_minor": 4
}
