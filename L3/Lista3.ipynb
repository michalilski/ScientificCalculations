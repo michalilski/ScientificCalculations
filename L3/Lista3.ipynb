{
 "cells": [
  {
   "cell_type": "markdown",
   "metadata": {},
   "source": [
    "## Lista 3\n",
    "### Michał Ilski 250079"
   ]
  },
  {
   "cell_type": "markdown",
   "metadata": {},
   "source": [
    "### Zadanie 1."
   ]
  },
  {
   "cell_type": "markdown",
   "metadata": {},
   "source": [
    "W zadaniu należy zaimplementować funkcję, znajdującą pierwiastki podanej funkcji ciągłej (przynajmniej na przedziale początkowym)metodą bisekcji. Poniżej została napisana pomocnicza funkcja $signum$ oraz $mbisekcji$ pochodząca z treści zadania. \n",
    "  \n",
    "Funkcja $mbisekcji$ przyjmuje na wejściu argumenty:  \n",
    "- $f$ - stanowiący funkcję, której miejsc zerowych szukamy, tzn. takich $x$, że $f(x)=0$  \n",
    "- $a$ i $b$ - stanowiące opowiednio początek i koniec przedziału, od którego rozpocznie się poszukiwanie. Istnieje ryzyko, że w danym przedziale nie wystąpi $x$, dla którego $f(x)=0$. Poniższa implementacja zabezpiecza jednak przed takim przypadkiem i zamiast poprawnych wyników zwraca $nothing$ (analogiczne do $null$ z języka C lub $None$ z Python) wraz z kodem błędu równym 1. Sposób detekcji błędnych danych oraz szczegółowy opis działania kodu został opisany pod implementacją funkcji.  \n",
    "- $delta$ i $epsilon$ - są to wielkości, które definiują dokładność, jaką chcemy otrzymać dla zwracanych wyników. Parametr $delta$ dotyczy wielkości badanego przedziału, a $epsilon$ zwracanego $f(x)$. Oznacza to, że funkcja zakończy swoje działanie i zwróci wynik w momencie, gdy któryś z warunków zostanie spełniony (wystarczy jeden), tzn. wielkość przedziału będzie mniejsza niż $delta$ lub wartość $|f(x)| < epsilon$.\n",
    "  \n",
    "Funkcja zwraca kolejno:  \n",
    "- przybliżoną wartość pierwiastka  \n",
    "- otrzymaną wartość funkcji $f(x)$ bliską 0  \n",
    "- liczbę wykonanych iteracji  \n",
    "- kod błędu (0 w przypadku braku błędów)"
   ]
  },
  {
   "cell_type": "markdown",
   "metadata": {},
   "source": [
    "Pomocnicza funkcja signum:"
   ]
  },
  {
   "cell_type": "code",
   "execution_count": 4,
   "metadata": {},
   "outputs": [
    {
     "data": {
      "text/plain": [
       "sgn (generic function with 1 method)"
      ]
     },
     "execution_count": 4,
     "metadata": {},
     "output_type": "execute_result"
    }
   ],
   "source": [
    "function sgn(x)\n",
    "    if x < 0\n",
    "        return -1\n",
    "    elseif x > 0\n",
    "        return 1\n",
    "    else\n",
    "        return 0\n",
    "    end\n",
    "end"
   ]
  },
  {
   "cell_type": "markdown",
   "metadata": {},
   "source": [
    "Implementacja metody bisekcji:"
   ]
  },
  {
   "cell_type": "code",
   "execution_count": 5,
   "metadata": {},
   "outputs": [
    {
     "data": {
      "text/plain": [
       "mbisekcji (generic function with 1 method)"
      ]
     },
     "execution_count": 5,
     "metadata": {},
     "output_type": "execute_result"
    }
   ],
   "source": [
    "function mbisekcji(f, a::Float64, b::Float64, delta::Float64, epsilon::Float64)\n",
    "    u = f(a)\n",
    "    v = f(b)\n",
    "    e = b - a\n",
    "    it = 0\n",
    "    \n",
    "    if sgn(u) == sgn(v)\n",
    "        return nothing, nothing, 0, 1\n",
    "    end\n",
    "    \n",
    "    while true\n",
    "        it += 1\n",
    "        e = e / 2\n",
    "        c = a + e\n",
    "        w = f(c)\n",
    "        if abs(e) < delta || abs(w) < epsilon\n",
    "            return c, w, it, 0\n",
    "        end\n",
    "        if sgn(w) != sgn(u)\n",
    "            b = c\n",
    "            v = w\n",
    "        else\n",
    "            a = c\n",
    "            u = w\n",
    "        end\n",
    "    end\n",
    "end"
   ]
  },
  {
   "cell_type": "markdown",
   "metadata": {},
   "source": [
    "Metoda bisekcji polega na przybliżaniu pierwiastka funkcji poprzez połowienie kolejnych przedziałów tak, aby pierwiastek znajdował się w wybranej połowie. W pierwszej kolejności sprawdzamy poprawność wprowadzonych danych, tzn. czy znaki $f(a)$ oraz $f(b)$ są różne. Dla funkcji ciągłych gwarantuje nam to, że znajdziemy w tym przedziale pierwiastek. Korzystanie z funkcji signum jest bezpieczniejsze niż $f(a)\\cdot f(b)<0$, ze względu na ograniczenia precyzji (możemy np. otrzymać jako wynik zero maszynowe, mnożąc wartości różne od 0). Następnie w pętli następuje połowenie przedziału i przechodzenie do następnego. Należy zauważyć, że dzielnie przedziału odbywa się według schematu $e:=b-a$, $ c:=a+e$. Jest to bezpieczny sposób generowania kolejnych przedziałów, w przeciwieństwie do $c=\\frac{(a+b)}{2}$, który przez zaokrąglenia stwarza ryzyko, że $c \\notin [a,b]$. Wybór przedziału odbywa się na podstawie znaku wartości funkcji na krańcach przedziału oraz $f(c)$. Przykładowo jeśli $f(a)$ jest przeciwnego znaku niż $f(c)$, to w tym przedziale znajduje się pierwiastek. W przeciwnym razie w przedziale $[c,b]$.Warunkami wyjścia jest dostatecznie mały przedział, lub wartość funkcji dostatecznie bliska zeru."
   ]
  },
  {
   "cell_type": "markdown",
   "metadata": {},
   "source": [
    "### Zadanie 2."
   ]
  },
  {
   "cell_type": "markdown",
   "metadata": {},
   "source": [
    "W zadaniu należy zaimplementować funkcję, znajdującą pierwiastki podanej funkcji metodą Newtona (stycznych). Metoda ta w przeciwieństwie do powyższej nie wymaga podania przedziału początkowego, a jedynie startowy $x_0$. Założeniem które musimy jednak spełnić jest ciągłość badanej funkcji w przedziale po którym będzie iterował algorytm oraz $f'(r) \\neq 0$ dla pierwiastka jednokrotnego $r$. W tej metodzie wykorzystujemy rozwinięcie w szereg Taylora:  \n",
    "<center>$f(x) = f(x_n) + f'(x_n)(x-x_n) + \\mathcal{O}((x-x_n)^2)$</center>\n",
    "gdzie po linearyzacji otrzymujemy:  \n",
    "<center>$f(x) \\approx f(x_n) + f'(x_n)(x-x_n)$</center>\n",
    "Stąd wyprowadzamy wzór:\n",
    "<center>$x_{n+1} = x_n - \\frac{f(x_n)}{f'(x_n)}$</center>\n",
    "\n",
    "W metodzie $mstycznych$ na wejściu podajemy:  \n",
    "- $f$ - czyli funkcję której pierwiastków szukamy  \n",
    "- $pf$ - pochodna funkcji $f$  \n",
    "- $x_0$ - początkowy $x$\n",
    "- $delta$ i $epsilon$ - podobnie jak wyżej są to warunki wyjścia z pętli, po której zwrócone zostaną wyniki. Różnica tutaj jest taka, że $delta$ to odległość między dwoma $x$ z $n$ i $n+1$ iteracji.\n",
    "- $maxit$ - maksymalna liczba wykonanych iteracji - stanowi zabepieczenie w przypadku, gdyby pętla nie mogła się skończyć, np. przez rozbieżność ciągu $x_n$. Problem ten zostanie zaprezentowany w kolejnych zadaniach.\n",
    "\n",
    "Na wyjściu dostajemy wartości jak w zadaniu 1. Różnicą jest jedynie większa liczba obsługiwanych błędów."
   ]
  },
  {
   "cell_type": "markdown",
   "metadata": {},
   "source": [
    "Implementacja metody Newtona:"
   ]
  },
  {
   "cell_type": "code",
   "execution_count": 6,
   "metadata": {},
   "outputs": [
    {
     "data": {
      "text/plain": [
       "mstycznych (generic function with 1 method)"
      ]
     },
     "execution_count": 6,
     "metadata": {},
     "output_type": "execute_result"
    }
   ],
   "source": [
    "function mstycznych(f,pf,x0::Float64, delta::Float64, epsilon::Float64, maxit::Int)\n",
    "    v = f(x0)\n",
    "    x1 = 0.0\n",
    "    k = 0\n",
    "    \n",
    "    if abs(v) < epsilon\n",
    "        return x0, v, 0, 0\n",
    "    end\n",
    "    \n",
    "    for k in 1:maxit\n",
    "        \n",
    "        if abs(pf(x0)) < epsilon\n",
    "            return x0, f(x0), k, 2\n",
    "        end\n",
    "        \n",
    "        x1 = x0 - v/pf(x0)\n",
    "        v = f(x1)\n",
    "        \n",
    "        if abs(x1-x0) < delta || abs(v) < epsilon\n",
    "            return x1, v, k, 0\n",
    "        end\n",
    "        \n",
    "        x0 = x1\n",
    "    end\n",
    "    \n",
    "    return x1, v, k, 1\n",
    "end"
   ]
  },
  {
   "cell_type": "markdown",
   "metadata": {},
   "source": [
    "Opis działania:  \n",
    "Metoda Newtona polega na znajdowaniu pierwiastka funkcji poprzez iteracyjne wyliczanie kolejnych $x$ ze wzoru $x_{n+1} := x_n - \\frac{f(x_n)}{f'(x_n)}$. Wzór ten został wyprowadzony z przybliżenia szeregu Taylora dla funkcji $f(x)$, gdzie wygląda następująco: $f(x) \\approx f(x_n) + f'(x_n)(x-x_n)$. W tym przypadku podajemy tylko jeden $x_0$, który jest rozwiązaniem początkowym. Dobór $x_0$ jest kluczowy, ponieważ w zależności od niego trafimy na konkretny pierwiastek lub nie otrzymamy go wcale. Z tego powodu pętla obliczająca jest zabezpieczona górnym ograniczeniem iteracji (kod błędu 1, gdy nie osiągniemy żądanej precyzji). Problemy zbieżności zostaną zaprezentowane w poniższych testach. Ponadto sprawdzamy wartość pochodnej, aby przerwać, gdy pochodna przyjmie wartość w pobliżu 0 (kod błędu 2). Poza tym warunkami wyjścia są dostatecznie mała różnica między kolejnymi $x$ lub $f(x)$ dostatecznie bliskie 0 lub osiągnięcie $maxit$.  \n",
    "  \n",
    "Opis kodu:  \n",
    "Kod rozpoczyna się wstępną inicjalizacją zmiennych, następnie sprawdzamy, czy wartość $f(x_0) < epsilon$ (wtedy nie ma potrzeby szukać dalej). Później wchodzimy do pętli, w której sprawdzamy najpierw, czy otrzymana pochodna nie jest zbyt bliska 0, u mnie jest to warunek $pf(x) < epsilon$. Następnie obliczamy ze wzory wartość $x_{n+1}$, a poprzednią podstawiamy za $x_n$. Na końcu pętli sprawdzamy, czy wyniki spełniają już warunki wyjścia. Jeśli pętla się zakończy przez górne ograniczenie $maxit$, to dotychczasowe wyniki zostaną zwrócone z kodem błędu 1."
   ]
  },
  {
   "cell_type": "markdown",
   "metadata": {},
   "source": [
    "### Zadanie 3."
   ]
  },
  {
   "cell_type": "markdown",
   "metadata": {},
   "source": [
    "W zadaniu należy zaimplementować funkcję, znajdującą pierwiastki podanej funkcji metodą siecznych. Podobnie jak w zadaniu 2. zakładamy, że funkcja jest ciągła na przedziale, po którym będzie iterować $msiecznych$ oraz, że $f'(r)=0$ dla $r$ będącego pierwiastekiem jednokrotnym. Metoda siecznych różni się od metody stycznych tym, że aproksymujemy:  \n",
    "<center>$f'(x_n) \\approx \\frac{f(x_n)-f(x_{n-1})}{x_n-x_{n-1}}$</center>  \n",
    "Stąd analogicznie:  \n",
    "<center>$x_{n+1} := x_n - \\frac{x_n - x_{n-1}}{f(x_n)-f(x_{n-1})}f(x_n)$</center>    \n",
    "Od razu można zauważyć, że nie potrzebujemy podawać na wejściu pochodnej, ponieważ przybliżamy ją ze wzoru. Musimy jednak podać dwa początkowe $x$.  \n",
    "  \n",
    "Funkcja przyjmuje na wejściu:  \n",
    "- $f$ - funkcję której pierwistka szukamy  \n",
    "- $x_0$ i $x_1$ - jako rozwiązania początkowe\n",
    "- $delta$, $epsilon$, $maxit$ - dokładnie jak w zadaniu 2.\n",
    "  \n",
    "Funkcja zwraca wartości jak w zadaniu 2. (z pominięciem kodu błędu 2)."
   ]
  },
  {
   "cell_type": "markdown",
   "metadata": {},
   "source": [
    "Implementacja metody siecznych:"
   ]
  },
  {
   "cell_type": "code",
   "execution_count": 7,
   "metadata": {},
   "outputs": [
    {
     "data": {
      "text/plain": [
       "msiecznych (generic function with 1 method)"
      ]
     },
     "execution_count": 7,
     "metadata": {},
     "output_type": "execute_result"
    }
   ],
   "source": [
    "function msiecznych(f, x0::Float64, x1::Float64, delta::Float64, epsilon::Float64, maxit::Int)\n",
    "    fx0 = f(x0)\n",
    "    fx1 = f(x1)\n",
    "    k = 0\n",
    "    \n",
    "    for k in 1:maxit\n",
    "        \n",
    "        if abs(fx0) > abs(fx1)\n",
    "            x0, x1 = x1, x0\n",
    "            fx0, fx1 = fx1, fx0\n",
    "        end\n",
    "        \n",
    "        s = (x1-x0)/(fx1-fx0)\n",
    "        x1 = x0\n",
    "        fx1 = fx0\n",
    "        x0 = x0-(fx0*s)\n",
    "        fx0 = f(x0)\n",
    "        if abs(x1-x0) < delta || abs(fx0) < epsilon\n",
    "            return x0, fx0, k, 0\n",
    "        end\n",
    "    end\n",
    "    \n",
    "    return x0, fx0, k, 1\n",
    "end"
   ]
  },
  {
   "cell_type": "markdown",
   "metadata": {},
   "source": [
    "Metoda siecznych sposobem działania przypomina metodą stycznych. Tym razem, wiedząc, że $f'(x_n) \\approx \\frac{f(x_n)-f(x_{n-1})}{x_n-x_{n-1}}$, obliczamy iteracyjnie $x_{n+1} := x_n - \\frac{x_n - x_{n-1}}{f(x_n)-f(x_{n-1})} \\cdot f(x_n)$. W pierwszym kroku zabezpieczamy się, aby $|f(x_n)| < |f(x_{n+1})|$, ponieważ nie chcemy aby wartości funkcji oddalały się od 0 w kolejnych iteracjach. Następnie w kilku krokach obliczamy kolejne $x_{n+1}$. Podobnie jak wyżej, warunkami końcą jest dostatecznie mała różnica między $x$ w kolejnych iteracjach, wartość $f(x)$ bliska 0 lub osiągnięcie $maxit$ (kod błędu 1)."
   ]
  },
  {
   "cell_type": "markdown",
   "metadata": {},
   "source": [
    "### Zadanie 4."
   ]
  },
  {
   "cell_type": "markdown",
   "metadata": {},
   "source": [
    "W zadaniu zostaną przetestowane zaimplementowane wyżej funkcje dla przykładu $sin(x) - (\\frac{1}{2}\\cdot x)^2 = 0$. Sprawdzimy, czy dla podobnych wartości początkowych (przedziałów oraz startowych $x$ ze zbliżonego zakresu) będziemy w stanie znaleźć różnice między metodami."
   ]
  },
  {
   "cell_type": "markdown",
   "metadata": {},
   "source": [
    "Funkcja testowa $sin(x) - (\\frac{1}{2}\\cdot x)^2$:"
   ]
  },
  {
   "cell_type": "code",
   "execution_count": 191,
   "metadata": {},
   "outputs": [
    {
     "data": {
      "text/plain": [
       "f (generic function with 1 method)"
      ]
     },
     "execution_count": 191,
     "metadata": {},
     "output_type": "execute_result"
    }
   ],
   "source": [
    "f(x::Float64) = sin(x) - (0.5*x)^2"
   ]
  },
  {
   "cell_type": "markdown",
   "metadata": {},
   "source": [
    "Pochodna $f'(x) = cos(x) - \\frac{1}{2}x$ potrzebna do metody Newtona:"
   ]
  },
  {
   "cell_type": "code",
   "execution_count": 192,
   "metadata": {},
   "outputs": [
    {
     "data": {
      "text/plain": [
       "pf (generic function with 1 method)"
      ]
     },
     "execution_count": 192,
     "metadata": {},
     "output_type": "execute_result"
    }
   ],
   "source": [
    "pf(x::Float64) = cos(x) - 0.5*x"
   ]
  },
  {
   "cell_type": "markdown",
   "metadata": {},
   "source": [
    "Ograniczenia dokładności wyników:"
   ]
  },
  {
   "cell_type": "code",
   "execution_count": 193,
   "metadata": {},
   "outputs": [
    {
     "data": {
      "text/plain": [
       "5.0e-6"
      ]
     },
     "execution_count": 193,
     "metadata": {},
     "output_type": "execute_result"
    }
   ],
   "source": [
    "delta = 0.5*(10.0^(-5))\n",
    "epsilon = 0.5*(10.0^(-5))"
   ]
  },
  {
   "cell_type": "markdown",
   "metadata": {},
   "source": [
    "Maksymalna liczba iteracji dla metody Newtona i siecznych:"
   ]
  },
  {
   "cell_type": "code",
   "execution_count": 194,
   "metadata": {},
   "outputs": [
    {
     "data": {
      "text/plain": [
       "100"
      ]
     },
     "execution_count": 194,
     "metadata": {},
     "output_type": "execute_result"
    }
   ],
   "source": [
    "maxit = 100"
   ]
  },
  {
   "cell_type": "markdown",
   "metadata": {},
   "source": [
    "Wywołania poszczególnych metod:"
   ]
  },
  {
   "cell_type": "markdown",
   "metadata": {},
   "source": [
    "Metoda bisekcji na przedziale $[1.5, 2.0]$:"
   ]
  },
  {
   "cell_type": "code",
   "execution_count": 195,
   "metadata": {},
   "outputs": [
    {
     "data": {
      "text/plain": [
       "(1.9337539672851562, -2.7027680138402843e-7, 16, 0)"
      ]
     },
     "execution_count": 195,
     "metadata": {},
     "output_type": "execute_result"
    }
   ],
   "source": [
    "mbisekcji(f, 1.5, 2.0, delta, epsilon)"
   ]
  },
  {
   "cell_type": "markdown",
   "metadata": {},
   "source": [
    "Metoda stycznych z $x_0 = 1.5$:"
   ]
  },
  {
   "cell_type": "code",
   "execution_count": 196,
   "metadata": {},
   "outputs": [
    {
     "data": {
      "text/plain": [
       "(1.933753779789742, -2.2423316314856834e-8, 4, 0)"
      ]
     },
     "execution_count": 196,
     "metadata": {},
     "output_type": "execute_result"
    }
   ],
   "source": [
    "mstycznych(f, pf, 1.5, delta, epsilon, maxit)"
   ]
  },
  {
   "cell_type": "markdown",
   "metadata": {},
   "source": [
    "Metoda siecznych z $x_0 = 1.0$ i $x_1 = 2.0$:"
   ]
  },
  {
   "cell_type": "code",
   "execution_count": 197,
   "metadata": {},
   "outputs": [
    {
     "data": {
      "text/plain": [
       "(1.933753644474301, 1.564525129449379e-7, 4, 0)"
      ]
     },
     "execution_count": 197,
     "metadata": {},
     "output_type": "execute_result"
    }
   ],
   "source": [
    "msiecznych(f, 1.0, 2.0, delta, epsilon, maxit)"
   ]
  },
  {
   "cell_type": "markdown",
   "metadata": {},
   "source": [
    "Dla danych z zadania wszystkie funkcje metody zadziałały poprawnie (kody błędu 0). Dane startowe dla każdej z metod są zbliżone, a wymagana precyzja identyczna. Wyniki zwracane przez wszystkie algorytmy są podobne i zgodne z rzeczywistością, tzn. funkcja $f(x)$ z zadania faktycznie przyjmuje wartość 0 dla $x \\approx 1.93375$. Zarówno w wartościach przybliżonego $x$ jak i $f(x)$ nie ma znaczących różnic między metodami. Oznacza to, że wszystkie 3 metody dla podanej funkcji działają poprawnie.\n",
    "  \n",
    "Różnicę można zauważyć dopiero w przypadku liczby iteracji. Metoda bisekcji osiągnęła wymaganą dokładność w 16 iteracjach, pozostałe w 4, co daje przewagę w kwestii liczby iteracji metodzie siecznych i stycznych. Ten przypadek potwierdza rząd poszczególnych metod, gdzie współczynnik zbieżności dla metody bisekcji jest równy $1$, dla siecznych $\\frac{1+\\sqrt{5}}{2}\\approx 1.618$, dla stycznych $2$."
   ]
  },
  {
   "cell_type": "markdown",
   "metadata": {},
   "source": [
    "### Zadanie 5."
   ]
  },
  {
   "cell_type": "markdown",
   "metadata": {},
   "source": [
    "W zadaniu należy przy pomocy metody bisekcji znaleźć wartości, dla których wykresy $y=3x$ oraz $y=e^x$ przecinają się."
   ]
  },
  {
   "cell_type": "markdown",
   "metadata": {},
   "source": [
    "Poszukujemy zatem rozwiązania równania $3x = e^x$, czyli $e^x - 3x = 0$. Niech zatem $f(x) = e^x - 3x$ będzie funkcją, w której będziemy szukać miejsc zerowych."
   ]
  },
  {
   "cell_type": "markdown",
   "metadata": {},
   "source": [
    "Deklaracja $f(x)$:"
   ]
  },
  {
   "cell_type": "code",
   "execution_count": 198,
   "metadata": {},
   "outputs": [
    {
     "data": {
      "text/plain": [
       "f (generic function with 1 method)"
      ]
     },
     "execution_count": 198,
     "metadata": {},
     "output_type": "execute_result"
    }
   ],
   "source": [
    "f(x::Float64) = exp(x) - 3.0*x"
   ]
  },
  {
   "cell_type": "markdown",
   "metadata": {},
   "source": [
    "Wymagana dokładność:"
   ]
  },
  {
   "cell_type": "code",
   "execution_count": 199,
   "metadata": {},
   "outputs": [
    {
     "data": {
      "text/plain": [
       "0.0001"
      ]
     },
     "execution_count": 199,
     "metadata": {},
     "output_type": "execute_result"
    }
   ],
   "source": [
    "delta = 10.0^(-4)\n",
    "epsilon = 10.0^(-4)"
   ]
  },
  {
   "cell_type": "markdown",
   "metadata": {},
   "source": [
    "Pomocniczy wykres, aby dobrać wartości początkowe:"
   ]
  },
  {
   "cell_type": "markdown",
   "metadata": {},
   "source": [
    "![](wykres.png)"
   ]
  },
  {
   "cell_type": "markdown",
   "metadata": {},
   "source": [
    "Na wykresie widzimy, że funkcja $e^x$ przecina się z funkcją $3x$ w dwóch miejscach, w okolicach $x \\approx 0.6$ oraz $x \\approx 1.5$. Stąd na podstawie wykresu dobieram 2 przedziały $[0.5, 1.0]$ oraz $[1.0, 2.0]$."
   ]
  },
  {
   "cell_type": "code",
   "execution_count": 203,
   "metadata": {},
   "outputs": [
    {
     "data": {
      "text/plain": [
       "(0.619140625, -9.066320343276146e-5, 8, 0)"
      ]
     },
     "execution_count": 203,
     "metadata": {},
     "output_type": "execute_result"
    }
   ],
   "source": [
    "mbisekcji(f, 0.5, 1.0, delta, epsilon)"
   ]
  },
  {
   "cell_type": "code",
   "execution_count": 204,
   "metadata": {},
   "outputs": [
    {
     "data": {
      "text/plain": [
       "(1.5120849609375, -7.618578602741621e-5, 13, 0)"
      ]
     },
     "execution_count": 204,
     "metadata": {},
     "output_type": "execute_result"
    }
   ],
   "source": [
    "mbisekcji(f, 1.0, 2.0, delta, epsilon)"
   ]
  },
  {
   "cell_type": "markdown",
   "metadata": {},
   "source": [
    "Korzystając z metody bisekcji otrzymałem $x_0 = 0.619140625$ w 8 iteracjach oraz $x_1 = 1.5120849609375$ w 13. Podane wyniki zgadzają się z punktami z wykresu. W $f(x_0)$ i $f(x_1)$ dostaję wartości bliskie $0$ i zgodne z narzuconymi wymaganiami dokładności. Dodatkowo kody błędu są równe 0, czyli algorytm zadziałał poprawnie."
   ]
  },
  {
   "cell_type": "markdown",
   "metadata": {},
   "source": [
    "### Zadanie 6."
   ]
  },
  {
   "cell_type": "markdown",
   "metadata": {},
   "source": [
    "W zadaniu należy znaleźć miejsca zerowe funkcji $f_1(x) = e^{1-x}-1$ oraz $f_2(x) = x\\cdot e^{-x}$ przy pomocy metod z zadań 1-3. Przedział i przybliżenia początkowe należy dobrać samemu, dokładność obliczeń jest dana. Odpowiedzi na dodatkowe pytania znajdują się pod rozwiązaniami."
   ]
  },
  {
   "cell_type": "markdown",
   "metadata": {},
   "source": [
    "Deklaracja $f_1(x)$:"
   ]
  },
  {
   "cell_type": "code",
   "execution_count": 9,
   "metadata": {},
   "outputs": [
    {
     "data": {
      "text/plain": [
       "f1 (generic function with 1 method)"
      ]
     },
     "execution_count": 9,
     "metadata": {},
     "output_type": "execute_result"
    }
   ],
   "source": [
    "f1(x::Float64) = exp(1.0-x) - 1.0"
   ]
  },
  {
   "cell_type": "markdown",
   "metadata": {},
   "source": [
    "Deklaracja $f_2(x)$:"
   ]
  },
  {
   "cell_type": "code",
   "execution_count": 10,
   "metadata": {},
   "outputs": [
    {
     "data": {
      "text/plain": [
       "f2 (generic function with 1 method)"
      ]
     },
     "execution_count": 10,
     "metadata": {},
     "output_type": "execute_result"
    }
   ],
   "source": [
    "f2(x::Float64) = x*(exp(-x))"
   ]
  },
  {
   "cell_type": "markdown",
   "metadata": {},
   "source": [
    "Pochodna funkcji $f_1'(x) = -e^{1-x}$ dla metody Newtona:"
   ]
  },
  {
   "cell_type": "code",
   "execution_count": 11,
   "metadata": {},
   "outputs": [
    {
     "data": {
      "text/plain": [
       "pf1 (generic function with 1 method)"
      ]
     },
     "execution_count": 11,
     "metadata": {},
     "output_type": "execute_result"
    }
   ],
   "source": [
    "pf1(x::Float64) = (-exp(1.0-x))"
   ]
  },
  {
   "cell_type": "markdown",
   "metadata": {},
   "source": [
    "Pochodna funkcji $f_2'(x) = -e^{-x} \\cdot (x-1)$ dla metody Newtona:"
   ]
  },
  {
   "cell_type": "code",
   "execution_count": 12,
   "metadata": {},
   "outputs": [
    {
     "data": {
      "text/plain": [
       "pf2 (generic function with 1 method)"
      ]
     },
     "execution_count": 12,
     "metadata": {},
     "output_type": "execute_result"
    }
   ],
   "source": [
    "pf2(x::Float64) = (-exp(-x))*(x-1.0)"
   ]
  },
  {
   "cell_type": "markdown",
   "metadata": {},
   "source": [
    "Dane wymagania dokładności obliczeń i limit iteracji:"
   ]
  },
  {
   "cell_type": "code",
   "execution_count": 13,
   "metadata": {},
   "outputs": [
    {
     "data": {
      "text/plain": [
       "100"
      ]
     },
     "execution_count": 13,
     "metadata": {},
     "output_type": "execute_result"
    }
   ],
   "source": [
    "delta = 10.0^(-5)\n",
    "epsilon = 10.0^(-5)\n",
    "maxit = 100"
   ]
  },
  {
   "cell_type": "markdown",
   "metadata": {},
   "source": [
    "Pomocnicze wykresy do szukania wartości początkowych (czerwony $f_1(x)$, niebieski $f_2(x)$):"
   ]
  },
  {
   "cell_type": "markdown",
   "metadata": {},
   "source": [
    "![](wykres2.png)"
   ]
  },
  {
   "cell_type": "markdown",
   "metadata": {},
   "source": [
    "Metoda bisekcji dla funkcji $f_1(x)$:"
   ]
  },
  {
   "cell_type": "markdown",
   "metadata": {},
   "source": [
    "Łatwo zauważyć na podstawie wzoru, że $f_1(1) = 0$. Ponadto jest to jedyne miejsce zerowe tej funkcji. Na tej podstawie dobiorę kilka przedziałów i porównam otrzymane wyniki."
   ]
  },
  {
   "cell_type": "code",
   "execution_count": 17,
   "metadata": {},
   "outputs": [
    {
     "name": "stdout",
     "output_type": "stream",
     "text": [
      "a = 0.5 b = 2.0 result = (0.9999923706054688, 7.629423635080457e-6, 16, 0)\n",
      "a = -5.0 b = 20.0 result = (0.9999942779541016, 5.722062269342132e-6, 19, 0)\n",
      "a = -75.0 b = 100.0 result = (1.0000079870224, -7.986990503749958e-6, 23, 0)\n"
     ]
    }
   ],
   "source": [
    "ranges = [(0.5, 2.0),(-5.0, 20.0),(-75.0,100.0)]\n",
    "for r in ranges\n",
    "    println(\"a = \", r[1], \" b = \", r[2], \" result = \", mbisekcji(f1, r[1], r[2], delta, epsilon))\n",
    "end"
   ]
  },
  {
   "cell_type": "markdown",
   "metadata": {},
   "source": [
    "Przedziały początkowe były dobierane tak, aby algorytm zadział poprawnie, tzn $x = 1 \\in [a,b]$. Były one jednak stopniowo powiększane, co dało spodziewane rezultaty - w kolejnych przypadkach rosła liczba iteracji koniecznych do uzyskania zadanej dokładności. Wszystkie próby zwróciły $f(x) \\approx 0$ oraz $x \\approx 1$, a kody błędów były równe 0, co świadczy o poprawnym wykonaniu algorytmów dla tego zadania."
   ]
  },
  {
   "cell_type": "markdown",
   "metadata": {},
   "source": [
    "Metoda stycznych dla funkcji  $f_1(x)$ :"
   ]
  },
  {
   "cell_type": "markdown",
   "metadata": {},
   "source": [
    "Tutaj przetestuję różne rozwiązania początkowe $x_0$."
   ]
  },
  {
   "cell_type": "code",
   "execution_count": 25,
   "metadata": {},
   "outputs": [
    {
     "name": "stdout",
     "output_type": "stream",
     "text": [
      "x_0 = -10.0 result = (0.9999999998781014, 1.2189849130095354e-10, 15, 0)\n",
      "x_0 = -5.0 result = (0.9999999998809204, 1.1907963504143027e-10, 10, 0)\n",
      "x_0 = -1.0 result = (0.9999922654776594, 7.734552252003368e-6, 5, 0)\n",
      "x_0 = 0.0 result = (0.9999984358892101, 1.5641120130194253e-6, 4, 0)\n",
      "x_0 = 1.0 result = (1.0, 0.0, 0, 0)\n",
      "x_0 = 2.0 result = (0.9999999810061002, 1.8993900008368314e-8, 5, 0)\n",
      "x_0 = 3.0 result = (0.9999999710783241, 2.892167638712806e-8, 9, 0)\n",
      "x_0 = 4.0 result = (0.9999999995278234, 4.721765201054495e-10, 21, 0)\n",
      "x_0 = 5.0 result = (0.9999996427095682, 3.572904956339329e-7, 54, 0)\n"
     ]
    }
   ],
   "source": [
    "xs = [-10.0, -5.0, -1.0, 0.0, 1.0, 2.0, 3.0, 4.0, 5.0]\n",
    "for r in xs\n",
    "    println(\"x_0 = \", r, \" result = \", mstycznych(f1, pf1, r, delta, epsilon, maxit))\n",
    "end"
   ]
  },
  {
   "cell_type": "markdown",
   "metadata": {},
   "source": [
    "Dla przedstawionych wartości $x_0$ ponownie otrzymujemy zawsze dobre wyniki (oczywiście najlepsze, gdy $x_0$ jest poszukiwanym $x$). Należy jednak zauważyć, że dla $x > 1$ znacząco wzrasta liczba iteracji. Dokładniej ten problem zostanie omówiony niżej."
   ]
  },
  {
   "cell_type": "markdown",
   "metadata": {},
   "source": [
    "Metoda siecznych dla funkcji $f_1(x):$"
   ]
  },
  {
   "cell_type": "markdown",
   "metadata": {},
   "source": [
    "Testy dla kilku wartości początkowych $x_0$ i $x_1$:"
   ]
  },
  {
   "cell_type": "code",
   "execution_count": 49,
   "metadata": {},
   "outputs": [
    {
     "name": "stdout",
     "output_type": "stream",
     "text": [
      "x_0 = -10.0 x_1 = -9.0 result = (0.9999930291952891, 6.9708290069137036e-6, 19, 0)\n",
      "x_0 = -5.0 x_1 = -4.0 result = (0.9999982666548254, 1.73334667685765e-6, 12, 0)\n",
      "x_0 = -3.0 x_1 = -1.0 result = (0.9999994482495854, 5.517505667906875e-7, 8, 0)\n",
      "x_0 = -0.5 x_1 = 1.5 result = (0.9999964138056234, 3.5862008069820206e-6, 5, 0)\n",
      "x_0 = 0.5 x_1 = 1.1 result = (1.0000000082062768, -8.206276769229248e-9, 4, 0)\n",
      "x_0 = 0.5 x_1 = 1.5 result = (0.9999999624498374, 3.755016342310569e-8, 5, 0)\n",
      "x_0 = 1.1 x_1 = 2.0 result = (0.9999998678669797, 1.3213302896275536e-7, 4, 0)\n",
      "x_0 = 3.0 x_1 = 5.0 result = (1.0000002553381668, -2.553381341918737e-7, 21, 0)\n"
     ]
    }
   ],
   "source": [
    "ranges = [(-10.0, -9.0),(-5.0, -4.0),(-3.0, -1.0),(-0.5,1.5), (0.5, 1.1), (0.5, 1.5), (1.1, 2.0), (3.0, 5.0)]\n",
    "for r in ranges\n",
    "    println(\"x_0 = \", r[1], \" x_1 = \", r[2], \" result = \", msiecznych(f1, r[1], r[2], delta, epsilon, maxit))\n",
    "end"
   ]
  },
  {
   "cell_type": "markdown",
   "metadata": {},
   "source": [
    "Dla podanych wartości (z podobnych zakresów jak w zadaniu 2) $x_0$ i $x_1$ dostajemy poprawne wyniki $x \\approx 1$ oraz $f(x) \\approx 0$. Podobnie jak w zadaniu 2. zaczynając w okolicach $x=-10$ jesteśmy w stanie dostać mniej iteracji niż zaczynając w okolicach $x=3$."
   ]
  },
  {
   "cell_type": "markdown",
   "metadata": {},
   "source": [
    "Metoda bisekcji dla funkcji $f_2(x)$:"
   ]
  },
  {
   "cell_type": "code",
   "execution_count": 50,
   "metadata": {},
   "outputs": [
    {
     "name": "stdout",
     "output_type": "stream",
     "text": [
      "a = -0.5 b = 2.0 result = (-7.62939453125e-6, -7.629452739132958e-6, 16, 0)\n",
      "a = -5.0 b = 20.0 result = (-4.76837158203125e-6, -4.7683943194530044e-6, 20, 0)\n",
      "a = -75.0 b = 100.0 result = (5.9604644775390625e-6, 5.960428950508154e-6, 22, 0)\n"
     ]
    }
   ],
   "source": [
    "ranges = [(-0.5, 2.0),(-5.0, 20.0),(-75.0,100.0)]\n",
    "for r in ranges\n",
    "    println(\"a = \", r[1], \" b = \", r[2], \" result = \", mbisekcji(f2, r[1], r[2], delta, epsilon))\n",
    "end"
   ]
  },
  {
   "cell_type": "markdown",
   "metadata": {},
   "source": [
    "Ponownie dla rosnących przedziałów otrzymujemy większą liczbę iteracji. Z racji, że $f_2(0)=0$, widzimy że otrzymane wyniki są poprawne (ponadto kody błędów wynoszą 0)."
   ]
  },
  {
   "cell_type": "markdown",
   "metadata": {},
   "source": [
    "Metoda stycznych dla funkcji $f_2(x)$:"
   ]
  },
  {
   "cell_type": "code",
   "execution_count": 55,
   "metadata": {},
   "outputs": [
    {
     "name": "stdout",
     "output_type": "stream",
     "text": [
      "x_0 = -10.0 result = (-3.784424932490619e-7, -3.784426364678097e-7, 16, 0)\n",
      "x_0 = -5.0 result = (-9.064102913053547e-6, -9.064185071387511e-6, 10, 0)\n",
      "x_0 = -1.0 result = (-3.0642493416461764e-7, -3.0642502806087233e-7, 5, 0)\n",
      "x_0 = 0.1 result = (-1.4906619716777104e-8, -1.490661993898442e-8, 3, 0)\n",
      "x_0 = 0.5 result = (-3.0642493416461764e-7, -3.0642502806087233e-7, 5, 0)\n"
     ]
    }
   ],
   "source": [
    "xs = [-10.0, -5.0, -1.0, 0.1, 0.5]\n",
    "for r in xs\n",
    "    println(\"x_0 = \", r, \" result = \", mstycznych(f2, pf2, r, delta, epsilon, maxit))\n",
    "end"
   ]
  },
  {
   "cell_type": "markdown",
   "metadata": {},
   "source": [
    "Dla podanych wartości początkowych $x_0$ (celowo mniejszych 1) metoda zwraca poprawnie $f(x)$ i $x$ bliskie $0$. Odpowiedź na pytanie co się stanie dla $x > 1$ znajduje się niżej."
   ]
  },
  {
   "cell_type": "markdown",
   "metadata": {},
   "source": [
    "Metoda siecznych dla funkcji $f_2(x)$:"
   ]
  },
  {
   "cell_type": "code",
   "execution_count": 60,
   "metadata": {},
   "outputs": [
    {
     "name": "stdout",
     "output_type": "stream",
     "text": [
      "x_0 = -10.0 x_1 = -9.0 result = (-2.1978269657228755e-8, -2.1978270140273096e-8, 22, 0)\n",
      "x_0 = -5.0 x_1 = -4.0 result = (-4.107951331059874e-6, -4.107968206358675e-6, 13, 0)\n",
      "x_0 = -3.0 x_1 = -1.0 result = (-3.572147171962902e-8, -3.572147299565259e-8, 8, 0)\n",
      "x_0 = -0.5 x_1 = 0.9 result = (-1.5307086577660617e-6, -1.53071100083685e-6, 9, 0)\n",
      "x_0 = 0.5 x_1 = 0.9 result = (1.2159430836748347e-8, 1.2159430688896589e-8, 9, 0)\n"
     ]
    }
   ],
   "source": [
    "ranges = [(-10.0, -9.0),(-5.0, -4.0),(-3.0, -1.0),(-0.5,0.9), (0.5, 0.9)]\n",
    "for r in ranges\n",
    "    println(\"x_0 = \", r[1], \" x_1 = \", r[2], \" result = \", msiecznych(f2, r[1], r[2], delta, epsilon, maxit))\n",
    "end"
   ]
  },
  {
   "cell_type": "markdown",
   "metadata": {},
   "source": [
    "Podobnie jak wyżej użyłem $x_0$ i $x_1$ < $1$. Każda z metod zakończyła się kodem 0, a wyniki są zgodne z oczekiwaniami, tzn. $f(x)$ i $x$ w pobliżu $0$."
   ]
  },
  {
   "cell_type": "markdown",
   "metadata": {},
   "source": [
    "Na sam koniec pokażę wykresy funkcji $\\phi(x)$ (dla metod Newtona) oraz $f(x)=x$. Widać tutaj, że punkty do których zbiegały algorytmy są punktami stałymi tych odwzorowań (niebieski $\\phi_1(x)$, zielony $\\phi_2(x)$)."
   ]
  },
  {
   "cell_type": "markdown",
   "metadata": {},
   "source": [
    "![](wykresy3.png)"
   ]
  },
  {
   "cell_type": "markdown",
   "metadata": {},
   "source": [
    "Co się stanie, gdy w metodzie Newtona dla $f_1(x)$ wybierzemy $x_0 \\in (1, \\infty]$?"
   ]
  },
  {
   "cell_type": "markdown",
   "metadata": {},
   "source": [
    "Sprawdźmy kilka pierwszych wartości:"
   ]
  },
  {
   "cell_type": "code",
   "execution_count": 62,
   "metadata": {},
   "outputs": [
    {
     "name": "stdout",
     "output_type": "stream",
     "text": [
      "x_0 = 1.5 result = (0.9999999984736215, 1.5263785790864404e-9, 4, 0)\n",
      "x_0 = 2.0 result = (0.9999999810061002, 1.8993900008368314e-8, 5, 0)\n",
      "x_0 = 3.0 result = (0.9999999710783241, 2.892167638712806e-8, 9, 0)\n",
      "x_0 = 4.0 result = (0.9999999995278234, 4.721765201054495e-10, 21, 0)\n",
      "x_0 = 5.0 result = (0.9999996427095682, 3.572904956339329e-7, 54, 0)\n",
      "x_0 = 6.0 result = (-42.4131591025766, 7.146533605185628e18, 0, 1)\n"
     ]
    }
   ],
   "source": [
    "xs = [1.5, 2.0, 3.0, 4.0, 5.0, 6.0]\n",
    "for r in xs\n",
    "    println(\"x_0 = \", r, \" result = \", mstycznych(f1, pf1, r, delta, epsilon, maxit))\n",
    "end"
   ]
  },
  {
   "cell_type": "markdown",
   "metadata": {},
   "source": [
    "Widzimy drastyczny wzrost liczby iteracji dla względnie niewielkich przyrostów $x$. Dla $x=6$, 100 iteracji nie wystarcza na wyznaczenie wyniku (kod 1)."
   ]
  },
  {
   "cell_type": "code",
   "execution_count": 63,
   "metadata": {},
   "outputs": [
    {
     "name": "stdout",
     "output_type": "stream",
     "text": [
      "x_0 = 7.0 result = (-296.4287934927351, 1.4848540676800243e129, 0, 1)\n",
      "x_0 = 10.0 result = (NaN, NaN, 0, 1)\n",
      "x_0 = 15.0 result = (15.0, -0.9999991684712809, 1, 2)\n",
      "x_0 = 100.0 result = (100.0, -1.0, 1, 2)\n"
     ]
    }
   ],
   "source": [
    "xs = [7.0, 10.0, 15.0, 100.0]\n",
    "for r in xs\n",
    "    println(\"x_0 = \", r, \" result = \", mstycznych(f1, pf1, r, delta, epsilon, maxit))\n",
    "end"
   ]
  },
  {
   "cell_type": "markdown",
   "metadata": {},
   "source": [
    "Dla $x=7$ ponownie 100 iteracji nie wystaczyło (co jest oczekiwanym zachowaniem). Należy zwrócić również uwagę na zwaracany $x \\approx 1.48e129$. Dla $x=10$ wychpdzimy już poza zakres Float64, dla $x=15$ i większych obliczona pochodna jest mniejsza od ograniczenia epsilon (kod 2)."
   ]
  },
  {
   "cell_type": "markdown",
   "metadata": {},
   "source": [
    "Problemem, który pojawia się dla $x>1$ jest wartość pochodnej, która bardzo szybko zbiega do 0. Z racji, że znajduje się ona w mianowniku funkcji $\\phi(x)$, otrzymywane kolejne $x_n$ wykonują bardzo duże skoki, tzn. $|x_{n+1}-x_n|$ jest względnie duże. Powoduje to znaczne zwiększenie liczby koniecznych iteracji do znalezienia rozwiązania, a nawet $x$ przekraczające zakres danej arytmetyki. Stąd konieczne było wprowadzenie ogarniczenia dolnego na $|f'(x)|$."
   ]
  },
  {
   "cell_type": "markdown",
   "metadata": {},
   "source": [
    "Co się stanie gdy w metodzie Newtona dla $f_2(x)$ wybierzemy $x_0$>1?"
   ]
  },
  {
   "cell_type": "code",
   "execution_count": null,
   "metadata": {},
   "outputs": [],
   "source": []
  },
  {
   "cell_type": "code",
   "execution_count": 231,
   "metadata": {},
   "outputs": [
    {
     "data": {
      "text/plain": [
       "(12.622712427403389, 4.1608143088697865e-5, 8, 0)"
      ]
     },
     "execution_count": 231,
     "metadata": {},
     "output_type": "execute_result"
    }
   ],
   "source": [
    "mstycznych(f2, pf2, 1.5, delta, epsilon, maxit)"
   ]
  },
  {
   "cell_type": "code",
   "execution_count": 232,
   "metadata": {},
   "outputs": [
    {
     "data": {
      "text/plain": [
       "(11.943584170969109, 7.764294054929163e-5, 6, 0)"
      ]
     },
     "execution_count": 232,
     "metadata": {},
     "output_type": "execute_result"
    }
   ],
   "source": [
    "mstycznych(f2, pf2, 5.0, delta, epsilon, maxit)"
   ]
  },
  {
   "cell_type": "code",
   "execution_count": 233,
   "metadata": {},
   "outputs": [
    {
     "data": {
      "text/plain": [
       "(12.627619014437363, 4.142058352471773e-5, 5, 0)"
      ]
     },
     "execution_count": 233,
     "metadata": {},
     "output_type": "execute_result"
    }
   ],
   "source": [
    "mstycznych(f2, pf2, 7.0, delta, epsilon, maxit)"
   ]
  },
  {
   "cell_type": "code",
   "execution_count": 234,
   "metadata": {},
   "outputs": [
    {
     "data": {
      "text/plain": [
       "(12.469988152965252, 4.788715064380606e-5, 4, 0)"
      ]
     },
     "execution_count": 234,
     "metadata": {},
     "output_type": "execute_result"
    }
   ],
   "source": [
    "mstycznych(f2, pf2, 8.0, delta, epsilon, maxit)"
   ]
  },
  {
   "cell_type": "code",
   "execution_count": 235,
   "metadata": {},
   "outputs": [
    {
     "data": {
      "text/plain": [
       "(20.0, 4.122307244877116e-8, 0, 0)"
      ]
     },
     "execution_count": 235,
     "metadata": {},
     "output_type": "execute_result"
    }
   ],
   "source": [
    "mstycznych(f2, pf2, 20.0, delta, epsilon, maxit)"
   ]
  },
  {
   "cell_type": "markdown",
   "metadata": {},
   "source": [
    "Ad.3"
   ]
  },
  {
   "cell_type": "code",
   "execution_count": 230,
   "metadata": {},
   "outputs": [
    {
     "data": {
      "text/plain": [
       "(1.0, 0.36787944117144233, 1, 2)"
      ]
     },
     "execution_count": 230,
     "metadata": {},
     "output_type": "execute_result"
    }
   ],
   "source": [
    "mstycznych(f2, pf2, 1.0, delta, epsilon, maxit)"
   ]
  }
 ],
 "metadata": {
  "kernelspec": {
   "display_name": "Julia 1.4.1",
   "language": "julia",
   "name": "julia-1.4"
  },
  "language_info": {
   "file_extension": ".jl",
   "mimetype": "application/julia",
   "name": "julia",
   "version": "1.4.1"
  }
 },
 "nbformat": 4,
 "nbformat_minor": 4
}
