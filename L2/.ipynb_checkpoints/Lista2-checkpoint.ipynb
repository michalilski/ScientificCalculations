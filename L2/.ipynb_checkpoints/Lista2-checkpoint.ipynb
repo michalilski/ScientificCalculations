{
 "cells": [
  {
   "cell_type": "markdown",
   "metadata": {},
   "source": [
    "# Lista 2. Michał Ilski 250079"
   ]
  },
  {
   "cell_type": "markdown",
   "metadata": {},
   "source": [
    "## Zadanie 1."
   ]
  },
  {
   "cell_type": "markdown",
   "metadata": {},
   "source": [
    "W zadaniu modyfikujemy wartości z porzedniej listy (zad 5.) i sprawdzamy wpływ nieznacznych zmian na wyniki."
   ]
  },
  {
   "cell_type": "code",
   "execution_count": 1,
   "metadata": {},
   "outputs": [
    {
     "data": {
      "text/plain": [
       "f_a (generic function with 1 method)"
      ]
     },
     "execution_count": 1,
     "metadata": {},
     "output_type": "execute_result"
    }
   ],
   "source": [
    "function f_a(x, y, fl)\n",
    "    S = fl(0.0)\n",
    "    for i in 1:length(x)\n",
    "        S += fl(x[i]) * fl(y[i])\n",
    "    end\n",
    "    return S\n",
    "end"
   ]
  },
  {
   "cell_type": "code",
   "execution_count": 2,
   "metadata": {},
   "outputs": [
    {
     "data": {
      "text/plain": [
       "f_b (generic function with 1 method)"
      ]
     },
     "execution_count": 2,
     "metadata": {},
     "output_type": "execute_result"
    }
   ],
   "source": [
    "\n",
    "function f_b(x, y, fl)\n",
    "    S = fl(0.0)\n",
    "    for i in 5:-1:1\n",
    "        S += fl(x[i]) * fl(y[i])\n",
    "    end\n",
    "    return S\n",
    "end"
   ]
  },
  {
   "cell_type": "code",
   "execution_count": 3,
   "metadata": {},
   "outputs": [
    {
     "data": {
      "text/plain": [
       "f_c (generic function with 1 method)"
      ]
     },
     "execution_count": 3,
     "metadata": {},
     "output_type": "execute_result"
    }
   ],
   "source": [
    "function f_c(x, y, fl)\n",
    "    values = []\n",
    "    for i = 1:length(x)\n",
    "        push!(values, fl(x[i]) * fl(y[i]))\n",
    "    end\n",
    "    \n",
    "    positive = values[values .>= 0]\n",
    "    sort!(positive, rev=true)\n",
    "    negative = values[values .< 0]\n",
    "    sort!(negative)\n",
    "    \n",
    "    p_sum = n_sum = 0\n",
    "    for i in 1:length(positive)\n",
    "        p_sum += fl(positive[i])\n",
    "    end\n",
    "    for i in 1:length(negative)\n",
    "        n_sum += fl(negative[i])\n",
    "    end\n",
    "    return fl(p_sum) + fl(n_sum)\n",
    "end"
   ]
  },
  {
   "cell_type": "code",
   "execution_count": 4,
   "metadata": {},
   "outputs": [
    {
     "data": {
      "text/plain": [
       "f_d (generic function with 1 method)"
      ]
     },
     "execution_count": 4,
     "metadata": {},
     "output_type": "execute_result"
    }
   ],
   "source": [
    "function f_d(x, y, fl)\n",
    "    values = []\n",
    "    for i = 1:length(x)\n",
    "        push!(values, fl(x[i]) * fl(y[i]))\n",
    "    end\n",
    "    \n",
    "    positive = values[values .>= 0]\n",
    "    sort!(positive)\n",
    "    negative = values[values .< 0]\n",
    "    sort!(negative, rev=true)\n",
    "    \n",
    "    p_sum = n_sum = 0\n",
    "    for i in 1:length(positive)\n",
    "        p_sum += fl(positive[i])\n",
    "    end\n",
    "    for i in 1:length(negative)\n",
    "        n_sum += fl(negative[i])\n",
    "    end\n",
    "    return fl(p_sum) + fl(n_sum)\n",
    "end"
   ]
  },
  {
   "cell_type": "code",
   "execution_count": 5,
   "metadata": {},
   "outputs": [
    {
     "data": {
      "text/plain": [
       "get_old_values (generic function with 1 method)"
      ]
     },
     "execution_count": 5,
     "metadata": {},
     "output_type": "execute_result"
    }
   ],
   "source": [
    "function get_old_values(fl)\n",
    "    return [fl(2.718281828),fl(-3.141592654),fl(1.414213562),fl(0.5772156649),fl(0.3010299957)], \n",
    "                    [fl(1486.2497),fl(878366.9879),fl(-22.37492),fl(4773714.647),fl(0.000185049)]\n",
    "end"
   ]
  },
  {
   "cell_type": "code",
   "execution_count": 6,
   "metadata": {},
   "outputs": [
    {
     "data": {
      "text/plain": [
       "get_new_values (generic function with 1 method)"
      ]
     },
     "execution_count": 6,
     "metadata": {},
     "output_type": "execute_result"
    }
   ],
   "source": [
    "function get_new_values(fl)\n",
    "    return [fl(2.718281828),fl(-3.141592654),fl(1.414213562),fl(0.577215664),fl(0.301029995)], \n",
    "                    [fl(1486.2497),fl(878366.9879),fl(-22.37492),fl(4773714.647),fl(0.000185049)]\n",
    "end"
   ]
  },
  {
   "cell_type": "code",
   "execution_count": 7,
   "metadata": {},
   "outputs": [
    {
     "name": "stdout",
     "output_type": "stream",
     "text": [
      "Float32:\n",
      "a) old = -0.4999443 new = -0.4999443\n",
      "b) old = -0.4543457 new = -0.4543457\n",
      "c) old = -0.5 new = -0.5\n",
      "d) old = -0.5 new = -0.5\n",
      "Float64:\n",
      "a) old = 1.0251881368296672e-10 new = -0.004296342739891585\n",
      "b) old = -1.5643308870494366e-10 new = -0.004296342998713953\n",
      "c) old = 0.0 new = -0.004296342842280865\n",
      "d) old = 0.0 new = -0.004296342842280865\n"
     ]
    }
   ],
   "source": [
    "fls = [Float32, Float64]\n",
    "for fl in fls\n",
    "    x_old, y_old = get_old_values(fl)\n",
    "    x_new, y_new = get_new_values(fl)\n",
    "    print(fl, \":\\n\")\n",
    "    print(\"a) old = \", f_a(x_old,y_old,fl), \" new = \", f_a(x_new,y_new,fl), \"\\n\")\n",
    "    print(\"b) old = \", f_b(x_old,y_old,fl), \" new = \", f_b(x_new,y_new,fl), \"\\n\")\n",
    "    print(\"c) old = \", f_c(x_old,y_old,fl), \" new = \", f_c(x_new,y_new,fl), \"\\n\")\n",
    "    print(\"d) old = \", f_d(x_old,y_old,fl), \" new = \", f_d(x_new,y_new,fl), \"\\n\")\n",
    "end"
   ]
  },
  {
   "cell_type": "markdown",
   "metadata": {},
   "source": [
    "Zmiany wprowadzone w ostatnich cyfrach $x_4$ i $x_5$ nie wpłynęły w żaden sposób na Float32, ponieważ precyzja zaokrągla wartości dla wyższych rzędów, niż zostały wprowadzone zmiany. Przykładowo dla $x_4$:"
   ]
  },
  {
   "cell_type": "code",
   "execution_count": 8,
   "metadata": {},
   "outputs": [
    {
     "name": "stdout",
     "output_type": "stream",
     "text": [
      "Old value in Float32: 0.5772157 new value in Float32: 0.5772157\n"
     ]
    }
   ],
   "source": [
    "println(\"Old value in Float32: \", Float32(0.5772156649), \" new value in Float32: \", Float32(0.577215664))"
   ]
  },
  {
   "cell_type": "markdown",
   "metadata": {},
   "source": [
    "W Float64 różnice są już widoczne. Dla algorytmu c) i d) są one zauważalne, natomiast dla algorytmów a) i b) są one relatywnie duże i wynoszą aż 7 rzędów różnicy. Oznacza to, że takie zadanie jest źle uwarunkowane, ponieważ niewielka zmiana danych potrafi wygenerować znaczące różnice w wynikach. Powodem tego jest szybkie narastanie błędu w trakcie wykonywania ciągu obliczeń."
   ]
  },
  {
   "cell_type": "markdown",
   "metadata": {},
   "source": [
    "## Zadanie 2."
   ]
  },
  {
   "cell_type": "markdown",
   "metadata": {},
   "source": [
    "Wykres funkcji $f(x) = e^{x}\\ln(1+e^{-x})$ w języku Python 3 (dla matplotlib, numpy, math)"
   ]
  },
  {
   "cell_type": "markdown",
   "metadata": {},
   "source": [
    "![](python_plot.png)"
   ]
  },
  {
   "cell_type": "markdown",
   "metadata": {},
   "source": [
    "oraz w programie GeoGebra:"
   ]
  },
  {
   "cell_type": "markdown",
   "metadata": {},
   "source": [
    "![](geogebra_1.png)\n",
    "![](geogebra_2.png)"
   ]
  },
  {
   "cell_type": "markdown",
   "metadata": {},
   "source": [
    "Granica funkcji $f(x): \\lim_{x->\\infty}f(x) = \\frac{\\ln(1+e^{x})}{\\frac{1}{e^{x}}} \\stackrel{H}{=} \\lim_{x->\\infty}\\frac{\\frac{-1}{e^{x}+1}}{\\frac{-1}{e^{x}}}=\\lim_{x->\\infty}\\frac{e^{x}}{e^{x}+1}=1$"
   ]
  },
  {
   "cell_type": "markdown",
   "metadata": {},
   "source": [
    "Jak widać na wykresach, w okoliach $x=32$ pojawiają się oscylacje wokół wartości $1.0$. Od około $x=37$ wartość wynosi już stale $0$ co jest niezgodne z obliczoną granicą. Problemem jest wymnażanie przez siebie wartości $e^x$, która przykładowo dla $x=37$ jest względnie duża, z wartością $\\ln(1+e^{x})$, która bardzo szybko zbiega do $0$. Ostatecznie mnożymy jakąś dużą wartość, przez wartość $\\approx 0$, co w rezultacie daje $0$, przez wykonane zaokrąglenia liczb. Jak widać dla $x=30$ wartość funkcji jest w przybliżeniu zgodna z oczekiwaniami, a już dla $x=35$ pojawiają się znaczące dla błędy. Dla $x>37$ wynik jest całkowicie błędny, co pokazuje że zadanie jest źle uwarunkowane."
   ]
  },
  {
   "cell_type": "markdown",
   "metadata": {},
   "source": [
    "## Zadanie 3."
   ]
  },
  {
   "cell_type": "code",
   "execution_count": 9,
   "metadata": {},
   "outputs": [
    {
     "data": {
      "text/plain": [
       "hilb (generic function with 1 method)"
      ]
     },
     "execution_count": 9,
     "metadata": {},
     "output_type": "execute_result"
    }
   ],
   "source": [
    "function hilb(n::Int)\n",
    "# Function generates the Hilbert matrix  A of size n,\n",
    "#  A (i, j) = 1 / (i + j - 1)\n",
    "# Inputs:\n",
    "#\tn: size of matrix A, n>=1\n",
    "#\n",
    "#\n",
    "# Usage: hilb(10)\n",
    "#\n",
    "# Pawel Zielinski\n",
    "        if n < 1\n",
    "         error(\"size n should be >= 1\")\n",
    "        end\n",
    "        return [1 / (i + j - 1) for i in 1:n, j in 1:n]\n",
    "end"
   ]
  },
  {
   "cell_type": "code",
   "execution_count": 10,
   "metadata": {},
   "outputs": [
    {
     "data": {
      "text/plain": [
       "matcond (generic function with 1 method)"
      ]
     },
     "execution_count": 10,
     "metadata": {},
     "output_type": "execute_result"
    }
   ],
   "source": [
    "using LinearAlgebra\n",
    "\n",
    "function matcond(n::Int, c::Float64)\n",
    "# Function generates a random square matrix A of size n with\n",
    "# a given condition number c.\n",
    "# Inputs:\n",
    "#\tn: size of matrix A, n>1\n",
    "#\tc: condition of matrix A, c>= 1.0\n",
    "#\n",
    "# Usage: matcond(10, 100.0)\n",
    "#\n",
    "# Pawel Zielinski\n",
    "        if n < 2\n",
    "         error(\"size n should be > 1\")\n",
    "        end\n",
    "        if c< 1.0\n",
    "         error(\"condition number  c of a matrix  should be >= 1.0\")\n",
    "        end\n",
    "        (U,S,V)=svd(rand(n,n))\n",
    "        return U*diagm(0 =>[LinRange(1.0,c,n);])*V'\n",
    "end"
   ]
  },
  {
   "cell_type": "markdown",
   "metadata": {},
   "source": [
    "#### Macierz Hilberta"
   ]
  },
  {
   "cell_type": "code",
   "execution_count": 11,
   "metadata": {},
   "outputs": [
    {
     "data": {
      "text/plain": [
       "10"
      ]
     },
     "execution_count": 11,
     "metadata": {},
     "output_type": "execute_result"
    }
   ],
   "source": [
    "limit = 10"
   ]
  },
  {
   "cell_type": "code",
   "execution_count": 12,
   "metadata": {},
   "outputs": [
    {
     "name": "stdout",
     "output_type": "stream",
     "text": [
      "n = 1\n",
      "relative error Gauss = 0.0; relative error Inversion = 0.0\n",
      "rank = 1; cond = 1.0;\n",
      "\n",
      "n = 2\n",
      "relative error Gauss = 5.661048867003676e-16; relative error Inversion = 1.4043333874306803e-15\n",
      "rank = 2; cond = 19.28147006790397;\n",
      "\n",
      "n = 3\n",
      "relative error Gauss = 8.022593772267726e-15; relative error Inversion = 0.0\n",
      "rank = 3; cond = 524.0567775860644;\n",
      "\n",
      "n = 4\n",
      "relative error Gauss = 4.137409622430382e-14; relative error Inversion = 0.0\n",
      "rank = 4; cond = 15513.73873892924;\n",
      "\n",
      "n = 5\n",
      "relative error Gauss = 1.6828426299227195e-12; relative error Inversion = 3.3544360584359632e-12\n",
      "rank = 5; cond = 476607.25024259434;\n",
      "\n",
      "n = 6\n",
      "relative error Gauss = 2.618913302311624e-10; relative error Inversion = 2.0163759404347654e-10\n",
      "rank = 6; cond = 1.4951058642254665e7;\n",
      "\n",
      "n = 7\n",
      "relative error Gauss = 1.2606867224171548e-8; relative error Inversion = 4.713280397232037e-9\n",
      "rank = 7; cond = 4.75367356583129e8;\n",
      "\n",
      "n = 8\n",
      "relative error Gauss = 6.124089555723088e-8; relative error Inversion = 3.07748390309622e-7\n",
      "rank = 8; cond = 1.5257575538060041e10;\n",
      "\n",
      "n = 9\n",
      "relative error Gauss = 3.8751634185032475e-6; relative error Inversion = 4.541268303176643e-6\n",
      "rank = 9; cond = 4.931537564468762e11;\n",
      "\n",
      "n = 10\n",
      "relative error Gauss = 8.67039023709691e-5; relative error Inversion = 0.0002501493411824886\n",
      "rank = 10; cond = 1.6024416992541715e13;\n",
      "\n"
     ]
    }
   ],
   "source": [
    "for n in 1:limit\n",
    "    A = hilb(n)\n",
    "    x = ones(n)\n",
    "    b = A*x\n",
    "    gauss = A\\b\n",
    "    inverse = inv(A)*b\n",
    "    println(\"n = \", n)\n",
    "    println(\"relative error Gauss = \", norm(x-gauss)/norm(x), \n",
    "        \"; relative error Inversion = \", norm(x-inverse)/norm(x))\n",
    "    println(\"rank = \", rank(A), \"; cond = \", cond(A), \";\")\n",
    "    println()\n",
    "end"
   ]
  },
  {
   "cell_type": "code",
   "execution_count": 13,
   "metadata": {},
   "outputs": [
    {
     "name": "stdout",
     "output_type": "stream",
     "text": [
      "n = 5 cond = 1\n",
      "relative error Gauss = 9.930136612989092e-17; relative error Inversion = 1.9860273225978183e-16\n",
      "rank = 5;\n",
      "\n",
      "n = 5 cond = 10\n",
      "relative error Gauss = 4.965068306494546e-17; relative error Inversion = 1.5700924586837752e-16\n",
      "rank = 5;\n",
      "\n",
      "n = 5 cond = 1000\n",
      "relative error Gauss = 1.486563340884008e-14; relative error Inversion = 1.608436924057735e-14\n",
      "rank = 5;\n",
      "\n",
      "n = 5 cond = 10000000\n",
      "relative error Gauss = 4.304319289150695e-10; relative error Inversion = 3.4368438025093585e-10\n",
      "rank = 5;\n",
      "\n",
      "n = 5 cond = 1000000000000\n",
      "relative error Gauss = 2.3802147261703235e-5; relative error Inversion = 1.0493126432736104e-5\n",
      "rank = 5;\n",
      "\n",
      "n = 5 cond = 10000000000000000\n",
      "relative error Gauss = 0.1729047570861553; relative error Inversion = 0.16357815410378002\n",
      "rank = 4;\n",
      "\n",
      "n = 10 cond = 1\n",
      "relative error Gauss = 2.1065000811460205e-16; relative error Inversion = 1.4043333874306804e-16\n",
      "rank = 10;\n",
      "\n",
      "n = 10 cond = 10\n",
      "relative error Gauss = 3.1204970435528155e-16; relative error Inversion = 2.895107444979072e-16\n",
      "rank = 10;\n",
      "\n",
      "n = 10 cond = 1000\n",
      "relative error Gauss = 7.364051660145176e-15; relative error Inversion = 6.646518689688359e-15\n",
      "rank = 10;\n",
      "\n",
      "n = 10 cond = 10000000\n",
      "relative error Gauss = 1.219695133429562e-10; relative error Inversion = 1.2078966229133736e-10\n",
      "rank = 10;\n",
      "\n",
      "n = 10 cond = 1000000000000\n",
      "relative error Gauss = 2.2825346020340272e-5; relative error Inversion = 2.6818434148212894e-5\n",
      "rank = 10;\n",
      "\n",
      "n = 10 cond = 10000000000000000\n",
      "relative error Gauss = 0.07224297238253576; relative error Inversion = 0.12143349517328404\n",
      "rank = 9;\n",
      "\n",
      "n = 20 cond = 1\n",
      "relative error Gauss = 4.0106566663730006e-16; relative error Inversion = 4.447825579847492e-16\n",
      "rank = 20;\n",
      "\n",
      "n = 20 cond = 10\n",
      "relative error Gauss = 4.3426611674686075e-16; relative error Inversion = 4.2998752849492583e-16\n",
      "rank = 20;\n",
      "\n",
      "n = 20 cond = 1000\n",
      "relative error Gauss = 3.832762602798735e-15; relative error Inversion = 3.9471512357794175e-15\n",
      "rank = 20;\n",
      "\n",
      "n = 20 cond = 10000000\n",
      "relative error Gauss = 2.543143221914888e-11; relative error Inversion = 3.389378165259292e-11\n",
      "rank = 20;\n",
      "\n",
      "n = 20 cond = 1000000000000\n",
      "relative error Gauss = 8.041672578584985e-6; relative error Inversion = 8.28105672687241e-6\n",
      "rank = 20;\n",
      "\n",
      "n = 20 cond = 10000000000000000\n",
      "relative error Gauss = 0.19114688390223408; relative error Inversion = 0.2137329237513783\n",
      "rank = 19;\n",
      "\n"
     ]
    }
   ],
   "source": [
    "for n in [5,10,20]\n",
    "    for c in [1,10,10^3,10^7,10^12,10^16]\n",
    "        A = matcond(n,Float64(c))\n",
    "        x = ones(n)\n",
    "        b = A*x\n",
    "        gauss = A\\b\n",
    "        inverse = inv(A)*b\n",
    "        println(\"n = \", n, \" cond = \", c)\n",
    "        println(\"relative error Gauss = \", norm(x-gauss)/norm(x), \n",
    "            \"; relative error Inversion = \", norm(x-inverse)/norm(x))\n",
    "        println(\"rank = \", rank(A), \";\")\n",
    "        println()\n",
    "    end\n",
    "end"
   ]
  },
  {
   "cell_type": "markdown",
   "metadata": {},
   "source": [
    "## Zadanie 4."
   ]
  },
  {
   "cell_type": "code",
   "execution_count": 14,
   "metadata": {},
   "outputs": [],
   "source": [
    "using Polynomials #v1.1.10"
   ]
  },
  {
   "cell_type": "markdown",
   "metadata": {},
   "source": [
    "a)"
   ]
  },
  {
   "cell_type": "markdown",
   "metadata": {},
   "source": [
    "Współczynniki wielomianu $P(x)$ dla malejących potęg $x$:"
   ]
  },
  {
   "cell_type": "code",
   "execution_count": 15,
   "metadata": {},
   "outputs": [
    {
     "data": {
      "text/plain": [
       "21-element Array{Float64,1}:\n",
       "     1.0\n",
       "  -210.0\n",
       " 20615.0\n",
       "    -1.25685e6\n",
       "     5.3327946e7\n",
       "    -1.67228082e9\n",
       "     4.017177163e10\n",
       "    -7.561111845e11\n",
       "     1.1310276995381e13\n",
       "    -1.3558518289953e14\n",
       "     1.307535010540395e15\n",
       "    -1.014229986551145e16\n",
       "     6.30308120992949e16\n",
       "    -3.1133364316139066e17\n",
       "     1.2066478037803732e18\n",
       "    -3.599979517947607e18\n",
       "     8.037811822645051e18\n",
       "    -1.2870931245150988e19\n",
       "     1.3803759753640704e19\n",
       "    -8.7529480367616e18\n",
       "     2.43290200817664e18"
      ]
     },
     "execution_count": 15,
     "metadata": {},
     "output_type": "execute_result"
    }
   ],
   "source": [
    "P_coefficients=[1, -210.0, 20615.0,-1256850.0,\n",
    "      53327946.0,-1672280820.0, 40171771630.0, -756111184500.0,          \n",
    "      11310276995381.0, -135585182899530.0,\n",
    "      1307535010540395.0,     -10142299865511450.0,\n",
    "      63030812099294896.0,     -311333643161390640.0,\n",
    "      1206647803780373360.0,     -3599979517947607200.0,\n",
    "      8037811822645051776.0,      -12870931245150988800.0,\n",
    "      13803759753640704000.0,      -8752948036761600000.0,\n",
    "      2432902008176640000.0]"
   ]
  },
  {
   "cell_type": "code",
   "execution_count": 16,
   "metadata": {},
   "outputs": [
    {
     "data": {
      "text/html": [
       "2.43290200817664e18 &#45; 8.7529480367616e18&#8729;x &#43; 1.3803759753640704e19&#8729;x<sup>2</sup> &#45; 1.2870931245150988e19&#8729;x<sup>3</sup> &#43; 8.037811822645051e18&#8729;x<sup>4</sup> &#45; 3.599979517947607e18&#8729;x<sup>5</sup> &#43; 1.2066478037803732e18&#8729;x<sup>6</sup> &#45; 3.1133364316139066e17&#8729;x<sup>7</sup> &#43; 6.30308120992949e16&#8729;x<sup>8</sup> &#45; 1.014229986551145e16&#8729;x<sup>9</sup> &#43; 1.307535010540395e15&#8729;x<sup>10</sup> &#45; 1.3558518289953e14&#8729;x<sup>11</sup> &#43; 1.1310276995381e13&#8729;x<sup>12</sup> &#45; 7.561111845e11&#8729;x<sup>13</sup> &#43; 4.017177163e10&#8729;x<sup>14</sup> &#45; 1.67228082e9&#8729;x<sup>15</sup> &#43; 5.3327946e7&#8729;x<sup>16</sup> &#45; 1.25685e6&#8729;x<sup>17</sup> &#43; 20615.0&#8729;x<sup>18</sup> &#45; 210.0&#8729;x<sup>19</sup> &#43; 1.0&#8729;x<sup>20</sup>"
      ],
      "text/latex": [
       "$2.43290200817664e18 - 8.7529480367616e18\\cdot x + 1.3803759753640704e19\\cdot x^{2} - 1.2870931245150988e19\\cdot x^{3} + 8.037811822645051e18\\cdot x^{4} - 3.599979517947607e18\\cdot x^{5} + 1.2066478037803732e18\\cdot x^{6} - 3.1133364316139066e17\\cdot x^{7} + 6.30308120992949e16\\cdot x^{8} - 1.014229986551145e16\\cdot x^{9} + 1.307535010540395e15\\cdot x^{10} - 1.3558518289953e14\\cdot x^{11} + 1.1310276995381e13\\cdot x^{12} - 7.561111845e11\\cdot x^{13} + 4.017177163e10\\cdot x^{14} - 1.67228082e9\\cdot x^{15} + 5.3327946e7\\cdot x^{16} - 1.25685e6\\cdot x^{17} + 20615.0\\cdot x^{18} - 210.0\\cdot x^{19} + 1.0\\cdot x^{20}$"
      ],
      "text/plain": [
       "Polynomial(2.43290200817664e18 - 8.7529480367616e18*x + 1.3803759753640704e19*x^2 - 1.2870931245150988e19*x^3 + 8.037811822645051e18*x^4 - 3.599979517947607e18*x^5 + 1.2066478037803732e18*x^6 - 3.1133364316139066e17*x^7 + 6.30308120992949e16*x^8 - 1.014229986551145e16*x^9 + 1.307535010540395e15*x^10 - 1.3558518289953e14*x^11 + 1.1310276995381e13*x^12 - 7.561111845e11*x^13 + 4.017177163e10*x^14 - 1.67228082e9*x^15 + 5.3327946e7*x^16 - 1.25685e6*x^17 + 20615.0*x^18 - 210.0*x^19 + 1.0*x^20)"
      ]
     },
     "execution_count": 16,
     "metadata": {},
     "output_type": "execute_result"
    }
   ],
   "source": [
    "P = Polynomial(P_coefficients[21:-1:1])"
   ]
  },
  {
   "cell_type": "code",
   "execution_count": 17,
   "metadata": {},
   "outputs": [
    {
     "data": {
      "text/plain": [
       "20-element Array{Float64,1}:\n",
       "  0.9999999999996989\n",
       "  2.0000000000283182\n",
       "  2.9999999995920965\n",
       "  3.9999999837375317\n",
       "  5.000000665769791\n",
       "  5.999989245824773\n",
       "  7.000102002793008\n",
       "  7.999355829607762\n",
       "  9.002915294362053\n",
       "  9.990413042481725\n",
       " 11.025022932909318\n",
       " 11.953283253846857\n",
       " 13.07431403244734\n",
       " 13.914755591802127\n",
       " 15.075493799699476\n",
       " 15.946286716607972\n",
       " 17.025427146237412\n",
       " 17.99092135271648\n",
       " 19.00190981829944\n",
       " 19.999809291236637"
      ]
     },
     "execution_count": 17,
     "metadata": {},
     "output_type": "execute_result"
    }
   ],
   "source": [
    "P_roots = roots(P)"
   ]
  },
  {
   "cell_type": "code",
   "execution_count": 18,
   "metadata": {},
   "outputs": [
    {
     "data": {
      "text/html": [
       "2.43290200817664e18 &#45; 8.7529480367616e18&#8729;x &#43; 1.3803759753640704e19&#8729;x<sup>2</sup> &#45; 1.2870931245150988e19&#8729;x<sup>3</sup> &#43; 8.037811822645052e18&#8729;x<sup>4</sup> &#45; 3.599979517947607e18&#8729;x<sup>5</sup> &#43; 1.2066478037803732e18&#8729;x<sup>6</sup> &#45; 3.1133364316139066e17&#8729;x<sup>7</sup> &#43; 6.30308120992949e16&#8729;x<sup>8</sup> &#45; 1.014229986551145e16&#8729;x<sup>9</sup> &#43; 1.307535010540395e15&#8729;x<sup>10</sup> &#45; 1.3558518289953e14&#8729;x<sup>11</sup> &#43; 1.1310276995381e13&#8729;x<sup>12</sup> &#45; 7.561111845e11&#8729;x<sup>13</sup> &#43; 4.017177163e10&#8729;x<sup>14</sup> &#45; 1.67228082e9&#8729;x<sup>15</sup> &#43; 5.3327946e7&#8729;x<sup>16</sup> &#45; 1.25685e6&#8729;x<sup>17</sup> &#43; 20615.0&#8729;x<sup>18</sup> &#45; 210.0&#8729;x<sup>19</sup> &#43; 1.0&#8729;x<sup>20</sup>"
      ],
      "text/latex": [
       "$2.43290200817664e18 - 8.7529480367616e18\\cdot x + 1.3803759753640704e19\\cdot x^{2} - 1.2870931245150988e19\\cdot x^{3} + 8.037811822645052e18\\cdot x^{4} - 3.599979517947607e18\\cdot x^{5} + 1.2066478037803732e18\\cdot x^{6} - 3.1133364316139066e17\\cdot x^{7} + 6.30308120992949e16\\cdot x^{8} - 1.014229986551145e16\\cdot x^{9} + 1.307535010540395e15\\cdot x^{10} - 1.3558518289953e14\\cdot x^{11} + 1.1310276995381e13\\cdot x^{12} - 7.561111845e11\\cdot x^{13} + 4.017177163e10\\cdot x^{14} - 1.67228082e9\\cdot x^{15} + 5.3327946e7\\cdot x^{16} - 1.25685e6\\cdot x^{17} + 20615.0\\cdot x^{18} - 210.0\\cdot x^{19} + 1.0\\cdot x^{20}$"
      ],
      "text/plain": [
       "Polynomial(2.43290200817664e18 - 8.7529480367616e18*x + 1.3803759753640704e19*x^2 - 1.2870931245150988e19*x^3 + 8.037811822645052e18*x^4 - 3.599979517947607e18*x^5 + 1.2066478037803732e18*x^6 - 3.1133364316139066e17*x^7 + 6.30308120992949e16*x^8 - 1.014229986551145e16*x^9 + 1.307535010540395e15*x^10 - 1.3558518289953e14*x^11 + 1.1310276995381e13*x^12 - 7.561111845e11*x^13 + 4.017177163e10*x^14 - 1.67228082e9*x^15 + 5.3327946e7*x^16 - 1.25685e6*x^17 + 20615.0*x^18 - 210.0*x^19 + 1.0*x^20)"
      ]
     },
     "execution_count": 18,
     "metadata": {},
     "output_type": "execute_result"
    }
   ],
   "source": [
    "p = fromroots([Float64(i) for i in 1:20])"
   ]
  },
  {
   "cell_type": "code",
   "execution_count": 19,
   "metadata": {},
   "outputs": [
    {
     "name": "stdout",
     "output_type": "stream",
     "text": [
      "k = 1; |P(z_k)| = 35696.50964788257; |p(z_k)| = 36720.50964788227; |z_k - k| = 3.0109248427834245e-13\n",
      "k = 2; |P(z_k)| = 176252.60026668405; |p(z_k)| = 192636.60026691604; |z_k - k| = 2.8318236644508943e-11\n",
      "k = 3; |P(z_k)| = 279157.6968824087; |p(z_k)| = 362101.69687113096; |z_k - k| = 4.0790348876384996e-10\n",
      "k = 4; |P(z_k)| = 3.0271092988991085e6; |p(z_k)| = 2.7649652999648857e6; |z_k - k| = 1.626246826091915e-8\n",
      "k = 5; |P(z_k)| = 2.2917473756567076e7; |p(z_k)| = 2.2277473671348542e7; |z_k - k| = 6.657697912970661e-7\n",
      "k = 6; |P(z_k)| = 1.2902417284205095e8; |p(z_k)| = 1.2769707122070245e8; |z_k - k| = 1.0754175226779239e-5\n",
      "k = 7; |P(z_k)| = 4.805112754602064e8; |p(z_k)| = 4.780526156335614e8; |z_k - k| = 0.00010200279300764947\n",
      "k = 8; |P(z_k)| = 1.6379520218961136e9; |p(z_k)| = 1.6337585675856934e9; |z_k - k| = 0.0006441703922384079\n",
      "k = 9; |P(z_k)| = 4.877071372550003e9; |p(z_k)| = 4.870348427548107e9; |z_k - k| = 0.002915294362052734\n",
      "k = 10; |P(z_k)| = 1.3638638195458128e10; |p(z_k)| = 1.362843071072106e10; |z_k - k| = 0.009586957518274986\n",
      "k = 11; |P(z_k)| = 3.585631295130865e10; |p(z_k)| = 3.584087897760478e10; |z_k - k| = 0.025022932909317674\n",
      "k = 12; |P(z_k)| = 7.533332360358197e10; |p(z_k)| = 7.531256581876213e10; |z_k - k| = 0.04671674615314281\n",
      "k = 13; |P(z_k)| = 1.9605988124330817e11; |p(z_k)| = 1.9602984002587503e11; |z_k - k| = 0.07431403244734014\n",
      "k = 14; |P(z_k)| = 3.5751347823104315e11; |p(z_k)| = 3.574748406282602e11; |z_k - k| = 0.08524440819787316\n",
      "k = 15; |P(z_k)| = 8.21627123645597e11; |p(z_k)| = 8.215740477766903e11; |z_k - k| = 0.07549379969947623\n",
      "k = 16; |P(z_k)| = 1.5514978880494067e12; |p(z_k)| = 1.5514314565843672e12; |z_k - k| = 0.05371328339202819\n",
      "k = 17; |P(z_k)| = 3.694735918486229e12; |p(z_k)| = 3.6946500070912217e12; |z_k - k| = 0.025427146237412046\n",
      "k = 18; |P(z_k)| = 7.650109016515867e12; |p(z_k)| = 7.650001670877033e12; |z_k - k| = 0.009078647283519814\n",
      "k = 19; |P(z_k)| = 1.1435273749721195e13; |p(z_k)| = 1.14351402511197e13; |z_k - k| = 0.0019098182994383706\n",
      "k = 20; |P(z_k)| = 2.7924106393680727e13; |p(z_k)| = 2.7923942556843e13; |z_k - k| = 0.00019070876336257925\n"
     ]
    }
   ],
   "source": [
    "for k in 1:20\n",
    "    println(\"k = \", k, \n",
    "        \"; |P(z_k)| = \", abs(P(P_roots[k])),\n",
    "        \"; |p(z_k)| = \", abs(p(P_roots[k])),\n",
    "        \"; |z_k - k| = \", abs(P_roots[k]-k))\n",
    "end"
   ]
  },
  {
   "cell_type": "markdown",
   "metadata": {},
   "source": [
    "b)"
   ]
  },
  {
   "cell_type": "markdown",
   "metadata": {},
   "source": [
    "Współczynniki po modyfikacji:"
   ]
  },
  {
   "cell_type": "code",
   "execution_count": 20,
   "metadata": {},
   "outputs": [
    {
     "data": {
      "text/plain": [
       "21-element Array{Float64,1}:\n",
       "     1.0\n",
       "  -210.0000001192093\n",
       " 20615.0\n",
       "    -1.25685e6\n",
       "     5.3327946e7\n",
       "    -1.67228082e9\n",
       "     4.017177163e10\n",
       "    -7.561111845e11\n",
       "     1.1310276995381e13\n",
       "    -1.3558518289953e14\n",
       "     1.307535010540395e15\n",
       "    -1.014229986551145e16\n",
       "     6.30308120992949e16\n",
       "    -3.1133364316139066e17\n",
       "     1.2066478037803732e18\n",
       "    -3.599979517947607e18\n",
       "     8.037811822645051e18\n",
       "    -1.2870931245150988e19\n",
       "     1.3803759753640704e19\n",
       "    -8.7529480367616e18\n",
       "     2.43290200817664e18"
      ]
     },
     "execution_count": 20,
     "metadata": {},
     "output_type": "execute_result"
    }
   ],
   "source": [
    "Pw_coefficients = [i != 2 ? P_coefficients[i] : -210-2^(-23) for i in 1:21]"
   ]
  },
  {
   "cell_type": "code",
   "execution_count": 21,
   "metadata": {},
   "outputs": [
    {
     "ename": "UndefVarError",
     "evalue": "UndefVarError: P_coefficients_W not defined",
     "output_type": "error",
     "traceback": [
      "UndefVarError: P_coefficients_W not defined",
      "",
      "Stacktrace:",
      " [1] top-level scope at In[21]:1"
     ]
    }
   ],
   "source": [
    "Pw = Polynomial(P_coefficients_W[21:-1:1])"
   ]
  },
  {
   "cell_type": "code",
   "execution_count": 22,
   "metadata": {},
   "outputs": [
    {
     "ename": "UndefVarError",
     "evalue": "UndefVarError: Pw not defined",
     "output_type": "error",
     "traceback": [
      "UndefVarError: Pw not defined",
      "",
      "Stacktrace:",
      " [1] top-level scope at In[22]:1"
     ]
    }
   ],
   "source": [
    "Pw_roots = roots(Pw)"
   ]
  },
  {
   "cell_type": "code",
   "execution_count": 23,
   "metadata": {},
   "outputs": [
    {
     "ename": "UndefVarError",
     "evalue": "UndefVarError: Pw_roots not defined",
     "output_type": "error",
     "traceback": [
      "UndefVarError: Pw_roots not defined",
      "",
      "Stacktrace:",
      " [1] top-level scope at ./In[23]:2"
     ]
    }
   ],
   "source": [
    "for k in 1:20\n",
    "    println(\"k = \", k, \n",
    "        \"; |P(z_k)| = \", abs(Pw(Pw_roots[k])),\n",
    "        \"; |p(z_k)| = \", abs(p(Pw_roots[k])),\n",
    "        \"; |z_k - k| = \", abs(Pw_roots[k]-k))\n",
    "end"
   ]
  },
  {
   "cell_type": "markdown",
   "metadata": {},
   "source": [
    "## Zadanie 5."
   ]
  },
  {
   "cell_type": "markdown",
   "metadata": {},
   "source": [
    "a)"
   ]
  },
  {
   "cell_type": "code",
   "execution_count": 24,
   "metadata": {},
   "outputs": [
    {
     "ename": "UndefVarError",
     "evalue": "UndefVarError: r not defined",
     "output_type": "error",
     "traceback": [
      "UndefVarError: r not defined",
      "",
      "Stacktrace:",
      " [1] top-level scope at ./In[24]:5"
     ]
    }
   ],
   "source": [
    "p1 = Float32(0.01)\n",
    "r1 = Float32(3.0)\n",
    "arr1 = []\n",
    "for i in 1:40\n",
    "    p1 = p1 + r*p1*(1-p1)\n",
    "    push!(arr1, p1)\n",
    "end"
   ]
  },
  {
   "cell_type": "code",
   "execution_count": 25,
   "metadata": {},
   "outputs": [],
   "source": [
    "p2 = Float32(0.01)\n",
    "r = Float32(3.0) \n",
    "arr2 = []\n",
    "for i in 1:10\n",
    "    p2 = p2 + r*p2*(1-p2)\n",
    "    push!(arr2, p2)\n",
    "end\n",
    "\n",
    "p2 = trunc(p2, digits=3)\n",
    "\n",
    "for i in 11:40\n",
    "    p2 = p2 + r*p2*(1-p2)\n",
    "    push!(arr2, p2)\n",
    "end"
   ]
  },
  {
   "cell_type": "code",
   "execution_count": 26,
   "metadata": {},
   "outputs": [
    {
     "name": "stdout",
     "output_type": "stream",
     "text": [
      "Version 1: | Version 2:\n"
     ]
    },
    {
     "ename": "BoundsError",
     "evalue": "BoundsError: attempt to access 0-element Array{Any,1} at index [1]",
     "output_type": "error",
     "traceback": [
      "BoundsError: attempt to access 0-element Array{Any,1} at index [1]",
      "",
      "Stacktrace:",
      " [1] getindex(::Array{Any,1}, ::Int64) at ./array.jl:788",
      " [2] top-level scope at ./In[26]:3"
     ]
    }
   ],
   "source": [
    "println(\"Version 1: | Version 2:\")\n",
    "for i in 1:40\n",
    "    println(arr1[i], \" | \", arr2[i])\n",
    "end"
   ]
  },
  {
   "cell_type": "markdown",
   "metadata": {},
   "source": [
    "Ostatnie wyniki to 0.25860548 (wersja 1) oraz 1.093568 (wersja 2)."
   ]
  },
  {
   "cell_type": "markdown",
   "metadata": {},
   "source": [
    "b)"
   ]
  },
  {
   "cell_type": "code",
   "execution_count": 27,
   "metadata": {},
   "outputs": [],
   "source": [
    "p3 = Float64(0.01)\n",
    "r = Float64(3.0)\n",
    "arr3 = []\n",
    "for i in 1:40\n",
    "    p3 = p3 + r*p3*(1-p3)\n",
    "    push!(arr3, p3)\n",
    "end"
   ]
  },
  {
   "cell_type": "code",
   "execution_count": 28,
   "metadata": {},
   "outputs": [
    {
     "name": "stdout",
     "output_type": "stream",
     "text": [
      "Float32: | Float64:\n"
     ]
    },
    {
     "ename": "BoundsError",
     "evalue": "BoundsError: attempt to access 0-element Array{Any,1} at index [1]",
     "output_type": "error",
     "traceback": [
      "BoundsError: attempt to access 0-element Array{Any,1} at index [1]",
      "",
      "Stacktrace:",
      " [1] getindex(::Array{Any,1}, ::Int64) at ./array.jl:788",
      " [2] top-level scope at ./In[28]:3"
     ]
    }
   ],
   "source": [
    "println(\"Float32: | Float64:\")\n",
    "for i in 1:40\n",
    "    println(arr1[i], \" | \", arr3[i])\n",
    "end"
   ]
  },
  {
   "cell_type": "markdown",
   "metadata": {},
   "source": [
    "Ostatnie wyniki to 0.25860548 (Float32) oraz 0.011611238029748606 (Float64)."
   ]
  },
  {
   "cell_type": "markdown",
   "metadata": {},
   "source": [
    "## Zadanie 6."
   ]
  },
  {
   "cell_type": "code",
   "execution_count": 2,
   "metadata": {},
   "outputs": [
    {
     "data": {
      "text/plain": [
       "7-element Array{Array{Float64,1},1}:\n",
       " [-2.0, 1.0]\n",
       " [-2.0, 2.0]\n",
       " [-2.0, 1.99999999999999]\n",
       " [-1.0, 1.0]\n",
       " [-1.0, -1.0]\n",
       " [-1.0, 0.75]\n",
       " [-1.0, 0.25]"
      ]
     },
     "execution_count": 2,
     "metadata": {},
     "output_type": "execute_result"
    }
   ],
   "source": [
    "Data = [\n",
    "    [-2,1],\n",
    "    [-2,2],\n",
    "    [-2,1.99999999999999],\n",
    "    [-1,1],\n",
    "    [-1,-1],\n",
    "    [-1,0.75],\n",
    "    [-1,0.25],\n",
    "]"
   ]
  },
  {
   "cell_type": "code",
   "execution_count": 8,
   "metadata": {},
   "outputs": [
    {
     "name": "stdout",
     "output_type": "stream",
     "text": [
      "c = -2.0 x = 1.0\n",
      "c = -2.0 x = 2.0\n",
      "c = -2.0 x = 1.99999999999999\n",
      "c = -1.0 x = 1.0\n",
      "c = -1.0 x = -1.0\n",
      "c = -1.0 x = 0.75\n",
      "c = -1.0 x = 0.25\n"
     ]
    }
   ],
   "source": [
    "using PyPlot\n",
    "\n",
    "iter = 1\n",
    "for data in Data\n",
    "    println(\"c = \", data[1], \" x = \", data[2])\n",
    "    x = data[2]\n",
    "    c = data[1]\n",
    "    values = []\n",
    "    for i in 1:40\n",
    "        x = x^2 + c\n",
    "        push!(values,x)\n",
    "    end\n",
    "    figure(iter)\n",
    "    plot(1:40, values)\n",
    "    show()\n",
    "    clf()\n",
    "end"
   ]
  },
  {
   "cell_type": "code",
   "execution_count": null,
   "metadata": {},
   "outputs": [],
   "source": []
  }
 ],
 "metadata": {
  "kernelspec": {
   "display_name": "Julia 1.4.1",
   "language": "julia",
   "name": "julia-1.4"
  },
  "language_info": {
   "file_extension": ".jl",
   "mimetype": "application/julia",
   "name": "julia",
   "version": "1.4.1"
  }
 },
 "nbformat": 4,
 "nbformat_minor": 4
}
