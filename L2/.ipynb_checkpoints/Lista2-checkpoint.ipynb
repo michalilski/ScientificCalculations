{
 "cells": [
  {
   "cell_type": "markdown",
   "metadata": {},
   "source": [
    "# Lista 2. Michał Ilski 250079"
   ]
  },
  {
   "cell_type": "markdown",
   "metadata": {},
   "source": [
    "## Zadanie 1."
   ]
  },
  {
   "cell_type": "markdown",
   "metadata": {},
   "source": [
    "W zadaniu modyfikujemy wartości z porzedniej listy (zad 5.) i sprawdzamy wpływ nieznacznych zmian na wyniki."
   ]
  },
  {
   "cell_type": "code",
   "execution_count": 1,
   "metadata": {},
   "outputs": [
    {
     "data": {
      "text/plain": [
       "f_a (generic function with 1 method)"
      ]
     },
     "execution_count": 1,
     "metadata": {},
     "output_type": "execute_result"
    }
   ],
   "source": [
    "function f_a(x, y, fl)\n",
    "    S = fl(0.0)\n",
    "    for i in 1:length(x)\n",
    "        S += fl(x[i]) * fl(y[i])\n",
    "    end\n",
    "    return S\n",
    "end"
   ]
  },
  {
   "cell_type": "code",
   "execution_count": 2,
   "metadata": {},
   "outputs": [
    {
     "data": {
      "text/plain": [
       "f_b (generic function with 1 method)"
      ]
     },
     "execution_count": 2,
     "metadata": {},
     "output_type": "execute_result"
    }
   ],
   "source": [
    "\n",
    "function f_b(x, y, fl)\n",
    "    S = fl(0.0)\n",
    "    for i in 5:-1:1\n",
    "        S += fl(x[i]) * fl(y[i])\n",
    "    end\n",
    "    return S\n",
    "end"
   ]
  },
  {
   "cell_type": "code",
   "execution_count": 3,
   "metadata": {},
   "outputs": [
    {
     "data": {
      "text/plain": [
       "f_c (generic function with 1 method)"
      ]
     },
     "execution_count": 3,
     "metadata": {},
     "output_type": "execute_result"
    }
   ],
   "source": [
    "function f_c(x, y, fl)\n",
    "    values = []\n",
    "    for i = 1:length(x)\n",
    "        push!(values, fl(x[i]) * fl(y[i]))\n",
    "    end\n",
    "    \n",
    "    positive = values[values .>= 0]\n",
    "    sort!(positive, rev=true)\n",
    "    negative = values[values .< 0]\n",
    "    sort!(negative)\n",
    "    \n",
    "    p_sum = n_sum = 0\n",
    "    for i in 1:length(positive)\n",
    "        p_sum += fl(positive[i])\n",
    "    end\n",
    "    for i in 1:length(negative)\n",
    "        n_sum += fl(negative[i])\n",
    "    end\n",
    "    return fl(p_sum) + fl(n_sum)\n",
    "end"
   ]
  },
  {
   "cell_type": "code",
   "execution_count": 4,
   "metadata": {},
   "outputs": [
    {
     "data": {
      "text/plain": [
       "f_d (generic function with 1 method)"
      ]
     },
     "execution_count": 4,
     "metadata": {},
     "output_type": "execute_result"
    }
   ],
   "source": [
    "function f_d(x, y, fl)\n",
    "    values = []\n",
    "    for i = 1:length(x)\n",
    "        push!(values, fl(x[i]) * fl(y[i]))\n",
    "    end\n",
    "    \n",
    "    positive = values[values .>= 0]\n",
    "    sort!(positive)\n",
    "    negative = values[values .< 0]\n",
    "    sort!(negative, rev=true)\n",
    "    \n",
    "    p_sum = n_sum = 0\n",
    "    for i in 1:length(positive)\n",
    "        p_sum += fl(positive[i])\n",
    "    end\n",
    "    for i in 1:length(negative)\n",
    "        n_sum += fl(negative[i])\n",
    "    end\n",
    "    return fl(p_sum) + fl(n_sum)\n",
    "end"
   ]
  },
  {
   "cell_type": "code",
   "execution_count": 5,
   "metadata": {},
   "outputs": [
    {
     "data": {
      "text/plain": [
       "get_old_values (generic function with 1 method)"
      ]
     },
     "execution_count": 5,
     "metadata": {},
     "output_type": "execute_result"
    }
   ],
   "source": [
    "function get_old_values(fl)\n",
    "    return [fl(2.718281828),fl(-3.141592654),fl(1.414213562),fl(0.5772156649),fl(0.3010299957)], \n",
    "                    [fl(1486.2497),fl(878366.9879),fl(-22.37492),fl(4773714.647),fl(0.000185049)]\n",
    "end"
   ]
  },
  {
   "cell_type": "code",
   "execution_count": 6,
   "metadata": {},
   "outputs": [
    {
     "data": {
      "text/plain": [
       "get_new_values (generic function with 1 method)"
      ]
     },
     "execution_count": 6,
     "metadata": {},
     "output_type": "execute_result"
    }
   ],
   "source": [
    "function get_new_values(fl)\n",
    "    return [fl(2.718281828),fl(-3.141592654),fl(1.414213562),fl(0.577215664),fl(0.301029995)], \n",
    "                    [fl(1486.2497),fl(878366.9879),fl(-22.37492),fl(4773714.647),fl(0.000185049)]\n",
    "end"
   ]
  },
  {
   "cell_type": "code",
   "execution_count": 7,
   "metadata": {},
   "outputs": [
    {
     "name": "stdout",
     "output_type": "stream",
     "text": [
      "Float32:\n",
      "a) old = -0.4999443 new = -0.4999443\n",
      "b) old = -0.4543457 new = -0.4543457\n",
      "c) old = -0.5 new = -0.5\n",
      "d) old = -0.5 new = -0.5\n",
      "Float64:\n",
      "a) old = 1.0251881368296672e-10 new = -0.004296342739891585\n",
      "b) old = -1.5643308870494366e-10 new = -0.004296342998713953\n",
      "c) old = 0.0 new = -0.004296342842280865\n",
      "d) old = 0.0 new = -0.004296342842280865\n"
     ]
    }
   ],
   "source": [
    "fls = [Float32, Float64]\n",
    "for fl in fls\n",
    "    x_old, y_old = get_old_values(fl)\n",
    "    x_new, y_new = get_new_values(fl)\n",
    "    print(fl, \":\\n\")\n",
    "    print(\"a) old = \", f_a(x_old,y_old,fl), \" new = \", f_a(x_new,y_new,fl), \"\\n\")\n",
    "    print(\"b) old = \", f_b(x_old,y_old,fl), \" new = \", f_b(x_new,y_new,fl), \"\\n\")\n",
    "    print(\"c) old = \", f_c(x_old,y_old,fl), \" new = \", f_c(x_new,y_new,fl), \"\\n\")\n",
    "    print(\"d) old = \", f_d(x_old,y_old,fl), \" new = \", f_d(x_new,y_new,fl), \"\\n\")\n",
    "end"
   ]
  },
  {
   "cell_type": "markdown",
   "metadata": {},
   "source": [
    "Zmiany wprowadzone w ostatnich cyfrach $x_4$ i $x_5$ nie wpłynęły w żaden sposób na Float32, ponieważ precyzja zaokrągla wartości dla wyższych rzędów, niż zostały wprowadzone zmiany. Przykładowo dla $x_4$:"
   ]
  },
  {
   "cell_type": "code",
   "execution_count": 8,
   "metadata": {},
   "outputs": [
    {
     "name": "stdout",
     "output_type": "stream",
     "text": [
      "Old value in Float32: 0.5772157 new value in Float32: 0.5772157\n"
     ]
    }
   ],
   "source": [
    "println(\"Old value in Float32: \", Float32(0.5772156649), \" new value in Float32: \", Float32(0.577215664))"
   ]
  },
  {
   "cell_type": "markdown",
   "metadata": {},
   "source": [
    "W Float64 różnice są już widoczne. Dla algorytmu c) i d) są one zauważalne, natomiast dla algorytmów a) i b) są one relatywnie duże i wynoszą aż 7 rzędów różnicy. Oznacza to, że takie zadanie jest źle uwarunkowane, ponieważ niewielka zmiana danych potrafi wygenerować znaczące różnice w wynikach. Powodem tego jest szybkie narastanie błędu w trakcie wykonywania ciągu obliczeń. Oznacza to, że taki proces numeryczny jest niestabliny."
   ]
  },
  {
   "cell_type": "markdown",
   "metadata": {},
   "source": [
    "## Zadanie 2."
   ]
  },
  {
   "cell_type": "markdown",
   "metadata": {},
   "source": [
    "W zadaniu zostanie sprawdzona zgodność wykresu podanej funkcji z wyliczoną ręcznie granicą."
   ]
  },
  {
   "cell_type": "markdown",
   "metadata": {},
   "source": [
    "Wykres funkcji $f(x) = e^{x}\\ln(1+e^{-x})$ w języku Python 3 (dla matplotlib, numpy, math)"
   ]
  },
  {
   "cell_type": "markdown",
   "metadata": {},
   "source": [
    "![](python_plot.png)"
   ]
  },
  {
   "cell_type": "markdown",
   "metadata": {},
   "source": [
    "oraz w programie GeoGebra:"
   ]
  },
  {
   "cell_type": "markdown",
   "metadata": {},
   "source": [
    "![](geogebra_1.png)\n",
    "![](geogebra_2.png)"
   ]
  },
  {
   "cell_type": "markdown",
   "metadata": {},
   "source": [
    "Granica funkcji $f(x): \\lim_{x->\\infty}f(x) = \\frac{\\ln(1+e^{x})}{\\frac{1}{e^{x}}} \\stackrel{H}{=} \\lim_{x->\\infty}\\frac{\\frac{-1}{e^{x}+1}}{\\frac{-1}{e^{x}}}=\\lim_{x->\\infty}\\frac{e^{x}}{e^{x}+1}=1$"
   ]
  },
  {
   "cell_type": "markdown",
   "metadata": {},
   "source": [
    "Jak widać na wykresach, w okoliach $x=32$ pojawiają się oscylacje wokół wartości $1.0$. Od około $x=37$ wartość wynosi już stale $0$ co jest niezgodne z obliczoną granicą. Problemem jest wymnażanie przez siebie wartości $e^x$, która przykładowo dla $x=37$ jest względnie duża, z wartością $\\ln(1+e^{x})$, która bardzo szybko zbiega do $0$. Ostatecznie mnożymy jakąś dużą wartość, przez wartość $\\approx 0$, co w rezultacie daje $0$, przez wykonane zaokrąglenia liczb. Jak widać dla $x=30$ wartość funkcji jest w przybliżeniu zgodna z oczekiwaniami, a już dla $x=35$ pojawiają się znaczące dla błędy. Dla $x>37$ wynik jest całkowicie błędny, co pokazuje że zadanie jest źle uwarunkowane."
   ]
  },
  {
   "cell_type": "markdown",
   "metadata": {},
   "source": [
    "## Zadanie 3."
   ]
  },
  {
   "cell_type": "markdown",
   "metadata": {},
   "source": [
    "W zadaniu porównujemy różnice popełnianych błędów podczas wykonywania obliczeń na macierzy Hilberta oraz na losowej macierzy."
   ]
  },
  {
   "cell_type": "code",
   "execution_count": 3,
   "metadata": {},
   "outputs": [
    {
     "data": {
      "text/plain": [
       "hilb (generic function with 1 method)"
      ]
     },
     "execution_count": 3,
     "metadata": {},
     "output_type": "execute_result"
    }
   ],
   "source": [
    "function hilb(n::Int)\n",
    "# Function generates the Hilbert matrix  A of size n,\n",
    "#  A (i, j) = 1 / (i + j - 1)\n",
    "# Inputs:\n",
    "#\tn: size of matrix A, n>=1\n",
    "#\n",
    "#\n",
    "# Usage: hilb(10)\n",
    "#\n",
    "# Pawel Zielinski\n",
    "        if n < 1\n",
    "         error(\"size n should be >= 1\")\n",
    "        end\n",
    "        return [1 / (i + j - 1) for i in 1:n, j in 1:n]\n",
    "end"
   ]
  },
  {
   "cell_type": "code",
   "execution_count": 4,
   "metadata": {},
   "outputs": [
    {
     "data": {
      "text/plain": [
       "matcond (generic function with 1 method)"
      ]
     },
     "execution_count": 4,
     "metadata": {},
     "output_type": "execute_result"
    }
   ],
   "source": [
    "using LinearAlgebra\n",
    "\n",
    "function matcond(n::Int, c::Float64)\n",
    "# Function generates a random square matrix A of size n with\n",
    "# a given condition number c.\n",
    "# Inputs:\n",
    "#\tn: size of matrix A, n>1\n",
    "#\tc: condition of matrix A, c>= 1.0\n",
    "#\n",
    "# Usage: matcond(10, 100.0)\n",
    "#\n",
    "# Pawel Zielinski\n",
    "        if n < 2\n",
    "         error(\"size n should be > 1\")\n",
    "        end\n",
    "        if c< 1.0\n",
    "         error(\"condition number  c of a matrix  should be >= 1.0\")\n",
    "        end\n",
    "        (U,S,V)=svd(rand(n,n))\n",
    "        return U*diagm(0 =>[LinRange(1.0,c,n);])*V'\n",
    "end"
   ]
  },
  {
   "cell_type": "markdown",
   "metadata": {},
   "source": [
    "#### Macierz Hilberta"
   ]
  },
  {
   "cell_type": "code",
   "execution_count": 5,
   "metadata": {},
   "outputs": [
    {
     "data": {
      "text/plain": [
       "20"
      ]
     },
     "execution_count": 5,
     "metadata": {},
     "output_type": "execute_result"
    }
   ],
   "source": [
    "limit = 20"
   ]
  },
  {
   "cell_type": "code",
   "execution_count": 6,
   "metadata": {},
   "outputs": [
    {
     "name": "stdout",
     "output_type": "stream",
     "text": [
      "n = 1\n",
      "relative error Gauss = 0.0; relative error Inversion = 0.0\n",
      "rank = 1; cond = 1.0;\n",
      "\n",
      "n = 2\n",
      "relative error Gauss = 5.661048867003676e-16; relative error Inversion = 1.4043333874306803e-15\n",
      "rank = 2; cond = 19.28147006790397;\n",
      "\n",
      "n = 3\n",
      "relative error Gauss = 8.022593772267726e-15; relative error Inversion = 0.0\n",
      "rank = 3; cond = 524.0567775860644;\n",
      "\n",
      "n = 4\n",
      "relative error Gauss = 4.137409622430382e-14; relative error Inversion = 0.0\n",
      "rank = 4; cond = 15513.73873892924;\n",
      "\n",
      "n = 5\n",
      "relative error Gauss = 1.6828426299227195e-12; relative error Inversion = 3.3544360584359632e-12\n",
      "rank = 5; cond = 476607.25024259434;\n",
      "\n",
      "n = 6\n",
      "relative error Gauss = 2.618913302311624e-10; relative error Inversion = 2.0163759404347654e-10\n",
      "rank = 6; cond = 1.4951058642254665e7;\n",
      "\n",
      "n = 7\n",
      "relative error Gauss = 1.2606867224171548e-8; relative error Inversion = 4.713280397232037e-9\n",
      "rank = 7; cond = 4.75367356583129e8;\n",
      "\n",
      "n = 8\n",
      "relative error Gauss = 6.124089555723088e-8; relative error Inversion = 3.07748390309622e-7\n",
      "rank = 8; cond = 1.5257575538060041e10;\n",
      "\n",
      "n = 9\n",
      "relative error Gauss = 3.8751634185032475e-6; relative error Inversion = 4.541268303176643e-6\n",
      "rank = 9; cond = 4.931537564468762e11;\n",
      "\n",
      "n = 10\n",
      "relative error Gauss = 8.67039023709691e-5; relative error Inversion = 0.0002501493411824886\n",
      "rank = 10; cond = 1.6024416992541715e13;\n",
      "\n",
      "n = 11\n",
      "relative error Gauss = 0.00015827808158590435; relative error Inversion = 0.007618304284315809\n",
      "rank = 10; cond = 5.222677939280335e14;\n",
      "\n",
      "n = 12\n",
      "relative error Gauss = 0.13396208372085344; relative error Inversion = 0.258994120804705\n",
      "rank = 11; cond = 1.7514731907091464e16;\n",
      "\n",
      "n = 13\n",
      "relative error Gauss = 0.11039701117868264; relative error Inversion = 5.331275639426837\n",
      "rank = 11; cond = 3.344143497338461e18;\n",
      "\n",
      "n = 14\n",
      "relative error Gauss = 1.4554087127659643; relative error Inversion = 8.71499275104814\n",
      "rank = 11; cond = 6.200786263161444e17;\n",
      "\n",
      "n = 15\n",
      "relative error Gauss = 4.696668350857427; relative error Inversion = 7.344641453111494\n",
      "rank = 12; cond = 3.674392953467974e17;\n",
      "\n",
      "n = 16\n",
      "relative error Gauss = 54.15518954564602; relative error Inversion = 29.84884207073541\n",
      "rank = 12; cond = 7.865467778431645e17;\n",
      "\n",
      "n = 17\n",
      "relative error Gauss = 13.707236683836307; relative error Inversion = 10.516942378369349\n",
      "rank = 12; cond = 1.263684342666052e18;\n",
      "\n",
      "n = 18\n",
      "relative error Gauss = 9.134134521198485; relative error Inversion = 7.575475905055309\n",
      "rank = 12; cond = 2.2446309929189128e18;\n",
      "\n",
      "n = 19\n",
      "relative error Gauss = 9.720589712655698; relative error Inversion = 12.233761393757726\n",
      "rank = 13; cond = 6.471953976541591e18;\n",
      "\n",
      "n = 20\n",
      "relative error Gauss = 7.549915039472976; relative error Inversion = 22.062697257870493\n",
      "rank = 13; cond = 1.3553657908688225e18;\n",
      "\n"
     ]
    }
   ],
   "source": [
    "for n in 1:limit\n",
    "    A = hilb(n)\n",
    "    x = ones(n)\n",
    "    b = A*x\n",
    "    gauss = A\\b\n",
    "    inverse = inv(A)*b\n",
    "    println(\"n = \", n)\n",
    "    println(\"relative error Gauss = \", norm(x-gauss)/norm(x), \n",
    "        \"; relative error Inversion = \", norm(x-inverse)/norm(x))\n",
    "    println(\"rank = \", rank(A), \"; cond = \", cond(A), \";\")\n",
    "    println()\n",
    "end"
   ]
  },
  {
   "cell_type": "markdown",
   "metadata": {},
   "source": [
    "#### Losowa macierz"
   ]
  },
  {
   "cell_type": "code",
   "execution_count": 13,
   "metadata": {},
   "outputs": [
    {
     "name": "stdout",
     "output_type": "stream",
     "text": [
      "n = 5 cond = 1\n",
      "relative error Gauss = 9.930136612989092e-17; relative error Inversion = 1.9860273225978183e-16\n",
      "rank = 5;\n",
      "\n",
      "n = 5 cond = 10\n",
      "relative error Gauss = 4.965068306494546e-17; relative error Inversion = 1.5700924586837752e-16\n",
      "rank = 5;\n",
      "\n",
      "n = 5 cond = 1000\n",
      "relative error Gauss = 1.486563340884008e-14; relative error Inversion = 1.608436924057735e-14\n",
      "rank = 5;\n",
      "\n",
      "n = 5 cond = 10000000\n",
      "relative error Gauss = 4.304319289150695e-10; relative error Inversion = 3.4368438025093585e-10\n",
      "rank = 5;\n",
      "\n",
      "n = 5 cond = 1000000000000\n",
      "relative error Gauss = 2.3802147261703235e-5; relative error Inversion = 1.0493126432736104e-5\n",
      "rank = 5;\n",
      "\n",
      "n = 5 cond = 10000000000000000\n",
      "relative error Gauss = 0.1729047570861553; relative error Inversion = 0.16357815410378002\n",
      "rank = 4;\n",
      "\n",
      "n = 10 cond = 1\n",
      "relative error Gauss = 2.1065000811460205e-16; relative error Inversion = 1.4043333874306804e-16\n",
      "rank = 10;\n",
      "\n",
      "n = 10 cond = 10\n",
      "relative error Gauss = 3.1204970435528155e-16; relative error Inversion = 2.895107444979072e-16\n",
      "rank = 10;\n",
      "\n",
      "n = 10 cond = 1000\n",
      "relative error Gauss = 7.364051660145176e-15; relative error Inversion = 6.646518689688359e-15\n",
      "rank = 10;\n",
      "\n",
      "n = 10 cond = 10000000\n",
      "relative error Gauss = 1.219695133429562e-10; relative error Inversion = 1.2078966229133736e-10\n",
      "rank = 10;\n",
      "\n",
      "n = 10 cond = 1000000000000\n",
      "relative error Gauss = 2.2825346020340272e-5; relative error Inversion = 2.6818434148212894e-5\n",
      "rank = 10;\n",
      "\n",
      "n = 10 cond = 10000000000000000\n",
      "relative error Gauss = 0.07224297238253576; relative error Inversion = 0.12143349517328404\n",
      "rank = 9;\n",
      "\n",
      "n = 20 cond = 1\n",
      "relative error Gauss = 4.0106566663730006e-16; relative error Inversion = 4.447825579847492e-16\n",
      "rank = 20;\n",
      "\n",
      "n = 20 cond = 10\n",
      "relative error Gauss = 4.3426611674686075e-16; relative error Inversion = 4.2998752849492583e-16\n",
      "rank = 20;\n",
      "\n",
      "n = 20 cond = 1000\n",
      "relative error Gauss = 3.832762602798735e-15; relative error Inversion = 3.9471512357794175e-15\n",
      "rank = 20;\n",
      "\n",
      "n = 20 cond = 10000000\n",
      "relative error Gauss = 2.543143221914888e-11; relative error Inversion = 3.389378165259292e-11\n",
      "rank = 20;\n",
      "\n",
      "n = 20 cond = 1000000000000\n",
      "relative error Gauss = 8.041672578584985e-6; relative error Inversion = 8.28105672687241e-6\n",
      "rank = 20;\n",
      "\n",
      "n = 20 cond = 10000000000000000\n",
      "relative error Gauss = 0.19114688390223408; relative error Inversion = 0.2137329237513783\n",
      "rank = 19;\n",
      "\n"
     ]
    }
   ],
   "source": [
    "for n in [5,10,20]\n",
    "    for c in [1,10,10^3,10^7,10^12,10^16]\n",
    "        A = matcond(n,Float64(c))\n",
    "        x = ones(n)\n",
    "        b = A*x\n",
    "        gauss = A\\b\n",
    "        inverse = inv(A)*b\n",
    "        println(\"n = \", n, \" cond = \", c)\n",
    "        println(\"relative error Gauss = \", norm(x-gauss)/norm(x), \n",
    "            \"; relative error Inversion = \", norm(x-inverse)/norm(x))\n",
    "        println(\"rank = \", rank(A), \";\")\n",
    "        println()\n",
    "    end\n",
    "end"
   ]
  },
  {
   "cell_type": "markdown",
   "metadata": {},
   "source": [
    "W przypadku macierzy Hilberta $H_n$ oraz losowej macierzy $R_n$ wraz ze wzrostem rozmiaru, wzrastał błąd podczas obliczania wartości $x$. W przypadku macierzy $H_n$ błąd ten rośnie jednak o wiele szybciej niż w przypadku $R_n$, co jest zgodne z obserwacją wzrostu wskaźnika uwarunkowania. Wartości tego wskaźnika dla macierzy $H_n$ rosną względnie szybko, ponadto widać korelację między wartością błędu a wartością wskaźnika. Porównując wyniki dla $H_n$ i $R_n$ można zauważyć, że zadanie dla $H_n$ jest źle uwarunkowane."
   ]
  },
  {
   "cell_type": "markdown",
   "metadata": {},
   "source": [
    "## Zadanie 4."
   ]
  },
  {
   "cell_type": "markdown",
   "metadata": {},
   "source": [
    "W zadaniu należy sprawdzić, czy wyliczone pierwiastki wielomianu są zgodne z faktyczną wartością oraz sprawdzić uwarunkowanie samego zadania."
   ]
  },
  {
   "cell_type": "code",
   "execution_count": 11,
   "metadata": {},
   "outputs": [],
   "source": [
    "using Polynomials #v1.1.10"
   ]
  },
  {
   "cell_type": "markdown",
   "metadata": {},
   "source": [
    "a)"
   ]
  },
  {
   "cell_type": "markdown",
   "metadata": {},
   "source": [
    "Współczynniki wielomianu $P(x)$ dla malejących potęg $x$:"
   ]
  },
  {
   "cell_type": "code",
   "execution_count": 12,
   "metadata": {},
   "outputs": [
    {
     "data": {
      "text/plain": [
       "21-element Array{Float64,1}:\n",
       "     1.0\n",
       "  -210.0\n",
       " 20615.0\n",
       "    -1.25685e6\n",
       "     5.3327946e7\n",
       "    -1.67228082e9\n",
       "     4.017177163e10\n",
       "    -7.561111845e11\n",
       "     1.1310276995381e13\n",
       "    -1.3558518289953e14\n",
       "     1.307535010540395e15\n",
       "    -1.014229986551145e16\n",
       "     6.30308120992949e16\n",
       "    -3.1133364316139066e17\n",
       "     1.2066478037803732e18\n",
       "    -3.599979517947607e18\n",
       "     8.037811822645051e18\n",
       "    -1.2870931245150988e19\n",
       "     1.3803759753640704e19\n",
       "    -8.7529480367616e18\n",
       "     2.43290200817664e18"
      ]
     },
     "execution_count": 12,
     "metadata": {},
     "output_type": "execute_result"
    }
   ],
   "source": [
    "P_coefficients=[1, -210.0, 20615.0,-1256850.0,\n",
    "      53327946.0,-1672280820.0, 40171771630.0, -756111184500.0,          \n",
    "      11310276995381.0, -135585182899530.0,\n",
    "      1307535010540395.0,     -10142299865511450.0,\n",
    "      63030812099294896.0,     -311333643161390640.0,\n",
    "      1206647803780373360.0,     -3599979517947607200.0,\n",
    "      8037811822645051776.0,      -12870931245150988800.0,\n",
    "      13803759753640704000.0,      -8752948036761600000.0,\n",
    "      2432902008176640000.0]"
   ]
  },
  {
   "cell_type": "markdown",
   "metadata": {},
   "source": [
    "Wielomian $P(x)$ wygenerowany przy użyciu biblioteki Polynomials:"
   ]
  },
  {
   "cell_type": "code",
   "execution_count": 13,
   "metadata": {},
   "outputs": [
    {
     "data": {
      "text/html": [
       "2.43290200817664e18 &#45; 8.7529480367616e18&#8729;x &#43; 1.3803759753640704e19&#8729;x<sup>2</sup> &#45; 1.2870931245150988e19&#8729;x<sup>3</sup> &#43; 8.037811822645051e18&#8729;x<sup>4</sup> &#45; 3.599979517947607e18&#8729;x<sup>5</sup> &#43; 1.2066478037803732e18&#8729;x<sup>6</sup> &#45; 3.1133364316139066e17&#8729;x<sup>7</sup> &#43; 6.30308120992949e16&#8729;x<sup>8</sup> &#45; 1.014229986551145e16&#8729;x<sup>9</sup> &#43; 1.307535010540395e15&#8729;x<sup>10</sup> &#45; 1.3558518289953e14&#8729;x<sup>11</sup> &#43; 1.1310276995381e13&#8729;x<sup>12</sup> &#45; 7.561111845e11&#8729;x<sup>13</sup> &#43; 4.017177163e10&#8729;x<sup>14</sup> &#45; 1.67228082e9&#8729;x<sup>15</sup> &#43; 5.3327946e7&#8729;x<sup>16</sup> &#45; 1.25685e6&#8729;x<sup>17</sup> &#43; 20615.0&#8729;x<sup>18</sup> &#45; 210.0&#8729;x<sup>19</sup> &#43; 1.0&#8729;x<sup>20</sup>"
      ],
      "text/latex": [
       "$2.43290200817664e18 - 8.7529480367616e18\\cdot x + 1.3803759753640704e19\\cdot x^{2} - 1.2870931245150988e19\\cdot x^{3} + 8.037811822645051e18\\cdot x^{4} - 3.599979517947607e18\\cdot x^{5} + 1.2066478037803732e18\\cdot x^{6} - 3.1133364316139066e17\\cdot x^{7} + 6.30308120992949e16\\cdot x^{8} - 1.014229986551145e16\\cdot x^{9} + 1.307535010540395e15\\cdot x^{10} - 1.3558518289953e14\\cdot x^{11} + 1.1310276995381e13\\cdot x^{12} - 7.561111845e11\\cdot x^{13} + 4.017177163e10\\cdot x^{14} - 1.67228082e9\\cdot x^{15} + 5.3327946e7\\cdot x^{16} - 1.25685e6\\cdot x^{17} + 20615.0\\cdot x^{18} - 210.0\\cdot x^{19} + 1.0\\cdot x^{20}$"
      ],
      "text/plain": [
       "Polynomial(2.43290200817664e18 - 8.7529480367616e18*x + 1.3803759753640704e19*x^2 - 1.2870931245150988e19*x^3 + 8.037811822645051e18*x^4 - 3.599979517947607e18*x^5 + 1.2066478037803732e18*x^6 - 3.1133364316139066e17*x^7 + 6.30308120992949e16*x^8 - 1.014229986551145e16*x^9 + 1.307535010540395e15*x^10 - 1.3558518289953e14*x^11 + 1.1310276995381e13*x^12 - 7.561111845e11*x^13 + 4.017177163e10*x^14 - 1.67228082e9*x^15 + 5.3327946e7*x^16 - 1.25685e6*x^17 + 20615.0*x^18 - 210.0*x^19 + 1.0*x^20)"
      ]
     },
     "execution_count": 13,
     "metadata": {},
     "output_type": "execute_result"
    }
   ],
   "source": [
    "P = Polynomial(P_coefficients[21:-1:1])"
   ]
  },
  {
   "cell_type": "markdown",
   "metadata": {},
   "source": [
    "Pierwiastki tego wielomianu:"
   ]
  },
  {
   "cell_type": "code",
   "execution_count": 14,
   "metadata": {},
   "outputs": [
    {
     "data": {
      "text/plain": [
       "20-element Array{Float64,1}:\n",
       "  0.9999999999996989\n",
       "  2.0000000000283182\n",
       "  2.9999999995920965\n",
       "  3.9999999837375317\n",
       "  5.000000665769791\n",
       "  5.999989245824773\n",
       "  7.000102002793008\n",
       "  7.999355829607762\n",
       "  9.002915294362053\n",
       "  9.990413042481725\n",
       " 11.025022932909318\n",
       " 11.953283253846857\n",
       " 13.07431403244734\n",
       " 13.914755591802127\n",
       " 15.075493799699476\n",
       " 15.946286716607972\n",
       " 17.025427146237412\n",
       " 17.99092135271648\n",
       " 19.00190981829944\n",
       " 19.999809291236637"
      ]
     },
     "execution_count": 14,
     "metadata": {},
     "output_type": "execute_result"
    }
   ],
   "source": [
    "P_roots = roots(P)"
   ]
  },
  {
   "cell_type": "markdown",
   "metadata": {},
   "source": [
    "Wielomian $p(x)$ (matematycznie równoważny) w postaci iloczynowej:"
   ]
  },
  {
   "cell_type": "code",
   "execution_count": 15,
   "metadata": {},
   "outputs": [
    {
     "data": {
      "text/plain": [
       "p (generic function with 1 method)"
      ]
     },
     "execution_count": 15,
     "metadata": {},
     "output_type": "execute_result"
    }
   ],
   "source": [
    "function p(x)\n",
    "    return (x-1.0)*(x-2.0)*(x-3.0)*(x-4.0)*(x-5.0)*(x-6.0)*(x-7.0)*(x-8.0)*(x-9.0)*(x-10.0)*(x-11.0)*(x-12.0)*(x-13.0)*(x-14.0)*(x-15.0)*(x-16.0)*(x-17.0)*(x-18.0)*(x-19.0)*(x-20.0)\n",
    "end"
   ]
  },
  {
   "cell_type": "code",
   "execution_count": 17,
   "metadata": {},
   "outputs": [
    {
     "name": "stdout",
     "output_type": "stream",
     "text": [
      "k = 1; |P(z_k)| = 35696.50964788257; |p(z_k)| = 36626.4254824228; |z_k - k| = 3.0109248427834245e-13\n",
      "k = 2; |P(z_k)| = 176252.60026668405; |p(z_k)| = 181303.9336725767; |z_k - k| = 2.8318236644508943e-11\n",
      "k = 3; |P(z_k)| = 279157.6968824087; |p(z_k)| = 290172.2858891687; |z_k - k| = 4.0790348876384996e-10\n",
      "k = 4; |P(z_k)| = 3.0271092988991085e6; |p(z_k)| = 2.04153729027509e6; |z_k - k| = 1.626246826091915e-8\n",
      "k = 5; |P(z_k)| = 2.2917473756567076e7; |p(z_k)| = 2.0894625006962176e7; |z_k - k| = 6.657697912970661e-7\n",
      "k = 6; |P(z_k)| = 1.2902417284205095e8; |p(z_k)| = 1.1250484577562997e8; |z_k - k| = 1.0754175226779239e-5\n",
      "k = 7; |P(z_k)| = 4.805112754602064e8; |p(z_k)| = 4.5729086427309465e8; |z_k - k| = 0.00010200279300764947\n",
      "k = 8; |P(z_k)| = 1.6379520218961136e9; |p(z_k)| = 1.5556459377357383e9; |z_k - k| = 0.0006441703922384079\n",
      "k = 9; |P(z_k)| = 4.877071372550003e9; |p(z_k)| = 4.68781617564839e9; |z_k - k| = 0.002915294362052734\n",
      "k = 10; |P(z_k)| = 1.3638638195458128e10; |p(z_k)| = 1.2634601896949207e10; |z_k - k| = 0.009586957518274986\n",
      "k = 11; |P(z_k)| = 3.585631295130865e10; |p(z_k)| = 3.3001284744984142e10; |z_k - k| = 0.025022932909317674\n",
      "k = 12; |P(z_k)| = 7.533332360358197e10; |p(z_k)| = 7.388525665404987e10; |z_k - k| = 0.04671674615314281\n",
      "k = 13; |P(z_k)| = 1.9605988124330817e11; |p(z_k)| = 1.84762150931442e11; |z_k - k| = 0.07431403244734014\n",
      "k = 14; |P(z_k)| = 3.5751347823104315e11; |p(z_k)| = 3.551427752842085e11; |z_k - k| = 0.08524440819787316\n",
      "k = 15; |P(z_k)| = 8.21627123645597e11; |p(z_k)| = 8.423201558964255e11; |z_k - k| = 0.07549379969947623\n",
      "k = 16; |P(z_k)| = 1.5514978880494067e12; |p(z_k)| = 1.5707287366258018e12; |z_k - k| = 0.05371328339202819\n",
      "k = 17; |P(z_k)| = 3.694735918486229e12; |p(z_k)| = 3.3169782238892354e12; |z_k - k| = 0.025427146237412046\n",
      "k = 18; |P(z_k)| = 7.650109016515867e12; |p(z_k)| = 6.344853141791281e12; |z_k - k| = 0.009078647283519814\n",
      "k = 19; |P(z_k)| = 1.1435273749721195e13; |p(z_k)| = 1.2285717366719662e13; |z_k - k| = 0.0019098182994383706\n",
      "k = 20; |P(z_k)| = 2.7924106393680727e13; |p(z_k)| = 2.318309535271639e13; |z_k - k| = 0.00019070876336257925\n"
     ]
    }
   ],
   "source": [
    "for k in 1:20\n",
    "    println(\"k = \", k, \n",
    "        \"; |P(z_k)| = \", abs(P(P_roots[k])),\n",
    "        \"; |p(z_k)| = \", abs(p(P_roots[k])),\n",
    "        \"; |z_k - k| = \", abs(P_roots[k]-k))\n",
    "end"
   ]
  },
  {
   "cell_type": "markdown",
   "metadata": {},
   "source": [
    "Otrzymane pierwiastki dają błędne wyniki po podstawieniu wielomianów. Problemem jest fakt, że wyniki nie mogę być dokładnie przechowywane ze względu na ograniczenia arytmetyki Float64. Mimo, że $z_k$ nie różni się znacząco od $k$, to błędy podczas obliczania wartości wielomianu są już znaczące. Ponadto dla coraz większych k, różnice |$z_k$-$k$| rosną, a co za tym idzie rosną błędy obliczonych wartości $P(z_k)$."
   ]
  },
  {
   "cell_type": "markdown",
   "metadata": {},
   "source": [
    "b)"
   ]
  },
  {
   "cell_type": "markdown",
   "metadata": {},
   "source": [
    "Współczynniki po modyfikacji:"
   ]
  },
  {
   "cell_type": "code",
   "execution_count": 18,
   "metadata": {},
   "outputs": [
    {
     "data": {
      "text/plain": [
       "21-element Array{Float64,1}:\n",
       "     1.0\n",
       "  -210.0000001192093\n",
       " 20615.0\n",
       "    -1.25685e6\n",
       "     5.3327946e7\n",
       "    -1.67228082e9\n",
       "     4.017177163e10\n",
       "    -7.561111845e11\n",
       "     1.1310276995381e13\n",
       "    -1.3558518289953e14\n",
       "     1.307535010540395e15\n",
       "    -1.014229986551145e16\n",
       "     6.30308120992949e16\n",
       "    -3.1133364316139066e17\n",
       "     1.2066478037803732e18\n",
       "    -3.599979517947607e18\n",
       "     8.037811822645051e18\n",
       "    -1.2870931245150988e19\n",
       "     1.3803759753640704e19\n",
       "    -8.7529480367616e18\n",
       "     2.43290200817664e18"
      ]
     },
     "execution_count": 18,
     "metadata": {},
     "output_type": "execute_result"
    }
   ],
   "source": [
    "Pw_coefficients = [i != 2 ? P_coefficients[i] : -210-2^(-23) for i in 1:21]"
   ]
  },
  {
   "cell_type": "code",
   "execution_count": 19,
   "metadata": {},
   "outputs": [
    {
     "data": {
      "text/html": [
       "2.43290200817664e18 &#45; 8.7529480367616e18&#8729;x &#43; 1.3803759753640704e19&#8729;x<sup>2</sup> &#45; 1.2870931245150988e19&#8729;x<sup>3</sup> &#43; 8.037811822645051e18&#8729;x<sup>4</sup> &#45; 3.599979517947607e18&#8729;x<sup>5</sup> &#43; 1.2066478037803732e18&#8729;x<sup>6</sup> &#45; 3.1133364316139066e17&#8729;x<sup>7</sup> &#43; 6.30308120992949e16&#8729;x<sup>8</sup> &#45; 1.014229986551145e16&#8729;x<sup>9</sup> &#43; 1.307535010540395e15&#8729;x<sup>10</sup> &#45; 1.3558518289953e14&#8729;x<sup>11</sup> &#43; 1.1310276995381e13&#8729;x<sup>12</sup> &#45; 7.561111845e11&#8729;x<sup>13</sup> &#43; 4.017177163e10&#8729;x<sup>14</sup> &#45; 1.67228082e9&#8729;x<sup>15</sup> &#43; 5.3327946e7&#8729;x<sup>16</sup> &#45; 1.25685e6&#8729;x<sup>17</sup> &#43; 20615.0&#8729;x<sup>18</sup> &#45; 210.0000001192093&#8729;x<sup>19</sup> &#43; 1.0&#8729;x<sup>20</sup>"
      ],
      "text/latex": [
       "$2.43290200817664e18 - 8.7529480367616e18\\cdot x + 1.3803759753640704e19\\cdot x^{2} - 1.2870931245150988e19\\cdot x^{3} + 8.037811822645051e18\\cdot x^{4} - 3.599979517947607e18\\cdot x^{5} + 1.2066478037803732e18\\cdot x^{6} - 3.1133364316139066e17\\cdot x^{7} + 6.30308120992949e16\\cdot x^{8} - 1.014229986551145e16\\cdot x^{9} + 1.307535010540395e15\\cdot x^{10} - 1.3558518289953e14\\cdot x^{11} + 1.1310276995381e13\\cdot x^{12} - 7.561111845e11\\cdot x^{13} + 4.017177163e10\\cdot x^{14} - 1.67228082e9\\cdot x^{15} + 5.3327946e7\\cdot x^{16} - 1.25685e6\\cdot x^{17} + 20615.0\\cdot x^{18} - 210.0000001192093\\cdot x^{19} + 1.0\\cdot x^{20}$"
      ],
      "text/plain": [
       "Polynomial(2.43290200817664e18 - 8.7529480367616e18*x + 1.3803759753640704e19*x^2 - 1.2870931245150988e19*x^3 + 8.037811822645051e18*x^4 - 3.599979517947607e18*x^5 + 1.2066478037803732e18*x^6 - 3.1133364316139066e17*x^7 + 6.30308120992949e16*x^8 - 1.014229986551145e16*x^9 + 1.307535010540395e15*x^10 - 1.3558518289953e14*x^11 + 1.1310276995381e13*x^12 - 7.561111845e11*x^13 + 4.017177163e10*x^14 - 1.67228082e9*x^15 + 5.3327946e7*x^16 - 1.25685e6*x^17 + 20615.0*x^18 - 210.0000001192093*x^19 + 1.0*x^20)"
      ]
     },
     "execution_count": 19,
     "metadata": {},
     "output_type": "execute_result"
    }
   ],
   "source": [
    "Pw = Polynomial(Pw_coefficients[21:-1:1])"
   ]
  },
  {
   "cell_type": "code",
   "execution_count": 20,
   "metadata": {},
   "outputs": [
    {
     "data": {
      "text/plain": [
       "20-element Array{Complex{Float64},1}:\n",
       " 0.9999999999998357 + 0.0im\n",
       " 2.0000000000550373 + 0.0im\n",
       "   2.99999999660342 + 0.0im\n",
       "  4.000000089724362 + 0.0im\n",
       "   4.99999857388791 + 0.0im\n",
       "  6.000020476673031 + 0.0im\n",
       "   6.99960207042242 + 0.0im\n",
       "  8.007772029099446 + 0.0im\n",
       "  8.915816367932559 + 0.0im\n",
       " 10.095455630535774 - 0.6449328236240688im\n",
       " 10.095455630535774 + 0.6449328236240688im\n",
       " 11.793890586174369 - 1.6524771364075785im\n",
       " 11.793890586174369 + 1.6524771364075785im\n",
       " 13.992406684487216 - 2.5188244257108443im\n",
       " 13.992406684487216 + 2.5188244257108443im\n",
       "  16.73074487979267 - 2.812624896721978im\n",
       "  16.73074487979267 + 2.812624896721978im\n",
       "   19.5024423688181 - 1.940331978642903im\n",
       "   19.5024423688181 + 1.940331978642903im\n",
       "  20.84691021519479 + 0.0im"
      ]
     },
     "execution_count": 20,
     "metadata": {},
     "output_type": "execute_result"
    }
   ],
   "source": [
    "Pw_roots = roots(Pw)"
   ]
  },
  {
   "cell_type": "code",
   "execution_count": 21,
   "metadata": {},
   "outputs": [
    {
     "name": "stdout",
     "output_type": "stream",
     "text": [
      "k = 1; |P(z_k)| = 20259.872313418207; |p(z_k)| = 19987.872313406842; |z_k - k| = 1.6431300764452317e-13\n",
      "k = 2; |P(z_k)| = 346541.4137593836; |p(z_k)| = 352369.413808796; |z_k - k| = 5.503730804434781e-11\n",
      "k = 3; |P(z_k)| = 2.2580597001197007e6; |p(z_k)| = 2.416241558251844e6; |z_k - k| = 3.3965799062229962e-9\n",
      "k = 4; |P(z_k)| = 1.0542631790395478e7; |p(z_k)| = 1.126370230029202e7; |z_k - k| = 8.972436216225788e-8\n",
      "k = 5; |P(z_k)| = 3.757830916585153e7; |p(z_k)| = 4.475744423806907e7; |z_k - k| = 1.4261120897529622e-6\n",
      "k = 6; |P(z_k)| = 1.3140943325569446e8; |p(z_k)| = 2.1421031658039317e8; |z_k - k| = 2.0476673030955794e-5\n",
      "k = 7; |P(z_k)| = 3.939355874647618e8; |p(z_k)| = 1.7846173427860644e9; |z_k - k| = 0.00039792957757978087\n",
      "k = 8; |P(z_k)| = 1.184986961371896e9; |p(z_k)| = 1.868697217000985e10; |z_k - k| = 0.007772029099445632\n",
      "k = 9; |P(z_k)| = 2.2255221233077707e9; |p(z_k)| = 1.3746309775142996e11; |z_k - k| = 0.0841836320674414\n",
      "k = 10; |P(z_k)| = 1.0677921232930157e10; |p(z_k)| = 1.4900695352000583e12; |z_k - k| = 0.6519586830380407\n",
      "k = 11; |P(z_k)| = 1.0677921232930157e10; |p(z_k)| = 1.4900695352000583e12; |z_k - k| = 1.1109180272716561\n",
      "k = 12; |P(z_k)| = 3.1401962344429485e10; |p(z_k)| = 3.2962792355717137e13; |z_k - k| = 1.665281290598479\n",
      "k = 13; |P(z_k)| = 3.1401962344429485e10; |p(z_k)| = 3.2962792355717137e13; |z_k - k| = 2.0458202766784277\n",
      "k = 14; |P(z_k)| = 2.157665405951858e11; |p(z_k)| = 9.546022365750218e14; |z_k - k| = 2.518835871190904\n",
      "k = 15; |P(z_k)| = 2.157665405951858e11; |p(z_k)| = 9.546022365750218e14; |z_k - k| = 2.7128805312847097\n",
      "k = 16; |P(z_k)| = 4.850110893921027e11; |p(z_k)| = 2.742106076928478e16; |z_k - k| = 2.9060018735375106\n",
      "k = 17; |P(z_k)| = 4.850110893921027e11; |p(z_k)| = 2.742106076928478e16; |z_k - k| = 2.825483521349608\n",
      "k = 18; |P(z_k)| = 4.557199223869993e12; |p(z_k)| = 4.25248587652037e17; |z_k - k| = 2.4540214463129764\n",
      "k = 19; |P(z_k)| = 4.557199223869993e12; |p(z_k)| = 4.25248587652037e17; |z_k - k| = 2.0043294443099486\n",
      "k = 20; |P(z_k)| = 8.756386551865696e12; |p(z_k)| = 1.3743743559997601e18; |z_k - k| = 0.8469102151947894\n"
     ]
    }
   ],
   "source": [
    "for k in 1:20\n",
    "    println(\"k = \", k, \n",
    "        \"; |P(z_k)| = \", abs(Pw(Pw_roots[k])),\n",
    "        \"; |p(z_k)| = \", abs(p(Pw_roots[k])),\n",
    "        \"; |z_k - k| = \", abs(Pw_roots[k]-k))\n",
    "end"
   ]
  },
  {
   "cell_type": "markdown",
   "metadata": {},
   "source": [
    "Porównując wyniki $a)$ oraz $b)$, okazuje się, że dodatkowo zadanie jest źle uwarnkowane. Wynika to z faktu, że niewielkie zaburzenia danych znacząco wpłynęły na wartości wyliczonych pierwiastków, w których pojawiły się liczby zespolone."
   ]
  },
  {
   "cell_type": "markdown",
   "metadata": {},
   "source": [
    "## Zadanie 5."
   ]
  },
  {
   "cell_type": "markdown",
   "metadata": {},
   "source": [
    "W zadaniu należało porównać wyniki obliczonego modelu wzrostu populacji dla różnych arytmetyk oraz po wprowadzeniu zmian w danych."
   ]
  },
  {
   "cell_type": "markdown",
   "metadata": {},
   "source": [
    "a)"
   ]
  },
  {
   "cell_type": "code",
   "execution_count": 19,
   "metadata": {},
   "outputs": [],
   "source": [
    "p1 = Float32(0.01)\n",
    "r = Float32(3.0)\n",
    "arr1 = []\n",
    "for i in 1:40\n",
    "    p1 = p1 + r*p1*(1-p1)\n",
    "    push!(arr1, p1)\n",
    "end"
   ]
  },
  {
   "cell_type": "code",
   "execution_count": 24,
   "metadata": {},
   "outputs": [],
   "source": [
    "p2 = Float32(0.01)\n",
    "r = Float32(3.0) \n",
    "arr2 = []\n",
    "for i in 1:10\n",
    "    p2 = p2 + r*p2*(1-p2)\n",
    "    push!(arr2, p2)\n",
    "end\n",
    "\n",
    "p2 = trunc(p2, digits=3)\n",
    "arr2[10] = p2\n",
    "\n",
    "for i in 11:40\n",
    "    p2 = p2 + r*p2*(1-p2)\n",
    "    push!(arr2, p2)\n",
    "end"
   ]
  },
  {
   "cell_type": "code",
   "execution_count": 25,
   "metadata": {},
   "outputs": [
    {
     "name": "stdout",
     "output_type": "stream",
     "text": [
      "Version 1: | Version 2:\n",
      "0.0397 | 0.0397\n",
      "0.15407173 | 0.15407173\n",
      "0.5450726 | 0.5450726\n",
      "1.2889781 | 1.2889781\n",
      "0.1715188 | 0.1715188\n",
      "0.5978191 | 0.5978191\n",
      "1.3191134 | 1.3191134\n",
      "0.056273222 | 0.056273222\n",
      "0.21559286 | 0.21559286\n",
      "0.7229306 | 0.722\n",
      "1.3238364 | 1.3241479\n",
      "0.037716985 | 0.036488414\n",
      "0.14660022 | 0.14195944\n",
      "0.521926 | 0.50738037\n",
      "1.2704837 | 1.2572169\n",
      "0.2395482 | 0.28708452\n",
      "0.7860428 | 0.9010855\n",
      "1.2905813 | 1.1684768\n",
      "0.16552472 | 0.577893\n",
      "0.5799036 | 1.3096911\n",
      "1.3107498 | 0.09289217\n",
      "0.088804245 | 0.34568182\n",
      "0.3315584 | 1.0242395\n",
      "0.9964407 | 0.94975823\n",
      "1.0070806 | 1.0929108\n",
      "0.9856885 | 0.7882812\n",
      "1.0280086 | 1.2889631\n",
      "0.9416294 | 0.17157483\n",
      "1.1065198 | 0.59798557\n",
      "0.7529209 | 1.3191822\n",
      "1.3110139 | 0.05600393\n",
      "0.0877831 | 0.21460639\n",
      "0.3280148 | 0.7202578\n",
      "0.9892781 | 1.3247173\n",
      "1.021099 | 0.034241438\n",
      "0.95646656 | 0.13344833\n",
      "1.0813814 | 0.48036796\n",
      "0.81736827 | 1.2292118\n",
      "1.2652004 | 0.3839622\n",
      "0.25860548 | 1.093568\n"
     ]
    }
   ],
   "source": [
    "println(\"Version 1: | Version 2:\")\n",
    "for i in 1:40\n",
    "    println(arr1[i], \" | \", arr2[i])\n",
    "end"
   ]
  },
  {
   "cell_type": "markdown",
   "metadata": {},
   "source": [
    "Ostatnie wyniki to 0.25860548 (wersja 1) oraz 1.093568 (wersja 2). Wyniki te znacznie się różnią, ponieważ błąd wynikający z obcięcia po 10 iteracjach, rzutuje na kolejne wyniki, co po przeprowadzeniu całego ciągu operacji daje wynik znacząco odbiegający od wersji 1. Do momentu obcięcia wyniki są identyczne (co jest zgodne z intuicją), natomiast po obcięciu zaczynają pojawiać się różnice, które stopniowo kumulują się."
   ]
  },
  {
   "cell_type": "markdown",
   "metadata": {},
   "source": [
    "b)"
   ]
  },
  {
   "cell_type": "code",
   "execution_count": 26,
   "metadata": {},
   "outputs": [],
   "source": [
    "p3 = Float64(0.01)\n",
    "r = Float64(3.0)\n",
    "arr3 = []\n",
    "for i in 1:40\n",
    "    p3 = p3 + r*p3*(1-p3)\n",
    "    push!(arr3, p3)\n",
    "end"
   ]
  },
  {
   "cell_type": "code",
   "execution_count": 27,
   "metadata": {},
   "outputs": [
    {
     "name": "stdout",
     "output_type": "stream",
     "text": [
      "Float32: | Float64:\n",
      "0.0397 | 0.0397\n",
      "0.15407173 | 0.15407173000000002\n",
      "0.5450726 | 0.5450726260444213\n",
      "1.2889781 | 1.2889780011888006\n",
      "0.1715188 | 0.17151914210917552\n",
      "0.5978191 | 0.5978201201070994\n",
      "1.3191134 | 1.3191137924137974\n",
      "0.056273222 | 0.056271577646256565\n",
      "0.21559286 | 0.21558683923263022\n",
      "0.7229306 | 0.722914301179573\n",
      "1.3238364 | 1.3238419441684408\n",
      "0.037716985 | 0.03769529725473175\n",
      "0.14660022 | 0.14651838271355924\n",
      "0.521926 | 0.521670621435246\n",
      "1.2704837 | 1.2702617739350768\n",
      "0.2395482 | 0.24035217277824272\n",
      "0.7860428 | 0.7881011902353041\n",
      "1.2905813 | 1.2890943027903075\n",
      "0.16552472 | 0.17108484670194324\n",
      "0.5799036 | 0.5965293124946907\n",
      "1.3107498 | 1.3185755879825978\n",
      "0.088804245 | 0.058377608259430724\n",
      "0.3315584 | 0.22328659759944824\n",
      "0.9964407 | 0.7435756763951792\n",
      "1.0070806 | 1.315588346001072\n",
      "0.9856885 | 0.07003529560277899\n",
      "1.0280086 | 0.26542635452061003\n",
      "0.9416294 | 0.8503519690601384\n",
      "1.1065198 | 1.2321124623871897\n",
      "0.7529209 | 0.37414648963928676\n",
      "1.3110139 | 1.0766291714289444\n",
      "0.0877831 | 0.8291255674004515\n",
      "0.3280148 | 1.2541546500504441\n",
      "0.9892781 | 0.29790694147232066\n",
      "1.021099 | 0.9253821285571046\n",
      "0.95646656 | 1.1325322626697856\n",
      "1.0813814 | 0.6822410727153098\n",
      "0.81736827 | 1.3326056469620293\n",
      "1.2652004 | 0.0029091569028512065\n",
      "0.25860548 | 0.011611238029748606\n"
     ]
    }
   ],
   "source": [
    "println(\"Float32: | Float64:\")\n",
    "for i in 1:40\n",
    "    println(arr1[i], \" | \", arr3[i])\n",
    "end"
   ]
  },
  {
   "cell_type": "markdown",
   "metadata": {},
   "source": [
    "Ostatnie wyniki to 0.25860548 (Float32) oraz 0.011611238029748606 (Float64). Tym razem różnice w wynikach są spowodowane zastosowaniem różnych arytmetyk, które pozwalają na zapamiętanie różnej liczby cyfr znaczących. Do pewnego momentu różnice te nie są znaczące, jednak wraz z kolejnymi iteracjami błąd ten propaguje się i narasta, dając ostatecznie bardzo różne wyniki. W obu przypadkach a) i b) widzimy efekty niestabilnego procesu numerycznego."
   ]
  },
  {
   "cell_type": "markdown",
   "metadata": {},
   "source": [
    "## Zadanie 6."
   ]
  },
  {
   "cell_type": "markdown",
   "metadata": {},
   "source": [
    "W zadaniu zostaną porównane wyniki otrzymane dla danego równania rekurencyjnego i różnych wartości wejściowych."
   ]
  },
  {
   "cell_type": "code",
   "execution_count": 23,
   "metadata": {},
   "outputs": [
    {
     "data": {
      "text/plain": [
       "7-element Array{Array{Float64,1},1}:\n",
       " [-2.0, 1.0]\n",
       " [-2.0, 2.0]\n",
       " [-2.0, 1.99999999999999]\n",
       " [-1.0, 1.0]\n",
       " [-1.0, -1.0]\n",
       " [-1.0, 0.75]\n",
       " [-1.0, 0.25]"
      ]
     },
     "execution_count": 23,
     "metadata": {},
     "output_type": "execute_result"
    }
   ],
   "source": [
    "Data = [\n",
    "    [-2,1],\n",
    "    [-2,2],\n",
    "    [-2,1.99999999999999],\n",
    "    [-1,1],\n",
    "    [-1,-1],\n",
    "    [-1,0.75],\n",
    "    [-1,0.25],\n",
    "]"
   ]
  },
  {
   "cell_type": "markdown",
   "metadata": {},
   "source": [
    "Poniższa procedura generuje i zapisuje wykresy funkcji w plikach 1-7.png. Wyświetlany wykres jest jednym z wygenerowanych wykresów. Poniżej znajdują się wczytane wszystkie wykresy oraz ich interpretacja."
   ]
  },
  {
   "cell_type": "code",
   "execution_count": 24,
   "metadata": {},
   "outputs": [
    {
     "name": "stdout",
     "output_type": "stream",
     "text": [
      "c = -2.0 x = 1.0\n",
      "c = -2.0 x = 2.0\n",
      "c = -2.0 x = 1.99999999999999\n",
      "c = -1.0 x = 1.0\n",
      "c = -1.0 x = -1.0\n",
      "c = -1.0 x = 0.75\n"
     ]
    },
    {
     "data": {
      "image/png": "[encoded data removed]",
      "text/plain": [
       "Figure(PyObject <Figure size 640x480 with 1 Axes>)"
      ]
     },
     "metadata": {},
     "output_type": "display_data"
    },
    {
     "name": "stdout",
     "output_type": "stream",
     "text": [
      "c = -1.0 x = 0.25\n"
     ]
    }
   ],
   "source": [
    "using PyPlot\n",
    "ioff()\n",
    "iter = 1\n",
    "for data in Data\n",
    "    println(\"c = \", data[1], \" x = \", data[2])\n",
    "    x = data[2]\n",
    "    c = data[1]\n",
    "    values = []\n",
    "    for i in 1:40\n",
    "        x = x^2 + c\n",
    "        push!(values,x)\n",
    "    end\n",
    "    clf()\n",
    "    title(data)\n",
    "    plot(1:40, values)\n",
    "    name = string(iter, \".png\")\n",
    "    savefig(name)\n",
    "    iter += 1\n",
    "end"
   ]
  },
  {
   "cell_type": "markdown",
   "metadata": {},
   "source": [
    "Wykresy:"
   ]
  },
  {
   "cell_type": "markdown",
   "metadata": {},
   "source": [
    "![](1.png)\n",
    "![](2.png)\n",
    "![](3.png)\n",
    "![](4.png)\n",
    "![](5.png)\n",
    "![](6.png)\n",
    "![](7.png)"
   ]
  },
  {
   "cell_type": "markdown",
   "metadata": {},
   "source": [
    "Wykresy 1 i 2 reprezentują stałe wartości, wartości na wykresie 3 wahają się w przedziale $[-2.2]$, wykresy 4-7 to regularne oscylacje od -1 do 0. Różne dane wejściowe dla równania rekurencyjnego dają nie tylko różne wyniki, ale też wpływają na popełniane błędy podczas obliczeń. W przypadku 1 i 2 nie ma widocznych błędów, w przypadku 3 wartości zdają się być wręcz losowe, w przypadku 4 i 5 wartości od początku oscylują od 0 do -1, w 6 i 7 dopiero po kilku iteracjach. Z powyższych przypadków jedynie 3. zdaje się być niestablinym z punktu widzenia procesu numerycznego. W przypadkach 1,2,4,5 wartości są reprezentowane dokładnie, stąd wykresy są od początku stałe lub okresowe. W przypadkach 6,7 wykresy są zgodne z oczekiwanymi granicami i je osiągają, ze względu na skończoną precyjzę."
   ]
  },
  {
   "cell_type": "code",
   "execution_count": null,
   "metadata": {},
   "outputs": [],
   "source": []
  }
 ],
 "metadata": {
  "kernelspec": {
   "display_name": "Julia 1.4.1",
   "language": "julia",
   "name": "julia-1.4"
  },
  "language_info": {
   "file_extension": ".jl",
   "mimetype": "application/julia",
   "name": "julia",
   "version": "1.4.1"
  }
 },
 "nbformat": 4,
 "nbformat_minor": 4
}
